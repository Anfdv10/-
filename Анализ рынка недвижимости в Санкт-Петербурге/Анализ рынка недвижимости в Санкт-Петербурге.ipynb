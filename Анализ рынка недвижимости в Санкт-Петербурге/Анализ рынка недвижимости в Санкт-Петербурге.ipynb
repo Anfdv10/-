{
 "cells": [
  {
   "cell_type": "markdown",
   "metadata": {},
   "source": [
    "# Исследование объявлений о продаже квартир\n",
    "\n",
    "Необходимо на осовании данных сервиса Яндекс.Недвижимость определить рыночную стоимость объектов недвижимости и типичные параметры квартир"
   ]
  },
  {
   "cell_type": "markdown",
   "metadata": {},
   "source": [
    "### Откройте файл с данными и изучите общую информацию. "
   ]
  },
  {
   "cell_type": "code",
   "execution_count": 1,
   "metadata": {},
   "outputs": [],
   "source": [
    "import pandas as pd\n",
    "import matplotlib.pyplot as plt \n",
    "import seaborn\n",
    "pd.set_option('display.max_columns', None)"
   ]
  },
  {
   "cell_type": "code",
   "execution_count": 2,
   "metadata": {},
   "outputs": [
    {
     "data": {
      "text/html": [
       "<div>\n",
       "<style scoped>\n",
       "    .dataframe tbody tr th:only-of-type {\n",
       "        vertical-align: middle;\n",
       "    }\n",
       "\n",
       "    .dataframe tbody tr th {\n",
       "        vertical-align: top;\n",
       "    }\n",
       "\n",
       "    .dataframe thead th {\n",
       "        text-align: right;\n",
       "    }\n",
       "</style>\n",
       "<table border=\"1\" class=\"dataframe\">\n",
       "  <thead>\n",
       "    <tr style=\"text-align: right;\">\n",
       "      <th></th>\n",
       "      <th>total_images</th>\n",
       "      <th>last_price</th>\n",
       "      <th>total_area</th>\n",
       "      <th>first_day_exposition</th>\n",
       "      <th>rooms</th>\n",
       "      <th>ceiling_height</th>\n",
       "      <th>floors_total</th>\n",
       "      <th>living_area</th>\n",
       "      <th>floor</th>\n",
       "      <th>is_apartment</th>\n",
       "      <th>studio</th>\n",
       "      <th>open_plan</th>\n",
       "      <th>kitchen_area</th>\n",
       "      <th>balcony</th>\n",
       "      <th>locality_name</th>\n",
       "      <th>airports_nearest</th>\n",
       "      <th>cityCenters_nearest</th>\n",
       "      <th>parks_around3000</th>\n",
       "      <th>parks_nearest</th>\n",
       "      <th>ponds_around3000</th>\n",
       "      <th>ponds_nearest</th>\n",
       "      <th>days_exposition</th>\n",
       "    </tr>\n",
       "  </thead>\n",
       "  <tbody>\n",
       "    <tr>\n",
       "      <th>0</th>\n",
       "      <td>20</td>\n",
       "      <td>13000000.0</td>\n",
       "      <td>108.00</td>\n",
       "      <td>2019-03-07T00:00:00</td>\n",
       "      <td>3</td>\n",
       "      <td>2.70</td>\n",
       "      <td>16.0</td>\n",
       "      <td>51.00</td>\n",
       "      <td>8</td>\n",
       "      <td>NaN</td>\n",
       "      <td>False</td>\n",
       "      <td>False</td>\n",
       "      <td>25.00</td>\n",
       "      <td>NaN</td>\n",
       "      <td>Санкт-Петербург</td>\n",
       "      <td>18863.0</td>\n",
       "      <td>16028.0</td>\n",
       "      <td>1.0</td>\n",
       "      <td>482.0</td>\n",
       "      <td>2.0</td>\n",
       "      <td>755.0</td>\n",
       "      <td>NaN</td>\n",
       "    </tr>\n",
       "    <tr>\n",
       "      <th>1</th>\n",
       "      <td>7</td>\n",
       "      <td>3350000.0</td>\n",
       "      <td>40.40</td>\n",
       "      <td>2018-12-04T00:00:00</td>\n",
       "      <td>1</td>\n",
       "      <td>NaN</td>\n",
       "      <td>11.0</td>\n",
       "      <td>18.60</td>\n",
       "      <td>1</td>\n",
       "      <td>NaN</td>\n",
       "      <td>False</td>\n",
       "      <td>False</td>\n",
       "      <td>11.00</td>\n",
       "      <td>2.0</td>\n",
       "      <td>посёлок Шушары</td>\n",
       "      <td>12817.0</td>\n",
       "      <td>18603.0</td>\n",
       "      <td>0.0</td>\n",
       "      <td>NaN</td>\n",
       "      <td>0.0</td>\n",
       "      <td>NaN</td>\n",
       "      <td>81.0</td>\n",
       "    </tr>\n",
       "    <tr>\n",
       "      <th>2</th>\n",
       "      <td>10</td>\n",
       "      <td>5196000.0</td>\n",
       "      <td>56.00</td>\n",
       "      <td>2015-08-20T00:00:00</td>\n",
       "      <td>2</td>\n",
       "      <td>NaN</td>\n",
       "      <td>5.0</td>\n",
       "      <td>34.30</td>\n",
       "      <td>4</td>\n",
       "      <td>NaN</td>\n",
       "      <td>False</td>\n",
       "      <td>False</td>\n",
       "      <td>8.30</td>\n",
       "      <td>0.0</td>\n",
       "      <td>Санкт-Петербург</td>\n",
       "      <td>21741.0</td>\n",
       "      <td>13933.0</td>\n",
       "      <td>1.0</td>\n",
       "      <td>90.0</td>\n",
       "      <td>2.0</td>\n",
       "      <td>574.0</td>\n",
       "      <td>558.0</td>\n",
       "    </tr>\n",
       "    <tr>\n",
       "      <th>3</th>\n",
       "      <td>0</td>\n",
       "      <td>64900000.0</td>\n",
       "      <td>159.00</td>\n",
       "      <td>2015-07-24T00:00:00</td>\n",
       "      <td>3</td>\n",
       "      <td>NaN</td>\n",
       "      <td>14.0</td>\n",
       "      <td>NaN</td>\n",
       "      <td>9</td>\n",
       "      <td>NaN</td>\n",
       "      <td>False</td>\n",
       "      <td>False</td>\n",
       "      <td>NaN</td>\n",
       "      <td>0.0</td>\n",
       "      <td>Санкт-Петербург</td>\n",
       "      <td>28098.0</td>\n",
       "      <td>6800.0</td>\n",
       "      <td>2.0</td>\n",
       "      <td>84.0</td>\n",
       "      <td>3.0</td>\n",
       "      <td>234.0</td>\n",
       "      <td>424.0</td>\n",
       "    </tr>\n",
       "    <tr>\n",
       "      <th>4</th>\n",
       "      <td>2</td>\n",
       "      <td>10000000.0</td>\n",
       "      <td>100.00</td>\n",
       "      <td>2018-06-19T00:00:00</td>\n",
       "      <td>2</td>\n",
       "      <td>3.03</td>\n",
       "      <td>14.0</td>\n",
       "      <td>32.00</td>\n",
       "      <td>13</td>\n",
       "      <td>NaN</td>\n",
       "      <td>False</td>\n",
       "      <td>False</td>\n",
       "      <td>41.00</td>\n",
       "      <td>NaN</td>\n",
       "      <td>Санкт-Петербург</td>\n",
       "      <td>31856.0</td>\n",
       "      <td>8098.0</td>\n",
       "      <td>2.0</td>\n",
       "      <td>112.0</td>\n",
       "      <td>1.0</td>\n",
       "      <td>48.0</td>\n",
       "      <td>121.0</td>\n",
       "    </tr>\n",
       "    <tr>\n",
       "      <th>5</th>\n",
       "      <td>10</td>\n",
       "      <td>2890000.0</td>\n",
       "      <td>30.40</td>\n",
       "      <td>2018-09-10T00:00:00</td>\n",
       "      <td>1</td>\n",
       "      <td>NaN</td>\n",
       "      <td>12.0</td>\n",
       "      <td>14.40</td>\n",
       "      <td>5</td>\n",
       "      <td>NaN</td>\n",
       "      <td>False</td>\n",
       "      <td>False</td>\n",
       "      <td>9.10</td>\n",
       "      <td>NaN</td>\n",
       "      <td>городской посёлок Янино-1</td>\n",
       "      <td>NaN</td>\n",
       "      <td>NaN</td>\n",
       "      <td>NaN</td>\n",
       "      <td>NaN</td>\n",
       "      <td>NaN</td>\n",
       "      <td>NaN</td>\n",
       "      <td>55.0</td>\n",
       "    </tr>\n",
       "    <tr>\n",
       "      <th>6</th>\n",
       "      <td>6</td>\n",
       "      <td>3700000.0</td>\n",
       "      <td>37.30</td>\n",
       "      <td>2017-11-02T00:00:00</td>\n",
       "      <td>1</td>\n",
       "      <td>NaN</td>\n",
       "      <td>26.0</td>\n",
       "      <td>10.60</td>\n",
       "      <td>6</td>\n",
       "      <td>NaN</td>\n",
       "      <td>False</td>\n",
       "      <td>False</td>\n",
       "      <td>14.40</td>\n",
       "      <td>1.0</td>\n",
       "      <td>посёлок Парголово</td>\n",
       "      <td>52996.0</td>\n",
       "      <td>19143.0</td>\n",
       "      <td>0.0</td>\n",
       "      <td>NaN</td>\n",
       "      <td>0.0</td>\n",
       "      <td>NaN</td>\n",
       "      <td>155.0</td>\n",
       "    </tr>\n",
       "    <tr>\n",
       "      <th>7</th>\n",
       "      <td>5</td>\n",
       "      <td>7915000.0</td>\n",
       "      <td>71.60</td>\n",
       "      <td>2019-04-18T00:00:00</td>\n",
       "      <td>2</td>\n",
       "      <td>NaN</td>\n",
       "      <td>24.0</td>\n",
       "      <td>NaN</td>\n",
       "      <td>22</td>\n",
       "      <td>NaN</td>\n",
       "      <td>False</td>\n",
       "      <td>False</td>\n",
       "      <td>18.90</td>\n",
       "      <td>2.0</td>\n",
       "      <td>Санкт-Петербург</td>\n",
       "      <td>23982.0</td>\n",
       "      <td>11634.0</td>\n",
       "      <td>0.0</td>\n",
       "      <td>NaN</td>\n",
       "      <td>0.0</td>\n",
       "      <td>NaN</td>\n",
       "      <td>NaN</td>\n",
       "    </tr>\n",
       "    <tr>\n",
       "      <th>8</th>\n",
       "      <td>20</td>\n",
       "      <td>2900000.0</td>\n",
       "      <td>33.16</td>\n",
       "      <td>2018-05-23T00:00:00</td>\n",
       "      <td>1</td>\n",
       "      <td>NaN</td>\n",
       "      <td>27.0</td>\n",
       "      <td>15.43</td>\n",
       "      <td>26</td>\n",
       "      <td>NaN</td>\n",
       "      <td>False</td>\n",
       "      <td>False</td>\n",
       "      <td>8.81</td>\n",
       "      <td>NaN</td>\n",
       "      <td>посёлок Мурино</td>\n",
       "      <td>NaN</td>\n",
       "      <td>NaN</td>\n",
       "      <td>NaN</td>\n",
       "      <td>NaN</td>\n",
       "      <td>NaN</td>\n",
       "      <td>NaN</td>\n",
       "      <td>189.0</td>\n",
       "    </tr>\n",
       "    <tr>\n",
       "      <th>9</th>\n",
       "      <td>18</td>\n",
       "      <td>5400000.0</td>\n",
       "      <td>61.00</td>\n",
       "      <td>2017-02-26T00:00:00</td>\n",
       "      <td>3</td>\n",
       "      <td>2.50</td>\n",
       "      <td>9.0</td>\n",
       "      <td>43.60</td>\n",
       "      <td>7</td>\n",
       "      <td>NaN</td>\n",
       "      <td>False</td>\n",
       "      <td>False</td>\n",
       "      <td>6.50</td>\n",
       "      <td>2.0</td>\n",
       "      <td>Санкт-Петербург</td>\n",
       "      <td>50898.0</td>\n",
       "      <td>15008.0</td>\n",
       "      <td>0.0</td>\n",
       "      <td>NaN</td>\n",
       "      <td>0.0</td>\n",
       "      <td>NaN</td>\n",
       "      <td>289.0</td>\n",
       "    </tr>\n",
       "  </tbody>\n",
       "</table>\n",
       "</div>"
      ],
      "text/plain": [
       "   total_images  last_price  total_area first_day_exposition  rooms  \\\n",
       "0            20  13000000.0      108.00  2019-03-07T00:00:00      3   \n",
       "1             7   3350000.0       40.40  2018-12-04T00:00:00      1   \n",
       "2            10   5196000.0       56.00  2015-08-20T00:00:00      2   \n",
       "3             0  64900000.0      159.00  2015-07-24T00:00:00      3   \n",
       "4             2  10000000.0      100.00  2018-06-19T00:00:00      2   \n",
       "5            10   2890000.0       30.40  2018-09-10T00:00:00      1   \n",
       "6             6   3700000.0       37.30  2017-11-02T00:00:00      1   \n",
       "7             5   7915000.0       71.60  2019-04-18T00:00:00      2   \n",
       "8            20   2900000.0       33.16  2018-05-23T00:00:00      1   \n",
       "9            18   5400000.0       61.00  2017-02-26T00:00:00      3   \n",
       "\n",
       "   ceiling_height  floors_total  living_area  floor is_apartment  studio  \\\n",
       "0            2.70          16.0        51.00      8          NaN   False   \n",
       "1             NaN          11.0        18.60      1          NaN   False   \n",
       "2             NaN           5.0        34.30      4          NaN   False   \n",
       "3             NaN          14.0          NaN      9          NaN   False   \n",
       "4            3.03          14.0        32.00     13          NaN   False   \n",
       "5             NaN          12.0        14.40      5          NaN   False   \n",
       "6             NaN          26.0        10.60      6          NaN   False   \n",
       "7             NaN          24.0          NaN     22          NaN   False   \n",
       "8             NaN          27.0        15.43     26          NaN   False   \n",
       "9            2.50           9.0        43.60      7          NaN   False   \n",
       "\n",
       "   open_plan  kitchen_area  balcony              locality_name  \\\n",
       "0      False         25.00      NaN            Санкт-Петербург   \n",
       "1      False         11.00      2.0             посёлок Шушары   \n",
       "2      False          8.30      0.0            Санкт-Петербург   \n",
       "3      False           NaN      0.0            Санкт-Петербург   \n",
       "4      False         41.00      NaN            Санкт-Петербург   \n",
       "5      False          9.10      NaN  городской посёлок Янино-1   \n",
       "6      False         14.40      1.0          посёлок Парголово   \n",
       "7      False         18.90      2.0            Санкт-Петербург   \n",
       "8      False          8.81      NaN             посёлок Мурино   \n",
       "9      False          6.50      2.0            Санкт-Петербург   \n",
       "\n",
       "   airports_nearest  cityCenters_nearest  parks_around3000  parks_nearest  \\\n",
       "0           18863.0              16028.0               1.0          482.0   \n",
       "1           12817.0              18603.0               0.0            NaN   \n",
       "2           21741.0              13933.0               1.0           90.0   \n",
       "3           28098.0               6800.0               2.0           84.0   \n",
       "4           31856.0               8098.0               2.0          112.0   \n",
       "5               NaN                  NaN               NaN            NaN   \n",
       "6           52996.0              19143.0               0.0            NaN   \n",
       "7           23982.0              11634.0               0.0            NaN   \n",
       "8               NaN                  NaN               NaN            NaN   \n",
       "9           50898.0              15008.0               0.0            NaN   \n",
       "\n",
       "   ponds_around3000  ponds_nearest  days_exposition  \n",
       "0               2.0          755.0              NaN  \n",
       "1               0.0            NaN             81.0  \n",
       "2               2.0          574.0            558.0  \n",
       "3               3.0          234.0            424.0  \n",
       "4               1.0           48.0            121.0  \n",
       "5               NaN            NaN             55.0  \n",
       "6               0.0            NaN            155.0  \n",
       "7               0.0            NaN              NaN  \n",
       "8               NaN            NaN            189.0  \n",
       "9               0.0            NaN            289.0  "
      ]
     },
     "metadata": {},
     "output_type": "display_data"
    }
   ],
   "source": [
    "df = pd.read_csv('https://code.s3.yandex.net/datasets/real_estate_data.csv', sep='\\t')\n",
    "\n",
    "display(df.head(10))"
   ]
  },
  {
   "cell_type": "code",
   "execution_count": 3,
   "metadata": {},
   "outputs": [
    {
     "data": {
      "text/plain": [
       "(23699, 22)"
      ]
     },
     "metadata": {},
     "output_type": "display_data"
    },
    {
     "name": "stdout",
     "output_type": "stream",
     "text": [
      "<class 'pandas.core.frame.DataFrame'>\n",
      "RangeIndex: 23699 entries, 0 to 23698\n",
      "Data columns (total 22 columns):\n",
      " #   Column                Non-Null Count  Dtype  \n",
      "---  ------                --------------  -----  \n",
      " 0   total_images          23699 non-null  int64  \n",
      " 1   last_price            23699 non-null  float64\n",
      " 2   total_area            23699 non-null  float64\n",
      " 3   first_day_exposition  23699 non-null  object \n",
      " 4   rooms                 23699 non-null  int64  \n",
      " 5   ceiling_height        14504 non-null  float64\n",
      " 6   floors_total          23613 non-null  float64\n",
      " 7   living_area           21796 non-null  float64\n",
      " 8   floor                 23699 non-null  int64  \n",
      " 9   is_apartment          2775 non-null   object \n",
      " 10  studio                23699 non-null  bool   \n",
      " 11  open_plan             23699 non-null  bool   \n",
      " 12  kitchen_area          21421 non-null  float64\n",
      " 13  balcony               12180 non-null  float64\n",
      " 14  locality_name         23650 non-null  object \n",
      " 15  airports_nearest      18157 non-null  float64\n",
      " 16  cityCenters_nearest   18180 non-null  float64\n",
      " 17  parks_around3000      18181 non-null  float64\n",
      " 18  parks_nearest         8079 non-null   float64\n",
      " 19  ponds_around3000      18181 non-null  float64\n",
      " 20  ponds_nearest         9110 non-null   float64\n",
      " 21  days_exposition       20518 non-null  float64\n",
      "dtypes: bool(2), float64(14), int64(3), object(3)\n",
      "memory usage: 3.7+ MB\n"
     ]
    },
    {
     "data": {
      "text/plain": [
       "None"
      ]
     },
     "metadata": {},
     "output_type": "display_data"
    }
   ],
   "source": [
    "display(df.shape)\n",
    "display(df.info())"
   ]
  },
  {
   "cell_type": "markdown",
   "metadata": {},
   "source": [
    "Булевый тип данных у столбцов studio, open_plan\n",
    "\n",
    "Строковый у столбцов first_day_exposition, is_apartment, locality_name"
   ]
  },
  {
   "cell_type": "code",
   "execution_count": 4,
   "metadata": {
    "scrolled": false
   },
   "outputs": [
    {
     "data": {
      "image/png": "[encoded data removed]",
      "text/plain": [
       "<Figure size 1440x1440 with 20 Axes>"
      ]
     },
     "metadata": {
      "needs_background": "light"
     },
     "output_type": "display_data"
    }
   ],
   "source": [
    "df.hist(figsize=(20,20), bins=50);"
   ]
  },
  {
   "cell_type": "markdown",
   "metadata": {},
   "source": [
    "По данным на текущем этапе можно сделать вывод,что:\n",
    "1) Количество фотографий квартиры в среднем составляет ок. 10. Варьируется от 0 до 20, более 20 фотографий встречается в единичных случаях\n",
    "\n",
    "2) Вывод о цене по данному графику сделать сложно, необходим дополнительный.\n",
    "\n",
    "3) Общая площадь в среднем ок. 50 кв.м. Минимальная примерно 20, максимальная ок. 250, но площадь большинства квартир не превышает 200 кв.м. График необходимо укрупнить\n",
    "\n",
    "4) Большинство квартир 2х и 3х комнатные. Основная часть квартир находится в пределах от 1 до 5 комнат, 6 и 7 комнатные квартиры единичные\n",
    "\n",
    "5) График не позволяет сделать вывод о высоте потолков\n",
    "\n",
    "6) Общее количество этажей колеблется от 1 до 28. Есть показатель примерно на уровне 35 этажей. большее число квартир находится на 5 этаже\n",
    "\n",
    "7) Жилая площадь составляет от 20 до 180 кв.м. Подъемы на уровне 35 и 50 кв.м\n",
    "\n",
    "8) Этаж квартиры соответствует распределению Пуассона. \n",
    "\n",
    "9) Площадь кухни варьируется от 3 до 30 кв.м. Подъем на уровнре 10 кв.м. Есть квартиры с кухней более 40 кв.м\n",
    "\n",
    "10) В большинстве квартир есть 1 балкон или балкона вообще нет. Есть квартиры с 4 и 5 балконами\n",
    "\n",
    "11) большинство квартир расположено в от 10 до 80 км от аэропорта. В среднем - в 25 км. Есть подъемы на уровне 15 и 35 км\n",
    "\n",
    "12) Большинство квартир расположены от 0 до 40км от центра города. Среднее - примерно 17 км.\n",
    "\n",
    "13) Чаще всего в округе нет парка. Более 3 парков не встречается\n",
    "\n",
    "14) Если парк есть, то он в среднем расположен в 500м от дома\n",
    "\n",
    "15) Чаще всего в округе нет водоема. Более 3 водоемов не встречается\n",
    "\n",
    "16) Распределение расстояния до ближайшего водоема стремится к нормальному. В среднем - в 500м\n",
    "\n",
    "17) Большинство объявлений было размещено ок 70 дней. Максимум - 1350"
   ]
  },
  {
   "cell_type": "code",
   "execution_count": 5,
   "metadata": {
    "scrolled": true
   },
   "outputs": [
    {
     "data": {
      "text/plain": [
       "<AxesSubplot:>"
      ]
     },
     "execution_count": 5,
     "metadata": {},
     "output_type": "execute_result"
    },
    {
     "data": {
      "image/png": "[encoded data removed]",
      "text/plain": [
       "<Figure size 432x288 with 1 Axes>"
      ]
     },
     "metadata": {
      "needs_background": "light"
     },
     "output_type": "display_data"
    }
   ],
   "source": [
    "df['last_price'].hist(bins=70, range=(1000000, 30000000))"
   ]
  },
  {
   "cell_type": "markdown",
   "metadata": {},
   "source": [
    "Средняя цена составляет примерно 3,5 млн. Цена варьируется от 1,5 до 20 млн\n",
    "\n",
    "Высота потолков в среднем составляет 2,5 м"
   ]
  },
  {
   "cell_type": "markdown",
   "metadata": {},
   "source": [
    "### Предобработка данных"
   ]
  },
  {
   "cell_type": "code",
   "execution_count": 6,
   "metadata": {
    "scrolled": false
   },
   "outputs": [
    {
     "data": {
      "text/plain": [
       "total_images                0\n",
       "last_price                  0\n",
       "total_area                  0\n",
       "first_day_exposition        0\n",
       "rooms                       0\n",
       "ceiling_height           9195\n",
       "floors_total               86\n",
       "living_area              1903\n",
       "floor                       0\n",
       "is_apartment            20924\n",
       "studio                      0\n",
       "open_plan                   0\n",
       "kitchen_area             2278\n",
       "balcony                 11519\n",
       "locality_name              49\n",
       "airports_nearest         5542\n",
       "cityCenters_nearest      5519\n",
       "parks_around3000         5518\n",
       "parks_nearest           15620\n",
       "ponds_around3000         5518\n",
       "ponds_nearest           14589\n",
       "days_exposition          3181\n",
       "dtype: int64"
      ]
     },
     "execution_count": 6,
     "metadata": {},
     "output_type": "execute_result"
    }
   ],
   "source": [
    "df.isna().sum()"
   ]
  },
  {
   "cell_type": "markdown",
   "metadata": {},
   "source": [
    "#### Изменение типа данных"
   ]
  },
  {
   "cell_type": "markdown",
   "metadata": {},
   "source": [
    "Изменяем типы данных в 2 категориях: дата первой публикации и апартаменты. В первом случае меняем на datetime, во втором - на bool"
   ]
  },
  {
   "cell_type": "code",
   "execution_count": 7,
   "metadata": {},
   "outputs": [],
   "source": [
    "df['first_day_exposition'] = pd.to_datetime(df['first_day_exposition'], format='%Y-%m-%dT%H:%M:%S')"
   ]
  },
  {
   "cell_type": "code",
   "execution_count": 8,
   "metadata": {},
   "outputs": [
    {
     "data": {
      "text/plain": [
       "array([nan, False, True], dtype=object)"
      ]
     },
     "metadata": {},
     "output_type": "display_data"
    }
   ],
   "source": [
    "display(df['is_apartment'].unique())"
   ]
  },
  {
   "cell_type": "code",
   "execution_count": 9,
   "metadata": {},
   "outputs": [],
   "source": [
    "df['is_apartment']=df['is_apartment'].fillna('False')"
   ]
  },
  {
   "cell_type": "code",
   "execution_count": 10,
   "metadata": {},
   "outputs": [],
   "source": [
    "df['is_apartment']= df['is_apartment'].astype('bool')"
   ]
  },
  {
   "cell_type": "markdown",
   "metadata": {},
   "source": [
    "#### Пропуски в данных о высоте потолков"
   ]
  },
  {
   "cell_type": "code",
   "execution_count": 11,
   "metadata": {},
   "outputs": [
    {
     "data": {
      "text/plain": [
       "9195"
      ]
     },
     "execution_count": 11,
     "metadata": {},
     "output_type": "execute_result"
    }
   ],
   "source": [
    "df['ceiling_height'].isna().sum()"
   ]
  },
  {
   "cell_type": "code",
   "execution_count": 12,
   "metadata": {},
   "outputs": [
    {
     "data": {
      "text/plain": [
       "count    14504.000000\n",
       "mean         2.771499\n",
       "std          1.261056\n",
       "min          1.000000\n",
       "25%          2.520000\n",
       "50%          2.650000\n",
       "75%          2.800000\n",
       "max        100.000000\n",
       "Name: ceiling_height, dtype: float64"
      ]
     },
     "metadata": {},
     "output_type": "display_data"
    }
   ],
   "source": [
    "display(df['ceiling_height'].describe())"
   ]
  },
  {
   "cell_type": "code",
   "execution_count": 13,
   "metadata": {
    "scrolled": true
   },
   "outputs": [
    {
     "data": {
      "text/plain": [
       "<AxesSubplot:>"
      ]
     },
     "execution_count": 13,
     "metadata": {},
     "output_type": "execute_result"
    },
    {
     "data": {
      "image/png": "[encoded data removed]",
      "text/plain": [
       "<Figure size 432x288 with 1 Axes>"
      ]
     },
     "metadata": {
      "needs_background": "light"
     },
     "output_type": "display_data"
    }
   ],
   "source": [
    "df['ceiling_height'].hist(bins=50, range=(2, 4.5))"
   ]
  },
  {
   "cell_type": "code",
   "execution_count": 14,
   "metadata": {},
   "outputs": [
    {
     "data": {
      "text/plain": [
       "<AxesSubplot:>"
      ]
     },
     "execution_count": 14,
     "metadata": {},
     "output_type": "execute_result"
    },
    {
     "data": {
      "image/png": "[encoded data removed]",
      "text/plain": [
       "<Figure size 432x288 with 1 Axes>"
      ]
     },
     "metadata": {
      "needs_background": "light"
     },
     "output_type": "display_data"
    }
   ],
   "source": [
    "df['ceiling_height'].hist(bins=50, range=(20,40))"
   ]
  },
  {
   "cell_type": "markdown",
   "metadata": {},
   "source": [
    "Большинство квартир имеет высоту потолков от 2,5 до 2,8 м. Минимальное значение - 1м. Максимальное - 100м. Скорее всего, это выбросы.\n",
    "Пропущенные значения можно заполнить медианой"
   ]
  },
  {
   "cell_type": "code",
   "execution_count": 15,
   "metadata": {
    "scrolled": false
   },
   "outputs": [
    {
     "data": {
      "text/plain": [
       "42"
      ]
     },
     "metadata": {},
     "output_type": "display_data"
    }
   ],
   "source": [
    "display(df.loc[df['ceiling_height']>4.5, 'total_images'].count())"
   ]
  },
  {
   "cell_type": "code",
   "execution_count": 16,
   "metadata": {
    "scrolled": true
   },
   "outputs": [
    {
     "data": {
      "text/plain": [
       "21"
      ]
     },
     "metadata": {},
     "output_type": "display_data"
    }
   ],
   "source": [
    "display(df.loc[df['ceiling_height']<2.4, 'total_images'].count())"
   ]
  },
  {
   "cell_type": "markdown",
   "metadata": {},
   "source": [
    "Скорее всего, высота потолков более 20м - техническая ошибка, пропук разделительной запятой. Это можно исправить, разделив значения на 10."
   ]
  },
  {
   "cell_type": "code",
   "execution_count": 17,
   "metadata": {},
   "outputs": [],
   "source": [
    "df['ceiling_height'] = df['ceiling_height'].where(df['ceiling_height']<20, df['ceiling_height']/10)"
   ]
  },
  {
   "cell_type": "markdown",
   "metadata": {},
   "source": [
    "Квартиры с высотой потолков менее 2,4 и более 4.5 м можно считать выбросами и их следует удалить."
   ]
  },
  {
   "cell_type": "code",
   "execution_count": 18,
   "metadata": {
    "scrolled": true
   },
   "outputs": [
    {
     "data": {
      "text/plain": [
       "23"
      ]
     },
     "metadata": {},
     "output_type": "display_data"
    }
   ],
   "source": [
    "display(df.loc[df['ceiling_height']<2.4, 'total_images'].count())"
   ]
  },
  {
   "cell_type": "code",
   "execution_count": 19,
   "metadata": {
    "scrolled": false
   },
   "outputs": [
    {
     "data": {
      "text/plain": [
       "53"
      ]
     },
     "metadata": {},
     "output_type": "display_data"
    }
   ],
   "source": [
    "display(df.loc[df['ceiling_height']>4, 'total_images'].count())"
   ]
  },
  {
   "cell_type": "code",
   "execution_count": 20,
   "metadata": {},
   "outputs": [],
   "source": [
    "df=df.query('2.4<=ceiling_height<=4 or ceiling_height.isna()')"
   ]
  },
  {
   "cell_type": "markdown",
   "metadata": {},
   "source": [
    "Пропущенные значения можно заполнить медианой"
   ]
  },
  {
   "cell_type": "code",
   "execution_count": 21,
   "metadata": {},
   "outputs": [],
   "source": [
    "value = df['ceiling_height'].median()\n",
    "df['ceiling_height'] = df['ceiling_height'].fillna(value)"
   ]
  },
  {
   "cell_type": "code",
   "execution_count": 22,
   "metadata": {},
   "outputs": [
    {
     "data": {
      "text/plain": [
       "<AxesSubplot:>"
      ]
     },
     "execution_count": 22,
     "metadata": {},
     "output_type": "execute_result"
    },
    {
     "data": {
      "image/png": "[encoded data removed]",
      "text/plain": [
       "<Figure size 432x288 with 1 Axes>"
      ]
     },
     "metadata": {
      "needs_background": "light"
     },
     "output_type": "display_data"
    }
   ],
   "source": [
    "df['ceiling_height'].hist(bins=70)"
   ]
  },
  {
   "cell_type": "code",
   "execution_count": 23,
   "metadata": {
    "scrolled": true
   },
   "outputs": [
    {
     "data": {
      "text/plain": [
       "count    23623.000000\n",
       "mean         2.693781\n",
       "std          0.204084\n",
       "min          2.400000\n",
       "25%          2.600000\n",
       "50%          2.650000\n",
       "75%          2.700000\n",
       "max          4.000000\n",
       "Name: ceiling_height, dtype: float64"
      ]
     },
     "metadata": {},
     "output_type": "display_data"
    }
   ],
   "source": [
    "display(df['ceiling_height'].describe())"
   ]
  },
  {
   "cell_type": "markdown",
   "metadata": {},
   "source": [
    "#### Заполнение пропусков жилой площади помещения"
   ]
  },
  {
   "cell_type": "code",
   "execution_count": 24,
   "metadata": {
    "scrolled": true
   },
   "outputs": [
    {
     "data": {
      "text/plain": [
       "<AxesSubplot:xlabel='living_area', ylabel='total_area'>"
      ]
     },
     "execution_count": 24,
     "metadata": {},
     "output_type": "execute_result"
    },
    {
     "data": {
      "image/png": "[encoded data removed]",
      "text/plain": [
       "<Figure size 432x288 with 1 Axes>"
      ]
     },
     "metadata": {
      "needs_background": "light"
     },
     "output_type": "display_data"
    }
   ],
   "source": [
    " df.plot(x='living_area', y='total_area', kind='scatter')"
   ]
  },
  {
   "cell_type": "code",
   "execution_count": 25,
   "metadata": {
    "scrolled": false
   },
   "outputs": [
    {
     "data": {
      "text/plain": [
       "count    23623.000000\n",
       "mean        60.185309\n",
       "std         35.041768\n",
       "min         12.000000\n",
       "25%         40.000000\n",
       "50%         52.000000\n",
       "75%         69.700000\n",
       "max        900.000000\n",
       "Name: total_area, dtype: float64"
      ]
     },
     "execution_count": 25,
     "metadata": {},
     "output_type": "execute_result"
    }
   ],
   "source": [
    "df['total_area'].describe()"
   ]
  },
  {
   "cell_type": "code",
   "execution_count": 26,
   "metadata": {},
   "outputs": [
    {
     "data": {
      "text/plain": [
       "count    21729.000000\n",
       "mean        34.354676\n",
       "std         21.650407\n",
       "min          2.000000\n",
       "25%         18.600000\n",
       "50%         30.000000\n",
       "75%         42.200000\n",
       "max        409.700000\n",
       "Name: living_area, dtype: float64"
      ]
     },
     "execution_count": 26,
     "metadata": {},
     "output_type": "execute_result"
    }
   ],
   "source": [
    "df['living_area'].describe()"
   ]
  },
  {
   "cell_type": "code",
   "execution_count": 27,
   "metadata": {},
   "outputs": [
    {
     "data": {
      "text/plain": [
       "<AxesSubplot:>"
      ]
     },
     "execution_count": 27,
     "metadata": {},
     "output_type": "execute_result"
    },
    {
     "data": {
      "image/png": "[encoded data removed]",
      "text/plain": [
       "<Figure size 720x360 with 1 Axes>"
      ]
     },
     "metadata": {
      "needs_background": "light"
     },
     "output_type": "display_data"
    }
   ],
   "source": [
    "df['total_area'].hist(bins=70, range=(20,200), figsize=(10,5))"
   ]
  },
  {
   "cell_type": "code",
   "execution_count": 28,
   "metadata": {},
   "outputs": [
    {
     "data": {
      "text/plain": [
       "<AxesSubplot:>"
      ]
     },
     "execution_count": 28,
     "metadata": {},
     "output_type": "execute_result"
    },
    {
     "data": {
      "image/png": "[encoded data removed]",
      "text/plain": [
       "<Figure size 720x360 with 1 Axes>"
      ]
     },
     "metadata": {
      "needs_background": "light"
     },
     "output_type": "display_data"
    }
   ],
   "source": [
    "df['living_area'].hist(bins=70, range=(20,200), figsize=(10,5))"
   ]
  },
  {
   "cell_type": "code",
   "execution_count": 29,
   "metadata": {},
   "outputs": [
    {
     "name": "stdout",
     "output_type": "stream",
     "text": [
      "<class 'pandas.core.frame.DataFrame'>\n",
      "Int64Index: 23565 entries, 0 to 23698\n",
      "Data columns (total 22 columns):\n",
      " #   Column                Non-Null Count  Dtype         \n",
      "---  ------                --------------  -----         \n",
      " 0   total_images          23565 non-null  int64         \n",
      " 1   last_price            23565 non-null  float64       \n",
      " 2   total_area            23565 non-null  float64       \n",
      " 3   first_day_exposition  23565 non-null  datetime64[ns]\n",
      " 4   rooms                 23565 non-null  int64         \n",
      " 5   ceiling_height        23565 non-null  float64       \n",
      " 6   floors_total          23479 non-null  float64       \n",
      " 7   living_area           21689 non-null  float64       \n",
      " 8   floor                 23565 non-null  int64         \n",
      " 9   is_apartment          23565 non-null  bool          \n",
      " 10  studio                23565 non-null  bool          \n",
      " 11  open_plan             23565 non-null  bool          \n",
      " 12  kitchen_area          21332 non-null  float64       \n",
      " 13  balcony               12125 non-null  float64       \n",
      " 14  locality_name         23516 non-null  object        \n",
      " 15  airports_nearest      18056 non-null  float64       \n",
      " 16  cityCenters_nearest   18076 non-null  float64       \n",
      " 17  parks_around3000      18077 non-null  float64       \n",
      " 18  parks_nearest         8017 non-null   float64       \n",
      " 19  ponds_around3000      18077 non-null  float64       \n",
      " 20  ponds_nearest         9039 non-null   float64       \n",
      " 21  days_exposition       20403 non-null  float64       \n",
      "dtypes: bool(3), datetime64[ns](1), float64(14), int64(3), object(1)\n",
      "memory usage: 3.7+ MB\n"
     ]
    }
   ],
   "source": [
    "df=df.query('20<total_area<400')\n",
    "df.info()"
   ]
  },
  {
   "cell_type": "code",
   "execution_count": 30,
   "metadata": {
    "scrolled": true
   },
   "outputs": [
    {
     "data": {
      "text/plain": [
       "0.9354436727129167"
      ]
     },
     "execution_count": 30,
     "metadata": {},
     "output_type": "execute_result"
    }
   ],
   "source": [
    "df['total_area'].corr(df['living_area'])"
   ]
  },
  {
   "cell_type": "markdown",
   "metadata": {},
   "source": [
    "Связь между общей и жилой площадью прямая, сильная. В данных об общей площади нет пропусков, можно заполнить пропуски жилой площади на основании общей."
   ]
  },
  {
   "cell_type": "code",
   "execution_count": 31,
   "metadata": {},
   "outputs": [
    {
     "name": "stderr",
     "output_type": "stream",
     "text": [
      "C:\\Users\\Asus\\AppData\\Local\\Temp\\ipykernel_13508\\1869846222.py:1: SettingWithCopyWarning: \n",
      "A value is trying to be set on a copy of a slice from a DataFrame.\n",
      "Try using .loc[row_indexer,col_indexer] = value instead\n",
      "\n",
      "See the caveats in the documentation: https://pandas.pydata.org/pandas-docs/stable/user_guide/indexing.html#returning-a-view-versus-a-copy\n",
      "  df['living_to_total']=df['living_area']/df['total_area']\n"
     ]
    },
    {
     "data": {
      "text/plain": [
       "count    21689.000000\n",
       "mean         0.564449\n",
       "std          0.105077\n",
       "min          0.021583\n",
       "25%          0.495050\n",
       "50%          0.567568\n",
       "75%          0.637500\n",
       "max          1.000000\n",
       "Name: living_to_total, dtype: float64"
      ]
     },
     "metadata": {},
     "output_type": "display_data"
    },
    {
     "name": "stdout",
     "output_type": "stream",
     "text": [
      "0.5644493806629199\n"
     ]
    }
   ],
   "source": [
    "df['living_to_total']=df['living_area']/df['total_area']\n",
    "display(df['living_to_total'].describe())\n",
    "coef_area = df['living_to_total'].mean()\n",
    "print(coef_area)"
   ]
  },
  {
   "cell_type": "code",
   "execution_count": 32,
   "metadata": {},
   "outputs": [
    {
     "name": "stderr",
     "output_type": "stream",
     "text": [
      "C:\\Users\\Asus\\AppData\\Local\\Temp\\ipykernel_13508\\1993744228.py:1: SettingWithCopyWarning: \n",
      "A value is trying to be set on a copy of a slice from a DataFrame.\n",
      "Try using .loc[row_indexer,col_indexer] = value instead\n",
      "\n",
      "See the caveats in the documentation: https://pandas.pydata.org/pandas-docs/stable/user_guide/indexing.html#returning-a-view-versus-a-copy\n",
      "  df['living_area'] = df['living_area'].fillna(df['total_area']*coef_area)\n"
     ]
    }
   ],
   "source": [
    "df['living_area'] = df['living_area'].fillna(df['total_area']*coef_area)\n"
   ]
  },
  {
   "cell_type": "markdown",
   "metadata": {},
   "source": [
    "Таким образом, я отбросила квартиры с общей площадью менее 20 и более 300 кв.м.\n",
    "\n",
    "Затем я посчитала среднее соотношение между жилой и общей площадью и заполнила пропуске в пукте жилая площадь на основании данных об общей площади и полученного соотношения."
   ]
  },
  {
   "cell_type": "markdown",
   "metadata": {},
   "source": [
    "#### Изменение типов населенных пунктов"
   ]
  },
  {
   "cell_type": "code",
   "execution_count": 33,
   "metadata": {},
   "outputs": [
    {
     "data": {
      "text/plain": [
       "365"
      ]
     },
     "metadata": {},
     "output_type": "display_data"
    }
   ],
   "source": [
    "display(len(df['locality_name'].unique()))"
   ]
  },
  {
   "cell_type": "code",
   "execution_count": 34,
   "metadata": {},
   "outputs": [
    {
     "name": "stderr",
     "output_type": "stream",
     "text": [
      "C:\\Users\\Asus\\AppData\\Local\\Temp\\ipykernel_13508\\4096304141.py:1: SettingWithCopyWarning: \n",
      "A value is trying to be set on a copy of a slice from a DataFrame.\n",
      "Try using .loc[row_indexer,col_indexer] = value instead\n",
      "\n",
      "See the caveats in the documentation: https://pandas.pydata.org/pandas-docs/stable/user_guide/indexing.html#returning-a-view-versus-a-copy\n",
      "  df['locality_name_new'] = df['locality_name'].str.replace('ё','е')\n",
      "C:\\Users\\Asus\\AppData\\Local\\Temp\\ipykernel_13508\\4096304141.py:2: SettingWithCopyWarning: \n",
      "A value is trying to be set on a copy of a slice from a DataFrame.\n",
      "Try using .loc[row_indexer,col_indexer] = value instead\n",
      "\n",
      "See the caveats in the documentation: https://pandas.pydata.org/pandas-docs/stable/user_guide/indexing.html#returning-a-view-versus-a-copy\n",
      "  df['locality_name_new'] = df['locality_name_new'].str.replace('поселок городского типа','поселок')\n",
      "C:\\Users\\Asus\\AppData\\Local\\Temp\\ipykernel_13508\\4096304141.py:3: SettingWithCopyWarning: \n",
      "A value is trying to be set on a copy of a slice from a DataFrame.\n",
      "Try using .loc[row_indexer,col_indexer] = value instead\n",
      "\n",
      "See the caveats in the documentation: https://pandas.pydata.org/pandas-docs/stable/user_guide/indexing.html#returning-a-view-versus-a-copy\n",
      "  df['locality_name_new'] = df['locality_name_new'].str.replace('городской поселок','поселок')\n",
      "C:\\Users\\Asus\\AppData\\Local\\Temp\\ipykernel_13508\\4096304141.py:4: SettingWithCopyWarning: \n",
      "A value is trying to be set on a copy of a slice from a DataFrame.\n",
      "Try using .loc[row_indexer,col_indexer] = value instead\n",
      "\n",
      "See the caveats in the documentation: https://pandas.pydata.org/pandas-docs/stable/user_guide/indexing.html#returning-a-view-versus-a-copy\n",
      "  df['locality_name_new'] = df['locality_name_new'].str.replace('при железнодорожной ','')\n",
      "C:\\Users\\Asus\\AppData\\Local\\Temp\\ipykernel_13508\\4096304141.py:5: SettingWithCopyWarning: \n",
      "A value is trying to be set on a copy of a slice from a DataFrame.\n",
      "Try using .loc[row_indexer,col_indexer] = value instead\n",
      "\n",
      "See the caveats in the documentation: https://pandas.pydata.org/pandas-docs/stable/user_guide/indexing.html#returning-a-view-versus-a-copy\n",
      "  df['locality_name_new'] = df['locality_name_new'].str.replace('деревня Кудрово','Кудрово')\n"
     ]
    }
   ],
   "source": [
    "df['locality_name_new'] = df['locality_name'].str.replace('ё','е')\n",
    "df['locality_name_new'] = df['locality_name_new'].str.replace('поселок городского типа','поселок')\n",
    "df['locality_name_new'] = df['locality_name_new'].str.replace('городской поселок','поселок')\n",
    "df['locality_name_new'] = df['locality_name_new'].str.replace('при железнодорожной ','')\n",
    "df['locality_name_new'] = df['locality_name_new'].str.replace('деревня Кудрово','Кудрово')"
   ]
  },
  {
   "cell_type": "code",
   "execution_count": 35,
   "metadata": {},
   "outputs": [
    {
     "data": {
      "text/plain": [
       "320"
      ]
     },
     "metadata": {},
     "output_type": "display_data"
    }
   ],
   "source": [
    "display(len(df['locality_name_new'].unique()))"
   ]
  },
  {
   "cell_type": "markdown",
   "metadata": {},
   "source": [
    "### Заполнение пропусков в столбце Балконы\n",
    "\n",
    "Предполагаю, что если значение не указано, то балкона нет. Заполню пропуски цифрой 0"
   ]
  },
  {
   "cell_type": "code",
   "execution_count": 36,
   "metadata": {
    "scrolled": false
   },
   "outputs": [
    {
     "name": "stderr",
     "output_type": "stream",
     "text": [
      "C:\\Users\\Asus\\AppData\\Local\\Temp\\ipykernel_13508\\193950032.py:1: SettingWithCopyWarning: \n",
      "A value is trying to be set on a copy of a slice from a DataFrame.\n",
      "Try using .loc[row_indexer,col_indexer] = value instead\n",
      "\n",
      "See the caveats in the documentation: https://pandas.pydata.org/pandas-docs/stable/user_guide/indexing.html#returning-a-view-versus-a-copy\n",
      "  df['balcony'] = df['balcony'].fillna(0)\n"
     ]
    }
   ],
   "source": [
    "df['balcony'] = df['balcony'].fillna(0)"
   ]
  },
  {
   "cell_type": "markdown",
   "metadata": {},
   "source": [
    "### Парки и водоемы поблизости\n",
    "\n",
    "Ели во всем населенном пункте это значение пропущено, можно предположить, что здесь нет ни одного парка или водоема. Заполнять это значение медианой некорректно, так как у нас нет информации о расположении квартиры"
   ]
  },
  {
   "cell_type": "code",
   "execution_count": 37,
   "metadata": {
    "scrolled": true
   },
   "outputs": [
    {
     "data": {
      "text/plain": [
       "locality_name_new\n",
       "Санкт-Петербург      7222\n",
       "Пушкин                212\n",
       "Петергоф              143\n",
       "Колпино               133\n",
       "Кронштадт              87\n",
       "                     ... \n",
       "деревня Пчева           0\n",
       "деревня Пустынка        0\n",
       "деревня Пудомяги        0\n",
       "деревня Пикколово       0\n",
       "село Шум                0\n",
       "Name: parks_nearest, Length: 319, dtype: int64"
      ]
     },
     "execution_count": 37,
     "metadata": {},
     "output_type": "execute_result"
    }
   ],
   "source": [
    "df.groupby('locality_name_new')['parks_nearest'].count().sort_values(ascending=False)"
   ]
  },
  {
   "cell_type": "code",
   "execution_count": 38,
   "metadata": {},
   "outputs": [
    {
     "data": {
      "text/plain": [
       "locality_name_new\n",
       "Санкт-Петербург      7913\n",
       "Колпино               190\n",
       "Пушкин                176\n",
       "поселок Шушары        152\n",
       "Сестрорецк            135\n",
       "                     ... \n",
       "деревня Пустынка        0\n",
       "деревня Пудомяги        0\n",
       "деревня Пикколово       0\n",
       "деревня Пижма           0\n",
       "село Шум                0\n",
       "Name: ponds_nearest, Length: 319, dtype: int64"
      ]
     },
     "execution_count": 38,
     "metadata": {},
     "output_type": "execute_result"
    }
   ],
   "source": [
    "df.groupby('locality_name_new')['ponds_nearest'].count().sort_values(ascending=False)"
   ]
  },
  {
   "cell_type": "markdown",
   "metadata": {},
   "source": [
    "### Число парков и водоемов в радиусе 3 км\n",
    "\n",
    "Скорее всего, если это значение не указано, то и парка/водоема поблизости нет. Можно заполнить пропуски нyлем"
   ]
  },
  {
   "cell_type": "code",
   "execution_count": 39,
   "metadata": {
    "scrolled": false
   },
   "outputs": [
    {
     "name": "stderr",
     "output_type": "stream",
     "text": [
      "C:\\Users\\Asus\\AppData\\Local\\Temp\\ipykernel_13508\\3208402315.py:1: SettingWithCopyWarning: \n",
      "A value is trying to be set on a copy of a slice from a DataFrame.\n",
      "Try using .loc[row_indexer,col_indexer] = value instead\n",
      "\n",
      "See the caveats in the documentation: https://pandas.pydata.org/pandas-docs/stable/user_guide/indexing.html#returning-a-view-versus-a-copy\n",
      "  df['ponds_around3000'] = df['ponds_around3000'].fillna(0)\n",
      "C:\\Users\\Asus\\AppData\\Local\\Temp\\ipykernel_13508\\3208402315.py:2: SettingWithCopyWarning: \n",
      "A value is trying to be set on a copy of a slice from a DataFrame.\n",
      "Try using .loc[row_indexer,col_indexer] = value instead\n",
      "\n",
      "See the caveats in the documentation: https://pandas.pydata.org/pandas-docs/stable/user_guide/indexing.html#returning-a-view-versus-a-copy\n",
      "  df['parks_around3000'] = df['parks_around3000'].fillna(0)\n"
     ]
    }
   ],
   "source": [
    "df['ponds_around3000'] = df['ponds_around3000'].fillna(0)\n",
    "df['parks_around3000'] = df['parks_around3000'].fillna(0)"
   ]
  },
  {
   "cell_type": "markdown",
   "metadata": {},
   "source": [
    "### Поиск аномалий в оставшихся столбцах"
   ]
  },
  {
   "cell_type": "code",
   "execution_count": 40,
   "metadata": {},
   "outputs": [
    {
     "data": {
      "text/plain": [
       "count    20403.000000\n",
       "mean       180.819585\n",
       "std        219.583342\n",
       "min          1.000000\n",
       "25%         45.000000\n",
       "50%         95.000000\n",
       "75%        231.000000\n",
       "max       1580.000000\n",
       "Name: days_exposition, dtype: float64"
      ]
     },
     "execution_count": 40,
     "metadata": {},
     "output_type": "execute_result"
    }
   ],
   "source": [
    "df['days_exposition'].describe()"
   ]
  },
  {
   "cell_type": "code",
   "execution_count": 41,
   "metadata": {},
   "outputs": [
    {
     "data": {
      "text/plain": [
       "count    335.000000\n",
       "mean       3.507463\n",
       "std        0.535370\n",
       "min        1.000000\n",
       "25%        3.000000\n",
       "50%        4.000000\n",
       "75%        4.000000\n",
       "max        4.000000\n",
       "Name: days_exposition, dtype: float64"
      ]
     },
     "execution_count": 41,
     "metadata": {},
     "output_type": "execute_result"
    }
   ],
   "source": [
    "df.query('days_exposition<5')['days_exposition'].describe()"
   ]
  },
  {
   "cell_type": "code",
   "execution_count": 42,
   "metadata": {},
   "outputs": [
    {
     "data": {
      "text/plain": [
       "count     273.000000\n",
       "mean     1170.373626\n",
       "std       133.929496\n",
       "min      1001.000000\n",
       "25%      1069.000000\n",
       "50%      1141.000000\n",
       "75%      1240.000000\n",
       "max      1580.000000\n",
       "Name: days_exposition, dtype: float64"
      ]
     },
     "execution_count": 42,
     "metadata": {},
     "output_type": "execute_result"
    }
   ],
   "source": [
    "df.query('days_exposition>1000')['days_exposition'].describe()"
   ]
  },
  {
   "cell_type": "markdown",
   "metadata": {},
   "source": [
    "Удалим аномальные значения размещения объявлений"
   ]
  },
  {
   "cell_type": "code",
   "execution_count": 43,
   "metadata": {},
   "outputs": [],
   "source": [
    "df=df.query('5<=days_exposition<=1000 or days_exposition.isna()')"
   ]
  },
  {
   "cell_type": "code",
   "execution_count": 44,
   "metadata": {},
   "outputs": [
    {
     "data": {
      "text/plain": [
       "count    22874.00000\n",
       "mean        10.68615\n",
       "std          6.59898\n",
       "min          1.00000\n",
       "25%          5.00000\n",
       "50%          9.00000\n",
       "75%         16.00000\n",
       "max         60.00000\n",
       "Name: floors_total, dtype: float64"
      ]
     },
     "execution_count": 44,
     "metadata": {},
     "output_type": "execute_result"
    }
   ],
   "source": [
    "df['floors_total'].describe()"
   ]
  },
  {
   "cell_type": "code",
   "execution_count": 45,
   "metadata": {},
   "outputs": [
    {
     "data": {
      "text/plain": [
       "<AxesSubplot:>"
      ]
     },
     "execution_count": 45,
     "metadata": {},
     "output_type": "execute_result"
    },
    {
     "data": {
      "image/png": "[encoded data removed]",
      "text/plain": [
       "<Figure size 432x288 with 1 Axes>"
      ]
     },
     "metadata": {
      "needs_background": "light"
     },
     "output_type": "display_data"
    }
   ],
   "source": [
    "df['floors_total'].hist(range=(16,60))"
   ]
  },
  {
   "cell_type": "markdown",
   "metadata": {},
   "source": [
    "Значения этажей больше 29 можно считать выбросами."
   ]
  },
  {
   "cell_type": "code",
   "execution_count": 46,
   "metadata": {},
   "outputs": [],
   "source": [
    "df=df.query('floors_total<29 or floors_total.isna()')"
   ]
  },
  {
   "cell_type": "code",
   "execution_count": 47,
   "metadata": {},
   "outputs": [
    {
     "data": {
      "text/plain": [
       "count    22926.000000\n",
       "mean         2.065210\n",
       "std          1.060226\n",
       "min          0.000000\n",
       "25%          1.000000\n",
       "50%          2.000000\n",
       "75%          3.000000\n",
       "max         19.000000\n",
       "Name: rooms, dtype: float64"
      ]
     },
     "execution_count": 47,
     "metadata": {},
     "output_type": "execute_result"
    }
   ],
   "source": [
    "df['rooms'].describe()"
   ]
  },
  {
   "cell_type": "code",
   "execution_count": 48,
   "metadata": {},
   "outputs": [
    {
     "data": {
      "text/plain": [
       "count    75.000000\n",
       "mean      7.920000\n",
       "std       1.936561\n",
       "min       7.000000\n",
       "25%       7.000000\n",
       "50%       7.000000\n",
       "75%       8.000000\n",
       "max      19.000000\n",
       "Name: rooms, dtype: float64"
      ]
     },
     "execution_count": 48,
     "metadata": {},
     "output_type": "execute_result"
    }
   ],
   "source": [
    "df.query('rooms>6')['rooms'].describe()"
   ]
  },
  {
   "cell_type": "markdown",
   "metadata": {},
   "source": [
    "Всего 76 квартир имеют более 6 комнат. Эти значения можно считать аномалиями."
   ]
  },
  {
   "cell_type": "code",
   "execution_count": 49,
   "metadata": {},
   "outputs": [],
   "source": [
    "df=df.query('rooms<=6 or rooms.isna()')"
   ]
  },
  {
   "cell_type": "code",
   "execution_count": 50,
   "metadata": {},
   "outputs": [
    {
     "data": {
      "text/plain": [
       "count    20666.000000\n",
       "mean        10.469285\n",
       "std          5.645153\n",
       "min          1.300000\n",
       "25%          7.000000\n",
       "50%          9.000000\n",
       "75%         12.000000\n",
       "max        107.000000\n",
       "Name: kitchen_area, dtype: float64"
      ]
     },
     "execution_count": 50,
     "metadata": {},
     "output_type": "execute_result"
    }
   ],
   "source": [
    "df['kitchen_area'].describe()"
   ]
  },
  {
   "cell_type": "code",
   "execution_count": 51,
   "metadata": {},
   "outputs": [
    {
     "data": {
      "text/plain": [
       "count     55.000000\n",
       "mean      59.247273\n",
       "std       14.167606\n",
       "min       46.000000\n",
       "25%       50.000000\n",
       "50%       54.200000\n",
       "75%       64.000000\n",
       "max      107.000000\n",
       "Name: kitchen_area, dtype: float64"
      ]
     },
     "execution_count": 51,
     "metadata": {},
     "output_type": "execute_result"
    }
   ],
   "source": [
    "df.query('kitchen_area>45')['kitchen_area'].describe()"
   ]
  },
  {
   "cell_type": "code",
   "execution_count": 52,
   "metadata": {
    "scrolled": true
   },
   "outputs": [
    {
     "data": {
      "text/plain": [
       "count    96.000000\n",
       "mean      4.068646\n",
       "std       0.806877\n",
       "min       1.300000\n",
       "25%       4.000000\n",
       "50%       4.050000\n",
       "75%       4.700000\n",
       "max       4.900000\n",
       "Name: kitchen_area, dtype: float64"
      ]
     },
     "execution_count": 52,
     "metadata": {},
     "output_type": "execute_result"
    }
   ],
   "source": [
    "df.query('kitchen_area<5')['kitchen_area'].describe()"
   ]
  },
  {
   "cell_type": "markdown",
   "metadata": {},
   "source": [
    "Всего 59 квартир имеют кухни более 45 кв.м. и 98 квартир имеют кухни площадью менее 5 кв.м."
   ]
  },
  {
   "cell_type": "code",
   "execution_count": 53,
   "metadata": {},
   "outputs": [],
   "source": [
    "df = df.query('5<=kitchen_area<=45 or kitchen_area.isna()')"
   ]
  },
  {
   "cell_type": "code",
   "execution_count": 54,
   "metadata": {},
   "outputs": [
    {
     "data": {
      "text/plain": [
       "count    22700.000000\n",
       "mean         6.193281\n",
       "std          7.484833\n",
       "min          0.012190\n",
       "25%          3.400000\n",
       "50%          4.600000\n",
       "75%          6.700000\n",
       "max        330.000000\n",
       "Name: last_price_mln, dtype: float64"
      ]
     },
     "execution_count": 54,
     "metadata": {},
     "output_type": "execute_result"
    }
   ],
   "source": [
    "df['last_price_mln']=df['last_price']/1000000\n",
    "df['last_price_mln'].describe()"
   ]
  },
  {
   "cell_type": "code",
   "execution_count": 55,
   "metadata": {},
   "outputs": [
    {
     "data": {
      "text/plain": [
       "count    220.000000\n",
       "mean       0.766850\n",
       "std        0.162718\n",
       "min        0.012190\n",
       "25%        0.650000\n",
       "50%        0.790000\n",
       "75%        0.900000\n",
       "max        0.999999\n",
       "Name: last_price_mln, dtype: float64"
      ]
     },
     "execution_count": 55,
     "metadata": {},
     "output_type": "execute_result"
    }
   ],
   "source": [
    "df.query('last_price_mln<1')['last_price_mln'].describe()"
   ]
  },
  {
   "cell_type": "code",
   "execution_count": 56,
   "metadata": {},
   "outputs": [
    {
     "data": {
      "text/plain": [
       "count    120.000000\n",
       "mean      75.636645\n",
       "std       45.789721\n",
       "min       40.348248\n",
       "25%       49.900000\n",
       "50%       60.654450\n",
       "75%       80.490000\n",
       "max      330.000000\n",
       "Name: last_price_mln, dtype: float64"
      ]
     },
     "execution_count": 56,
     "metadata": {},
     "output_type": "execute_result"
    }
   ],
   "source": [
    "df.query('last_price_mln>40')['last_price_mln'].describe()"
   ]
  },
  {
   "cell_type": "markdown",
   "metadata": {},
   "source": [
    "220 квартир стоили менее 1 млн и 122 квартиры стоили более 40 млн"
   ]
  },
  {
   "cell_type": "code",
   "execution_count": 57,
   "metadata": {},
   "outputs": [],
   "source": [
    "df = df.query('1<=last_price_mln<=40 or last_price_mln.isna()')"
   ]
  },
  {
   "cell_type": "code",
   "execution_count": 58,
   "metadata": {},
   "outputs": [
    {
     "name": "stdout",
     "output_type": "stream",
     "text": [
      "<class 'pandas.core.frame.DataFrame'>\n",
      "Int64Index: 22360 entries, 0 to 23698\n",
      "Data columns (total 25 columns):\n",
      " #   Column                Non-Null Count  Dtype         \n",
      "---  ------                --------------  -----         \n",
      " 0   total_images          22360 non-null  int64         \n",
      " 1   last_price            22360 non-null  float64       \n",
      " 2   total_area            22360 non-null  float64       \n",
      " 3   first_day_exposition  22360 non-null  datetime64[ns]\n",
      " 4   rooms                 22360 non-null  int64         \n",
      " 5   ceiling_height        22360 non-null  float64       \n",
      " 6   floors_total          22279 non-null  float64       \n",
      " 7   living_area           22360 non-null  float64       \n",
      " 8   floor                 22360 non-null  int64         \n",
      " 9   is_apartment          22360 non-null  bool          \n",
      " 10  studio                22360 non-null  bool          \n",
      " 11  open_plan             22360 non-null  bool          \n",
      " 12  kitchen_area          20236 non-null  float64       \n",
      " 13  balcony               22360 non-null  float64       \n",
      " 14  locality_name         22313 non-null  object        \n",
      " 15  airports_nearest      17213 non-null  float64       \n",
      " 16  cityCenters_nearest   17233 non-null  float64       \n",
      " 17  parks_around3000      22360 non-null  float64       \n",
      " 18  parks_nearest         7578 non-null   float64       \n",
      " 19  ponds_around3000      22360 non-null  float64       \n",
      " 20  ponds_nearest         8533 non-null   float64       \n",
      " 21  days_exposition       19333 non-null  float64       \n",
      " 22  living_to_total       20585 non-null  float64       \n",
      " 23  locality_name_new     22313 non-null  object        \n",
      " 24  last_price_mln        22360 non-null  float64       \n",
      "dtypes: bool(3), datetime64[ns](1), float64(16), int64(3), object(2)\n",
      "memory usage: 4.0+ MB\n"
     ]
    }
   ],
   "source": [
    "df.info()"
   ]
  },
  {
   "cell_type": "markdown",
   "metadata": {},
   "source": [
    "### Посчитайте и добавьте в таблицу новые столбцы"
   ]
  },
  {
   "cell_type": "code",
   "execution_count": 59,
   "metadata": {},
   "outputs": [],
   "source": [
    "#Цена за 1 кв.м. в тыс.руб\n",
    "df['sq_met_price']=df['last_price']/df['total_area']/1000\n"
   ]
  },
  {
   "cell_type": "code",
   "execution_count": 60,
   "metadata": {},
   "outputs": [],
   "source": [
    "# День недели, меяц, год публикации объявления\n",
    "df['week_day']=df['first_day_exposition'].dt.weekday\n",
    "df['month']=df['first_day_exposition'].dt.month\n",
    "df['year']=df['first_day_exposition'].dt.year\n"
   ]
  },
  {
   "cell_type": "code",
   "execution_count": 61,
   "metadata": {},
   "outputs": [],
   "source": [
    "#Определение типа этажа\n",
    "def floor_type(row):\n",
    "    if row['floor'] == 1:\n",
    "        return 'Первый'\n",
    "    if row['floor'] == row['floors_total']:\n",
    "        return 'Последний'\n",
    "    return 'Другой'\n",
    "df['floor_type'] = df.apply(floor_type, axis=1)\n"
   ]
  },
  {
   "cell_type": "code",
   "execution_count": 62,
   "metadata": {},
   "outputs": [],
   "source": [
    "df['city_center_km']= round(df['cityCenters_nearest']/1000)"
   ]
  },
  {
   "cell_type": "markdown",
   "metadata": {},
   "source": [
    "### Проведите исследовательский анализ данных"
   ]
  },
  {
   "cell_type": "code",
   "execution_count": 63,
   "metadata": {
    "scrolled": false
   },
   "outputs": [
    {
     "name": "stdout",
     "output_type": "stream",
     "text": [
      "AxesSubplot(0.125,0.125;0.775x0.755)\n"
     ]
    },
    {
     "data": {
      "image/png": "[encoded data removed]",
      "text/plain": [
       "<Figure size 432x288 with 1 Axes>"
      ]
     },
     "metadata": {
      "needs_background": "light"
     },
     "output_type": "display_data"
    },
    {
     "name": "stdout",
     "output_type": "stream",
     "text": [
      "\n",
      "AxesSubplot(0.125,0.125;0.775x0.755)\n"
     ]
    },
    {
     "data": {
      "image/png": "[encoded data removed]",
      "text/plain": [
       "<Figure size 432x288 with 1 Axes>"
      ]
     },
     "metadata": {
      "needs_background": "light"
     },
     "output_type": "display_data"
    },
    {
     "name": "stdout",
     "output_type": "stream",
     "text": [
      "\n",
      "AxesSubplot(0.125,0.125;0.775x0.755)\n"
     ]
    },
    {
     "data": {
      "image/png": "[encoded data removed]",
      "text/plain": [
       "<Figure size 432x288 with 1 Axes>"
      ]
     },
     "metadata": {
      "needs_background": "light"
     },
     "output_type": "display_data"
    },
    {
     "name": "stdout",
     "output_type": "stream",
     "text": [
      "\n",
      "AxesSubplot(0.125,0.125;0.775x0.755)\n"
     ]
    },
    {
     "data": {
      "image/png": "[encoded data removed]",
      "text/plain": [
       "<Figure size 432x288 with 1 Axes>"
      ]
     },
     "metadata": {
      "needs_background": "light"
     },
     "output_type": "display_data"
    },
    {
     "name": "stdout",
     "output_type": "stream",
     "text": [
      "\n",
      "AxesSubplot(0.125,0.125;0.775x0.755)\n"
     ]
    },
    {
     "data": {
      "image/png": "[encoded data removed]",
      "text/plain": [
       "<Figure size 432x288 with 1 Axes>"
      ]
     },
     "metadata": {
      "needs_background": "light"
     },
     "output_type": "display_data"
    },
    {
     "name": "stdout",
     "output_type": "stream",
     "text": [
      "\n",
      "AxesSubplot(0.125,0.125;0.775x0.755)\n"
     ]
    },
    {
     "data": {
      "image/png": "[encoded data removed]",
      "text/plain": [
       "<Figure size 432x288 with 1 Axes>"
      ]
     },
     "metadata": {
      "needs_background": "light"
     },
     "output_type": "display_data"
    },
    {
     "name": "stdout",
     "output_type": "stream",
     "text": [
      "\n",
      "AxesSubplot(0.125,0.125;0.775x0.755)\n"
     ]
    },
    {
     "data": {
      "image/png": "[encoded data removed]",
      "text/plain": [
       "<Figure size 432x288 with 1 Axes>"
      ]
     },
     "metadata": {
      "needs_background": "light"
     },
     "output_type": "display_data"
    },
    {
     "name": "stdout",
     "output_type": "stream",
     "text": [
      "\n",
      "AxesSubplot(0.125,0.125;0.775x0.755)\n"
     ]
    },
    {
     "data": {
      "image/png": "[encoded data removed]",
      "text/plain": [
       "<Figure size 432x288 with 1 Axes>"
      ]
     },
     "metadata": {
      "needs_background": "light"
     },
     "output_type": "display_data"
    },
    {
     "name": "stdout",
     "output_type": "stream",
     "text": [
      "\n",
      "AxesSubplot(0.125,0.125;0.775x0.755)\n"
     ]
    },
    {
     "data": {
      "image/png": "[encoded data removed]",
      "text/plain": [
       "<Figure size 432x288 with 1 Axes>"
      ]
     },
     "metadata": {
      "needs_background": "light"
     },
     "output_type": "display_data"
    },
    {
     "name": "stdout",
     "output_type": "stream",
     "text": [
      "\n",
      "AxesSubplot(0.125,0.125;0.775x0.755)\n"
     ]
    },
    {
     "data": {
      "image/png": "[encoded data removed]",
      "text/plain": [
       "<Figure size 432x288 with 1 Axes>"
      ]
     },
     "metadata": {
      "needs_background": "light"
     },
     "output_type": "display_data"
    },
    {
     "name": "stdout",
     "output_type": "stream",
     "text": [
      "\n",
      "AxesSubplot(0.125,0.125;0.775x0.755)\n"
     ]
    },
    {
     "data": {
      "image/png": "[encoded data removed]",
      "text/plain": [
       "<Figure size 432x288 with 1 Axes>"
      ]
     },
     "metadata": {
      "needs_background": "light"
     },
     "output_type": "display_data"
    },
    {
     "name": "stdout",
     "output_type": "stream",
     "text": [
      "\n",
      "AxesSubplot(0.125,0.125;0.775x0.755)\n"
     ]
    },
    {
     "data": {
      "image/png": "[encoded data removed]",
      "text/plain": [
       "<Figure size 432x288 with 1 Axes>"
      ]
     },
     "metadata": {
      "needs_background": "light"
     },
     "output_type": "display_data"
    },
    {
     "name": "stdout",
     "output_type": "stream",
     "text": [
      "\n",
      "AxesSubplot(0.125,0.125;0.775x0.755)\n"
     ]
    },
    {
     "data": {
      "image/png": "[encoded data removed]",
      "text/plain": [
       "<Figure size 432x288 with 1 Axes>"
      ]
     },
     "metadata": {
      "needs_background": "light"
     },
     "output_type": "display_data"
    },
    {
     "name": "stdout",
     "output_type": "stream",
     "text": [
      "\n",
      "AxesSubplot(0.125,0.125;0.775x0.755)\n"
     ]
    },
    {
     "data": {
      "image/png": "[encoded data removed]",
      "text/plain": [
       "<Figure size 432x288 with 1 Axes>"
      ]
     },
     "metadata": {
      "needs_background": "light"
     },
     "output_type": "display_data"
    },
    {
     "name": "stdout",
     "output_type": "stream",
     "text": [
      "\n",
      "AxesSubplot(0.125,0.125;0.775x0.755)\n"
     ]
    },
    {
     "data": {
      "image/png": "[encoded data removed]",
      "text/plain": [
       "<Figure size 432x288 with 1 Axes>"
      ]
     },
     "metadata": {
      "needs_background": "light"
     },
     "output_type": "display_data"
    },
    {
     "name": "stdout",
     "output_type": "stream",
     "text": [
      "\n"
     ]
    }
   ],
   "source": [
    "columns = [\n",
    "    'total_area', 'living_area', 'kitchen_area', 'last_price_mln', 'rooms', 'ceiling_height', 'floor', \n",
    "    'floor_type', 'floors_total', 'cityCenters_nearest', 'airports_nearest', 'parks_nearest', 'month', 'year', 'week_day'\n",
    "]\n",
    "\n",
    "for i in columns:\n",
    "    print(df[i].hist(bins=70))\n",
    "    plt.title(i)\n",
    "    plt.show()\n",
    "    print('')"
   ]
  },
  {
   "cell_type": "markdown",
   "metadata": {},
   "source": [
    "Площадь большинства квартир находится в пределах от 25 до 100 кв.м."
   ]
  },
  {
   "cell_type": "markdown",
   "metadata": {},
   "source": [
    "Жилая площадь большиства квартир составляет 12-60 кв.м. Максимум - на уровне 18 кв м, на ур. 25 кв.м наблюдается провал"
   ]
  },
  {
   "cell_type": "markdown",
   "metadata": {},
   "source": [
    "Площадь кухни в осовном составляет от 5 до 15 кв м. Есть подъемы и провалы"
   ]
  },
  {
   "cell_type": "markdown",
   "metadata": {},
   "source": [
    "Окончательная цена в среднем варьируется от 2 до 10 млн. Стремится к нормальному распределению"
   ]
  },
  {
   "cell_type": "markdown",
   "metadata": {},
   "source": [
    "В большинстве квартир 1/2/3 комнаты. 0 комнат в квартирах-студиях"
   ]
  },
  {
   "cell_type": "markdown",
   "metadata": {},
   "source": [
    "Высота потолков большинства квартир составляет от 2,5 до 2,8м. Подъем графика - на уровне 2,7м"
   ]
  },
  {
   "cell_type": "markdown",
   "metadata": {},
   "source": [
    "Большинство квартир расположены до 5 этажа жилого дома"
   ]
  },
  {
   "cell_type": "markdown",
   "metadata": {},
   "source": [
    "Большинство квартир не расположены ни на первом, ни на последнем этаже"
   ]
  },
  {
   "cell_type": "markdown",
   "metadata": {},
   "source": [
    "Подъемы наблюдаются на урове 5 и 9 этажей."
   ]
  },
  {
   "cell_type": "markdown",
   "metadata": {},
   "source": [
    "Пик - на уровне 13км. от центра города."
   ]
  },
  {
   "cell_type": "markdown",
   "metadata": {},
   "source": [
    "До ближайшего аэропорта расстояние колеблется от 10 до 40 км"
   ]
  },
  {
   "cell_type": "markdown",
   "metadata": {},
   "source": [
    "Расстояние До ближайшего парка от большиства домов составляет 500 м. На ур. 0 м также дотаточно домов, что говоит, что в пределах 3км от этих домов нет парка."
   ]
  },
  {
   "cell_type": "markdown",
   "metadata": {},
   "source": [
    "В целом, во все меяцы года размещались объявлеия. Спад в январе и мае."
   ]
  },
  {
   "cell_type": "markdown",
   "metadata": {},
   "source": [
    "Большиство представленных объявлений размещены в 2017 и 2018 годах"
   ]
  },
  {
   "cell_type": "markdown",
   "metadata": {},
   "source": [
    "Большинство объявлений размещено в будние дни. "
   ]
  },
  {
   "cell_type": "markdown",
   "metadata": {},
   "source": [
    "## Скорость продажи объектов"
   ]
  },
  {
   "cell_type": "code",
   "execution_count": 64,
   "metadata": {
    "scrolled": true
   },
   "outputs": [
    {
     "data": {
      "text/plain": [
       "<AxesSubplot:>"
      ]
     },
     "execution_count": 64,
     "metadata": {},
     "output_type": "execute_result"
    },
    {
     "data": {
      "image/png": "[encoded data removed]",
      "text/plain": [
       "<Figure size 720x360 with 1 Axes>"
      ]
     },
     "metadata": {
      "needs_background": "light"
     },
     "output_type": "display_data"
    }
   ],
   "source": [
    "df['days_exposition'].hist(bins=100, figsize=(10,5))"
   ]
  },
  {
   "cell_type": "code",
   "execution_count": 65,
   "metadata": {},
   "outputs": [
    {
     "data": {
      "text/plain": [
       "count    19333.000000\n",
       "mean       169.304195\n",
       "std        187.096268\n",
       "min          5.000000\n",
       "25%         45.000000\n",
       "50%         95.000000\n",
       "75%        224.000000\n",
       "max       1000.000000\n",
       "Name: days_exposition, dtype: float64"
      ]
     },
     "execution_count": 65,
     "metadata": {},
     "output_type": "execute_result"
    }
   ],
   "source": [
    "df['days_exposition'].describe()"
   ]
  },
  {
   "cell_type": "code",
   "execution_count": 66,
   "metadata": {},
   "outputs": [
    {
     "data": {
      "text/plain": [
       "95.0"
      ]
     },
     "execution_count": 66,
     "metadata": {},
     "output_type": "execute_result"
    }
   ],
   "source": [
    "df['days_exposition'].median()"
   ]
  },
  {
   "cell_type": "markdown",
   "metadata": {},
   "source": [
    "Среднее время продажи квартиры составляет 170 дней. Медианное время (оно также выбивается на графике) составляет 95 дней. \n",
    "\n",
    "Можно считать продажу быстрой, если квартиру купили менее, чем за 45 дней.\n",
    "\n",
    "Продажу можно считать дологй, если объявление висело более 225 дней."
   ]
  },
  {
   "cell_type": "code",
   "execution_count": 67,
   "metadata": {
    "scrolled": true
   },
   "outputs": [
    {
     "data": {
      "image/png": "[encoded data removed]",
      "text/plain": [
       "<Figure size 432x288 with 1 Axes>"
      ]
     },
     "metadata": {
      "needs_background": "light"
     },
     "output_type": "display_data"
    }
   ],
   "source": [
    "(\n",
    "    df\n",
    "    .query('days_exposition<100')['days_exposition']\n",
    "    .hist(bins=100)\n",
    ");"
   ]
  },
  {
   "cell_type": "markdown",
   "metadata": {},
   "source": [
    "Резкий подъем наблюдается на уровне 1 квартиля - 45 дней, а также на уровне 60 и 90 дней. Это можно объяснить особенностью работы сервиса."
   ]
  },
  {
   "cell_type": "markdown",
   "metadata": {},
   "source": [
    "## Влияние факторов на стоимость"
   ]
  },
  {
   "cell_type": "code",
   "execution_count": 68,
   "metadata": {},
   "outputs": [
    {
     "data": {
      "image/png": "[encoded data removed]",
      "text/plain": [
       "<Figure size 432x288 with 1 Axes>"
      ]
     },
     "metadata": {
      "needs_background": "light"
     },
     "output_type": "display_data"
    }
   ],
   "source": [
    "df.plot(x='total_area', y='last_price_mln', kind='scatter');"
   ]
  },
  {
   "cell_type": "code",
   "execution_count": 69,
   "metadata": {},
   "outputs": [
    {
     "data": {
      "text/plain": [
       "0.784068703352528"
      ]
     },
     "execution_count": 69,
     "metadata": {},
     "output_type": "execute_result"
    }
   ],
   "source": [
    "df['total_area'].corr(df['last_price_mln'])"
   ]
  },
  {
   "cell_type": "markdown",
   "metadata": {},
   "source": [
    "Связь между общей площадью и ценой сильная прямая"
   ]
  },
  {
   "cell_type": "code",
   "execution_count": 70,
   "metadata": {
    "scrolled": true
   },
   "outputs": [
    {
     "data": {
      "image/png": "[encoded data removed]",
      "text/plain": [
       "<Figure size 432x288 with 1 Axes>"
      ]
     },
     "metadata": {
      "needs_background": "light"
     },
     "output_type": "display_data"
    }
   ],
   "source": [
    "df.plot(x='living_area', y='last_price_mln', kind='scatter');"
   ]
  },
  {
   "cell_type": "code",
   "execution_count": 71,
   "metadata": {},
   "outputs": [
    {
     "data": {
      "text/plain": [
       "0.6895920562948566"
      ]
     },
     "execution_count": 71,
     "metadata": {},
     "output_type": "execute_result"
    }
   ],
   "source": [
    "df['living_area'].corr(df['last_price_mln'])"
   ]
  },
  {
   "cell_type": "markdown",
   "metadata": {},
   "source": [
    "Связь между жилой площадью и ценой средняя прямая"
   ]
  },
  {
   "cell_type": "code",
   "execution_count": 72,
   "metadata": {},
   "outputs": [
    {
     "data": {
      "image/png": "[encoded data removed]",
      "text/plain": [
       "<Figure size 432x288 with 1 Axes>"
      ]
     },
     "metadata": {
      "needs_background": "light"
     },
     "output_type": "display_data"
    }
   ],
   "source": [
    "df.plot(x='kitchen_area', y='last_price_mln', kind='scatter');"
   ]
  },
  {
   "cell_type": "code",
   "execution_count": 73,
   "metadata": {
    "scrolled": true
   },
   "outputs": [
    {
     "data": {
      "text/plain": [
       "0.5970875178974038"
      ]
     },
     "execution_count": 73,
     "metadata": {},
     "output_type": "execute_result"
    }
   ],
   "source": [
    "df['kitchen_area'].corr(df['last_price_mln'])"
   ]
  },
  {
   "cell_type": "markdown",
   "metadata": {},
   "source": [
    "Связь между площадью кухни и ценой средняя прямая"
   ]
  },
  {
   "cell_type": "code",
   "execution_count": 74,
   "metadata": {
    "scrolled": false
   },
   "outputs": [
    {
     "data": {
      "text/html": [
       "<div>\n",
       "<style scoped>\n",
       "    .dataframe tbody tr th:only-of-type {\n",
       "        vertical-align: middle;\n",
       "    }\n",
       "\n",
       "    .dataframe tbody tr th {\n",
       "        vertical-align: top;\n",
       "    }\n",
       "\n",
       "    .dataframe thead th {\n",
       "        text-align: right;\n",
       "    }\n",
       "</style>\n",
       "<table border=\"1\" class=\"dataframe\">\n",
       "  <thead>\n",
       "    <tr style=\"text-align: right;\">\n",
       "      <th></th>\n",
       "      <th>last_price_mln</th>\n",
       "    </tr>\n",
       "    <tr>\n",
       "      <th>rooms</th>\n",
       "      <th></th>\n",
       "    </tr>\n",
       "  </thead>\n",
       "  <tbody>\n",
       "    <tr>\n",
       "      <th>0</th>\n",
       "      <td>3.028741</td>\n",
       "    </tr>\n",
       "    <tr>\n",
       "      <th>1</th>\n",
       "      <td>3.862391</td>\n",
       "    </tr>\n",
       "    <tr>\n",
       "      <th>2</th>\n",
       "      <td>5.522948</td>\n",
       "    </tr>\n",
       "    <tr>\n",
       "      <th>3</th>\n",
       "      <td>7.612944</td>\n",
       "    </tr>\n",
       "    <tr>\n",
       "      <th>4</th>\n",
       "      <td>10.835020</td>\n",
       "    </tr>\n",
       "    <tr>\n",
       "      <th>5</th>\n",
       "      <td>14.897059</td>\n",
       "    </tr>\n",
       "    <tr>\n",
       "      <th>6</th>\n",
       "      <td>18.696233</td>\n",
       "    </tr>\n",
       "  </tbody>\n",
       "</table>\n",
       "</div>"
      ],
      "text/plain": [
       "       last_price_mln\n",
       "rooms                \n",
       "0            3.028741\n",
       "1            3.862391\n",
       "2            5.522948\n",
       "3            7.612944\n",
       "4           10.835020\n",
       "5           14.897059\n",
       "6           18.696233"
      ]
     },
     "metadata": {},
     "output_type": "display_data"
    },
    {
     "data": {
      "image/png": "[encoded data removed]",
      "text/plain": [
       "<Figure size 432x288 with 1 Axes>"
      ]
     },
     "metadata": {
      "needs_background": "light"
     },
     "output_type": "display_data"
    }
   ],
   "source": [
    "display(df.pivot_table(index='rooms', values='last_price_mln'))\n",
    "df.pivot_table(index='rooms', values='last_price_mln').plot();"
   ]
  },
  {
   "cell_type": "code",
   "execution_count": 75,
   "metadata": {},
   "outputs": [
    {
     "data": {
      "text/plain": [
       "0.4959174637860817"
      ]
     },
     "execution_count": 75,
     "metadata": {},
     "output_type": "execute_result"
    }
   ],
   "source": [
    "df['rooms'].corr(df['last_price_mln'])"
   ]
  },
  {
   "cell_type": "markdown",
   "metadata": {},
   "source": [
    "Связь между количеством комнат и ценой средняя прямая"
   ]
  },
  {
   "cell_type": "code",
   "execution_count": 76,
   "metadata": {
    "scrolled": true
   },
   "outputs": [
    {
     "data": {
      "image/png": "[encoded data removed]",
      "text/plain": [
       "<Figure size 432x288 with 1 Axes>"
      ]
     },
     "metadata": {
      "needs_background": "light"
     },
     "output_type": "display_data"
    }
   ],
   "source": [
    "df.pivot_table(index='floor_type', values='last_price_mln').plot();"
   ]
  },
  {
   "cell_type": "code",
   "execution_count": 77,
   "metadata": {},
   "outputs": [
    {
     "data": {
      "image/png": "[encoded data removed]",
      "text/plain": [
       "<Figure size 432x288 with 1 Axes>"
      ]
     },
     "metadata": {
      "needs_background": "light"
     },
     "output_type": "display_data"
    }
   ],
   "source": [
    "seaborn.barplot(x=df['floor_type'], y=df['last_price_mln']);"
   ]
  },
  {
   "cell_type": "code",
   "execution_count": 78,
   "metadata": {},
   "outputs": [
    {
     "data": {
      "text/html": [
       "<div>\n",
       "<style scoped>\n",
       "    .dataframe tbody tr th:only-of-type {\n",
       "        vertical-align: middle;\n",
       "    }\n",
       "\n",
       "    .dataframe tbody tr th {\n",
       "        vertical-align: top;\n",
       "    }\n",
       "\n",
       "    .dataframe thead th {\n",
       "        text-align: right;\n",
       "    }\n",
       "</style>\n",
       "<table border=\"1\" class=\"dataframe\">\n",
       "  <thead>\n",
       "    <tr style=\"text-align: right;\">\n",
       "      <th></th>\n",
       "      <th>last_price_mln</th>\n",
       "    </tr>\n",
       "    <tr>\n",
       "      <th>month</th>\n",
       "      <th></th>\n",
       "    </tr>\n",
       "  </thead>\n",
       "  <tbody>\n",
       "    <tr>\n",
       "      <th>1</th>\n",
       "      <td>5.920603</td>\n",
       "    </tr>\n",
       "    <tr>\n",
       "      <th>2</th>\n",
       "      <td>5.900981</td>\n",
       "    </tr>\n",
       "    <tr>\n",
       "      <th>3</th>\n",
       "      <td>5.826085</td>\n",
       "    </tr>\n",
       "    <tr>\n",
       "      <th>4</th>\n",
       "      <td>5.860764</td>\n",
       "    </tr>\n",
       "    <tr>\n",
       "      <th>5</th>\n",
       "      <td>5.936463</td>\n",
       "    </tr>\n",
       "    <tr>\n",
       "      <th>6</th>\n",
       "      <td>5.710102</td>\n",
       "    </tr>\n",
       "    <tr>\n",
       "      <th>7</th>\n",
       "      <td>5.841666</td>\n",
       "    </tr>\n",
       "    <tr>\n",
       "      <th>8</th>\n",
       "      <td>5.912332</td>\n",
       "    </tr>\n",
       "    <tr>\n",
       "      <th>9</th>\n",
       "      <td>5.945389</td>\n",
       "    </tr>\n",
       "    <tr>\n",
       "      <th>10</th>\n",
       "      <td>5.769365</td>\n",
       "    </tr>\n",
       "    <tr>\n",
       "      <th>11</th>\n",
       "      <td>6.003698</td>\n",
       "    </tr>\n",
       "    <tr>\n",
       "      <th>12</th>\n",
       "      <td>5.865745</td>\n",
       "    </tr>\n",
       "  </tbody>\n",
       "</table>\n",
       "</div>"
      ],
      "text/plain": [
       "       last_price_mln\n",
       "month                \n",
       "1            5.920603\n",
       "2            5.900981\n",
       "3            5.826085\n",
       "4            5.860764\n",
       "5            5.936463\n",
       "6            5.710102\n",
       "7            5.841666\n",
       "8            5.912332\n",
       "9            5.945389\n",
       "10           5.769365\n",
       "11           6.003698\n",
       "12           5.865745"
      ]
     },
     "metadata": {},
     "output_type": "display_data"
    },
    {
     "data": {
      "image/png": "[encoded data removed]",
      "text/plain": [
       "<Figure size 432x288 with 1 Axes>"
      ]
     },
     "metadata": {
      "needs_background": "light"
     },
     "output_type": "display_data"
    }
   ],
   "source": [
    "display(df.pivot_table(index='month', values='last_price_mln'))\n",
    "df.pivot_table(index='month', values='last_price_mln').plot();"
   ]
  },
  {
   "cell_type": "code",
   "execution_count": 79,
   "metadata": {},
   "outputs": [
    {
     "data": {
      "image/png": "[encoded data removed]",
      "text/plain": [
       "<Figure size 432x288 with 1 Axes>"
      ]
     },
     "metadata": {
      "needs_background": "light"
     },
     "output_type": "display_data"
    }
   ],
   "source": [
    "df.pivot_table(index='week_day', values='last_price_mln').plot();"
   ]
  },
  {
   "cell_type": "code",
   "execution_count": 80,
   "metadata": {},
   "outputs": [
    {
     "data": {
      "image/png": "[encoded data removed]",
      "text/plain": [
       "<Figure size 432x288 with 1 Axes>"
      ]
     },
     "metadata": {
      "needs_background": "light"
     },
     "output_type": "display_data"
    }
   ],
   "source": [
    "(\n",
    "    df\n",
    "    .query('2016<year<2019')\n",
    "    .pivot_table(index='year', values='last_price_mln')\n",
    "    .plot()\n",
    ");"
   ]
  },
  {
   "cell_type": "code",
   "execution_count": 81,
   "metadata": {
    "scrolled": true
   },
   "outputs": [
    {
     "data": {
      "image/png": "[encoded data removed]",
      "text/plain": [
       "<Figure size 432x288 with 1 Axes>"
      ]
     },
     "metadata": {
      "needs_background": "light"
     },
     "output_type": "display_data"
    }
   ],
   "source": [
    "df['year'].hist();"
   ]
  },
  {
   "cell_type": "code",
   "execution_count": 82,
   "metadata": {},
   "outputs": [
    {
     "data": {
      "image/png": "[encoded data removed]",
      "text/plain": [
       "<Figure size 432x288 with 1 Axes>"
      ]
     },
     "metadata": {
      "needs_background": "light"
     },
     "output_type": "display_data"
    }
   ],
   "source": [
    "seaborn.barplot(x=df['year'], y=df['last_price_mln']);"
   ]
  },
  {
   "cell_type": "code",
   "execution_count": 83,
   "metadata": {},
   "outputs": [
    {
     "data": {
      "image/png": "[encoded data removed]",
      "text/plain": [
       "<Figure size 432x288 with 1 Axes>"
      ]
     },
     "metadata": {
      "needs_background": "light"
     },
     "output_type": "display_data"
    }
   ],
   "source": [
    "(\n",
    "    df\n",
    "    .query('2016<=year<=2019')\n",
    "    .pivot_table(index='year', values='last_price_mln')\n",
    "    .plot()\n",
    ");"
   ]
  },
  {
   "cell_type": "markdown",
   "metadata": {},
   "source": [
    "### Промежуточный вывод\n",
    "\n",
    "Наиболее сильная зависимость наблюдается между общей площадью и итоговой ценой. Выше площадь - выше цена. При площади более 200 кв.м. зависимости нет. Скорее всего, это связано с небольшим количеством таких объявлений.\n",
    "\n",
    "Средняя прямая связь между итоговой ценой и жилой площадью квартиры, площадью кухни, количеством комнат. \n",
    "\n",
    "При расположении квартиры на 1 этаже итоговая цена значительно снижаетя.\n",
    "\n",
    "Самая высокая цена - при продаже в 5, 9, 11 месяцы. Самая низкая - в 6 и 10. Однако разница средней цены здесь незначительна (мин- 5.7, макс- 6.0)\n",
    "\n",
    "Больше стоили квартиры, объявления которых были размещены в среду или четверг. Меньше - в субботу\n",
    "\n",
    "Связь между ценой и годом продажи оценить сложно - достаточно информации только по 2017 и 2018 году. "
   ]
  },
  {
   "cell_type": "markdown",
   "metadata": {},
   "source": [
    "### Средняя цена одного квадратного метра в 10 населённых пунктах с наибольшим числом объявлений"
   ]
  },
  {
   "cell_type": "code",
   "execution_count": 84,
   "metadata": {},
   "outputs": [],
   "source": [
    "locality_ten = df.pivot_table(index='locality_name_new', values='total_area', aggfunc='count')\n",
    "locality_ten.columns = ['number_of_ads']\n",
    "locality_ten = locality_ten.sort_values(by = 'number_of_ads', ascending=False).head(10)"
   ]
  },
  {
   "cell_type": "code",
   "execution_count": 85,
   "metadata": {},
   "outputs": [
    {
     "data": {
      "text/html": [
       "<div>\n",
       "<style scoped>\n",
       "    .dataframe tbody tr th:only-of-type {\n",
       "        vertical-align: middle;\n",
       "    }\n",
       "\n",
       "    .dataframe tbody tr th {\n",
       "        vertical-align: top;\n",
       "    }\n",
       "\n",
       "    .dataframe thead th {\n",
       "        text-align: right;\n",
       "    }\n",
       "</style>\n",
       "<table border=\"1\" class=\"dataframe\">\n",
       "  <thead>\n",
       "    <tr style=\"text-align: right;\">\n",
       "      <th></th>\n",
       "      <th>total_images</th>\n",
       "      <th>last_price</th>\n",
       "      <th>total_area</th>\n",
       "      <th>first_day_exposition</th>\n",
       "      <th>rooms</th>\n",
       "      <th>ceiling_height</th>\n",
       "      <th>floors_total</th>\n",
       "      <th>living_area</th>\n",
       "      <th>floor</th>\n",
       "      <th>is_apartment</th>\n",
       "      <th>studio</th>\n",
       "      <th>open_plan</th>\n",
       "      <th>kitchen_area</th>\n",
       "      <th>balcony</th>\n",
       "      <th>locality_name</th>\n",
       "      <th>airports_nearest</th>\n",
       "      <th>cityCenters_nearest</th>\n",
       "      <th>parks_around3000</th>\n",
       "      <th>parks_nearest</th>\n",
       "      <th>ponds_around3000</th>\n",
       "      <th>ponds_nearest</th>\n",
       "      <th>days_exposition</th>\n",
       "      <th>living_to_total</th>\n",
       "      <th>locality_name_new</th>\n",
       "      <th>last_price_mln</th>\n",
       "      <th>sq_met_price</th>\n",
       "      <th>week_day</th>\n",
       "      <th>month</th>\n",
       "      <th>year</th>\n",
       "      <th>floor_type</th>\n",
       "      <th>city_center_km</th>\n",
       "      <th>group_name</th>\n",
       "    </tr>\n",
       "  </thead>\n",
       "  <tbody>\n",
       "    <tr>\n",
       "      <th>0</th>\n",
       "      <td>20</td>\n",
       "      <td>13000000.0</td>\n",
       "      <td>108.00</td>\n",
       "      <td>2019-03-07</td>\n",
       "      <td>3</td>\n",
       "      <td>2.70</td>\n",
       "      <td>16.0</td>\n",
       "      <td>51.00000</td>\n",
       "      <td>8</td>\n",
       "      <td>True</td>\n",
       "      <td>False</td>\n",
       "      <td>False</td>\n",
       "      <td>25.00</td>\n",
       "      <td>0.0</td>\n",
       "      <td>Санкт-Петербург</td>\n",
       "      <td>18863.0</td>\n",
       "      <td>16028.0</td>\n",
       "      <td>1.0</td>\n",
       "      <td>482.0</td>\n",
       "      <td>2.0</td>\n",
       "      <td>755.0</td>\n",
       "      <td>NaN</td>\n",
       "      <td>0.472222</td>\n",
       "      <td>Санкт-Петербург</td>\n",
       "      <td>13.000</td>\n",
       "      <td>120.370370</td>\n",
       "      <td>3</td>\n",
       "      <td>3</td>\n",
       "      <td>2019</td>\n",
       "      <td>Другой</td>\n",
       "      <td>16.0</td>\n",
       "      <td>Санкт-Петербург</td>\n",
       "    </tr>\n",
       "    <tr>\n",
       "      <th>1</th>\n",
       "      <td>7</td>\n",
       "      <td>3350000.0</td>\n",
       "      <td>40.40</td>\n",
       "      <td>2018-12-04</td>\n",
       "      <td>1</td>\n",
       "      <td>2.65</td>\n",
       "      <td>11.0</td>\n",
       "      <td>18.60000</td>\n",
       "      <td>1</td>\n",
       "      <td>True</td>\n",
       "      <td>False</td>\n",
       "      <td>False</td>\n",
       "      <td>11.00</td>\n",
       "      <td>2.0</td>\n",
       "      <td>посёлок Шушары</td>\n",
       "      <td>12817.0</td>\n",
       "      <td>18603.0</td>\n",
       "      <td>0.0</td>\n",
       "      <td>NaN</td>\n",
       "      <td>0.0</td>\n",
       "      <td>NaN</td>\n",
       "      <td>81.0</td>\n",
       "      <td>0.460396</td>\n",
       "      <td>поселок Шушары</td>\n",
       "      <td>3.350</td>\n",
       "      <td>82.920792</td>\n",
       "      <td>1</td>\n",
       "      <td>12</td>\n",
       "      <td>2018</td>\n",
       "      <td>Первый</td>\n",
       "      <td>19.0</td>\n",
       "      <td>поселок Шушары</td>\n",
       "    </tr>\n",
       "    <tr>\n",
       "      <th>2</th>\n",
       "      <td>10</td>\n",
       "      <td>5196000.0</td>\n",
       "      <td>56.00</td>\n",
       "      <td>2015-08-20</td>\n",
       "      <td>2</td>\n",
       "      <td>2.65</td>\n",
       "      <td>5.0</td>\n",
       "      <td>34.30000</td>\n",
       "      <td>4</td>\n",
       "      <td>True</td>\n",
       "      <td>False</td>\n",
       "      <td>False</td>\n",
       "      <td>8.30</td>\n",
       "      <td>0.0</td>\n",
       "      <td>Санкт-Петербург</td>\n",
       "      <td>21741.0</td>\n",
       "      <td>13933.0</td>\n",
       "      <td>1.0</td>\n",
       "      <td>90.0</td>\n",
       "      <td>2.0</td>\n",
       "      <td>574.0</td>\n",
       "      <td>558.0</td>\n",
       "      <td>0.612500</td>\n",
       "      <td>Санкт-Петербург</td>\n",
       "      <td>5.196</td>\n",
       "      <td>92.785714</td>\n",
       "      <td>3</td>\n",
       "      <td>8</td>\n",
       "      <td>2015</td>\n",
       "      <td>Другой</td>\n",
       "      <td>14.0</td>\n",
       "      <td>Санкт-Петербург</td>\n",
       "    </tr>\n",
       "    <tr>\n",
       "      <th>4</th>\n",
       "      <td>2</td>\n",
       "      <td>10000000.0</td>\n",
       "      <td>100.00</td>\n",
       "      <td>2018-06-19</td>\n",
       "      <td>2</td>\n",
       "      <td>3.03</td>\n",
       "      <td>14.0</td>\n",
       "      <td>32.00000</td>\n",
       "      <td>13</td>\n",
       "      <td>True</td>\n",
       "      <td>False</td>\n",
       "      <td>False</td>\n",
       "      <td>41.00</td>\n",
       "      <td>0.0</td>\n",
       "      <td>Санкт-Петербург</td>\n",
       "      <td>31856.0</td>\n",
       "      <td>8098.0</td>\n",
       "      <td>2.0</td>\n",
       "      <td>112.0</td>\n",
       "      <td>1.0</td>\n",
       "      <td>48.0</td>\n",
       "      <td>121.0</td>\n",
       "      <td>0.320000</td>\n",
       "      <td>Санкт-Петербург</td>\n",
       "      <td>10.000</td>\n",
       "      <td>100.000000</td>\n",
       "      <td>1</td>\n",
       "      <td>6</td>\n",
       "      <td>2018</td>\n",
       "      <td>Другой</td>\n",
       "      <td>8.0</td>\n",
       "      <td>Санкт-Петербург</td>\n",
       "    </tr>\n",
       "    <tr>\n",
       "      <th>5</th>\n",
       "      <td>10</td>\n",
       "      <td>2890000.0</td>\n",
       "      <td>30.40</td>\n",
       "      <td>2018-09-10</td>\n",
       "      <td>1</td>\n",
       "      <td>2.65</td>\n",
       "      <td>12.0</td>\n",
       "      <td>14.40000</td>\n",
       "      <td>5</td>\n",
       "      <td>True</td>\n",
       "      <td>False</td>\n",
       "      <td>False</td>\n",
       "      <td>9.10</td>\n",
       "      <td>0.0</td>\n",
       "      <td>городской посёлок Янино-1</td>\n",
       "      <td>NaN</td>\n",
       "      <td>NaN</td>\n",
       "      <td>0.0</td>\n",
       "      <td>NaN</td>\n",
       "      <td>0.0</td>\n",
       "      <td>NaN</td>\n",
       "      <td>55.0</td>\n",
       "      <td>0.473684</td>\n",
       "      <td>поселок Янино-1</td>\n",
       "      <td>2.890</td>\n",
       "      <td>95.065789</td>\n",
       "      <td>0</td>\n",
       "      <td>9</td>\n",
       "      <td>2018</td>\n",
       "      <td>Другой</td>\n",
       "      <td>NaN</td>\n",
       "      <td>Другие</td>\n",
       "    </tr>\n",
       "    <tr>\n",
       "      <th>...</th>\n",
       "      <td>...</td>\n",
       "      <td>...</td>\n",
       "      <td>...</td>\n",
       "      <td>...</td>\n",
       "      <td>...</td>\n",
       "      <td>...</td>\n",
       "      <td>...</td>\n",
       "      <td>...</td>\n",
       "      <td>...</td>\n",
       "      <td>...</td>\n",
       "      <td>...</td>\n",
       "      <td>...</td>\n",
       "      <td>...</td>\n",
       "      <td>...</td>\n",
       "      <td>...</td>\n",
       "      <td>...</td>\n",
       "      <td>...</td>\n",
       "      <td>...</td>\n",
       "      <td>...</td>\n",
       "      <td>...</td>\n",
       "      <td>...</td>\n",
       "      <td>...</td>\n",
       "      <td>...</td>\n",
       "      <td>...</td>\n",
       "      <td>...</td>\n",
       "      <td>...</td>\n",
       "      <td>...</td>\n",
       "      <td>...</td>\n",
       "      <td>...</td>\n",
       "      <td>...</td>\n",
       "      <td>...</td>\n",
       "      <td>...</td>\n",
       "    </tr>\n",
       "    <tr>\n",
       "      <th>23694</th>\n",
       "      <td>9</td>\n",
       "      <td>9700000.0</td>\n",
       "      <td>133.81</td>\n",
       "      <td>2017-03-21</td>\n",
       "      <td>3</td>\n",
       "      <td>3.70</td>\n",
       "      <td>5.0</td>\n",
       "      <td>73.30000</td>\n",
       "      <td>3</td>\n",
       "      <td>True</td>\n",
       "      <td>False</td>\n",
       "      <td>False</td>\n",
       "      <td>13.83</td>\n",
       "      <td>0.0</td>\n",
       "      <td>Санкт-Петербург</td>\n",
       "      <td>24665.0</td>\n",
       "      <td>4232.0</td>\n",
       "      <td>1.0</td>\n",
       "      <td>796.0</td>\n",
       "      <td>3.0</td>\n",
       "      <td>381.0</td>\n",
       "      <td>NaN</td>\n",
       "      <td>0.547792</td>\n",
       "      <td>Санкт-Петербург</td>\n",
       "      <td>9.700</td>\n",
       "      <td>72.490845</td>\n",
       "      <td>1</td>\n",
       "      <td>3</td>\n",
       "      <td>2017</td>\n",
       "      <td>Другой</td>\n",
       "      <td>4.0</td>\n",
       "      <td>Санкт-Петербург</td>\n",
       "    </tr>\n",
       "    <tr>\n",
       "      <th>23695</th>\n",
       "      <td>14</td>\n",
       "      <td>3100000.0</td>\n",
       "      <td>59.00</td>\n",
       "      <td>2018-01-15</td>\n",
       "      <td>3</td>\n",
       "      <td>2.65</td>\n",
       "      <td>5.0</td>\n",
       "      <td>38.00000</td>\n",
       "      <td>4</td>\n",
       "      <td>True</td>\n",
       "      <td>False</td>\n",
       "      <td>False</td>\n",
       "      <td>8.50</td>\n",
       "      <td>0.0</td>\n",
       "      <td>Тосно</td>\n",
       "      <td>NaN</td>\n",
       "      <td>NaN</td>\n",
       "      <td>0.0</td>\n",
       "      <td>NaN</td>\n",
       "      <td>0.0</td>\n",
       "      <td>NaN</td>\n",
       "      <td>45.0</td>\n",
       "      <td>0.644068</td>\n",
       "      <td>Тосно</td>\n",
       "      <td>3.100</td>\n",
       "      <td>52.542373</td>\n",
       "      <td>0</td>\n",
       "      <td>1</td>\n",
       "      <td>2018</td>\n",
       "      <td>Другой</td>\n",
       "      <td>NaN</td>\n",
       "      <td>Другие</td>\n",
       "    </tr>\n",
       "    <tr>\n",
       "      <th>23696</th>\n",
       "      <td>18</td>\n",
       "      <td>2500000.0</td>\n",
       "      <td>56.70</td>\n",
       "      <td>2018-02-11</td>\n",
       "      <td>2</td>\n",
       "      <td>2.65</td>\n",
       "      <td>3.0</td>\n",
       "      <td>29.70000</td>\n",
       "      <td>1</td>\n",
       "      <td>True</td>\n",
       "      <td>False</td>\n",
       "      <td>False</td>\n",
       "      <td>NaN</td>\n",
       "      <td>0.0</td>\n",
       "      <td>село Рождествено</td>\n",
       "      <td>NaN</td>\n",
       "      <td>NaN</td>\n",
       "      <td>0.0</td>\n",
       "      <td>NaN</td>\n",
       "      <td>0.0</td>\n",
       "      <td>NaN</td>\n",
       "      <td>NaN</td>\n",
       "      <td>0.523810</td>\n",
       "      <td>село Рождествено</td>\n",
       "      <td>2.500</td>\n",
       "      <td>44.091711</td>\n",
       "      <td>6</td>\n",
       "      <td>2</td>\n",
       "      <td>2018</td>\n",
       "      <td>Первый</td>\n",
       "      <td>NaN</td>\n",
       "      <td>Другие</td>\n",
       "    </tr>\n",
       "    <tr>\n",
       "      <th>23697</th>\n",
       "      <td>13</td>\n",
       "      <td>11475000.0</td>\n",
       "      <td>76.75</td>\n",
       "      <td>2017-03-28</td>\n",
       "      <td>2</td>\n",
       "      <td>3.00</td>\n",
       "      <td>17.0</td>\n",
       "      <td>43.32149</td>\n",
       "      <td>12</td>\n",
       "      <td>True</td>\n",
       "      <td>False</td>\n",
       "      <td>False</td>\n",
       "      <td>23.30</td>\n",
       "      <td>2.0</td>\n",
       "      <td>Санкт-Петербург</td>\n",
       "      <td>39140.0</td>\n",
       "      <td>10364.0</td>\n",
       "      <td>2.0</td>\n",
       "      <td>173.0</td>\n",
       "      <td>3.0</td>\n",
       "      <td>196.0</td>\n",
       "      <td>602.0</td>\n",
       "      <td>NaN</td>\n",
       "      <td>Санкт-Петербург</td>\n",
       "      <td>11.475</td>\n",
       "      <td>149.511401</td>\n",
       "      <td>1</td>\n",
       "      <td>3</td>\n",
       "      <td>2017</td>\n",
       "      <td>Другой</td>\n",
       "      <td>10.0</td>\n",
       "      <td>Санкт-Петербург</td>\n",
       "    </tr>\n",
       "    <tr>\n",
       "      <th>23698</th>\n",
       "      <td>4</td>\n",
       "      <td>1350000.0</td>\n",
       "      <td>32.30</td>\n",
       "      <td>2017-07-21</td>\n",
       "      <td>1</td>\n",
       "      <td>2.50</td>\n",
       "      <td>5.0</td>\n",
       "      <td>12.30000</td>\n",
       "      <td>1</td>\n",
       "      <td>True</td>\n",
       "      <td>False</td>\n",
       "      <td>False</td>\n",
       "      <td>9.00</td>\n",
       "      <td>0.0</td>\n",
       "      <td>поселок Новый Учхоз</td>\n",
       "      <td>NaN</td>\n",
       "      <td>NaN</td>\n",
       "      <td>0.0</td>\n",
       "      <td>NaN</td>\n",
       "      <td>0.0</td>\n",
       "      <td>NaN</td>\n",
       "      <td>NaN</td>\n",
       "      <td>0.380805</td>\n",
       "      <td>поселок Новый Учхоз</td>\n",
       "      <td>1.350</td>\n",
       "      <td>41.795666</td>\n",
       "      <td>4</td>\n",
       "      <td>7</td>\n",
       "      <td>2017</td>\n",
       "      <td>Первый</td>\n",
       "      <td>NaN</td>\n",
       "      <td>Другие</td>\n",
       "    </tr>\n",
       "  </tbody>\n",
       "</table>\n",
       "<p>22360 rows × 32 columns</p>\n",
       "</div>"
      ],
      "text/plain": [
       "       total_images  last_price  total_area first_day_exposition  rooms  \\\n",
       "0                20  13000000.0      108.00           2019-03-07      3   \n",
       "1                 7   3350000.0       40.40           2018-12-04      1   \n",
       "2                10   5196000.0       56.00           2015-08-20      2   \n",
       "4                 2  10000000.0      100.00           2018-06-19      2   \n",
       "5                10   2890000.0       30.40           2018-09-10      1   \n",
       "...             ...         ...         ...                  ...    ...   \n",
       "23694             9   9700000.0      133.81           2017-03-21      3   \n",
       "23695            14   3100000.0       59.00           2018-01-15      3   \n",
       "23696            18   2500000.0       56.70           2018-02-11      2   \n",
       "23697            13  11475000.0       76.75           2017-03-28      2   \n",
       "23698             4   1350000.0       32.30           2017-07-21      1   \n",
       "\n",
       "       ceiling_height  floors_total  living_area  floor  is_apartment  studio  \\\n",
       "0                2.70          16.0     51.00000      8          True   False   \n",
       "1                2.65          11.0     18.60000      1          True   False   \n",
       "2                2.65           5.0     34.30000      4          True   False   \n",
       "4                3.03          14.0     32.00000     13          True   False   \n",
       "5                2.65          12.0     14.40000      5          True   False   \n",
       "...               ...           ...          ...    ...           ...     ...   \n",
       "23694            3.70           5.0     73.30000      3          True   False   \n",
       "23695            2.65           5.0     38.00000      4          True   False   \n",
       "23696            2.65           3.0     29.70000      1          True   False   \n",
       "23697            3.00          17.0     43.32149     12          True   False   \n",
       "23698            2.50           5.0     12.30000      1          True   False   \n",
       "\n",
       "       open_plan  kitchen_area  balcony              locality_name  \\\n",
       "0          False         25.00      0.0            Санкт-Петербург   \n",
       "1          False         11.00      2.0             посёлок Шушары   \n",
       "2          False          8.30      0.0            Санкт-Петербург   \n",
       "4          False         41.00      0.0            Санкт-Петербург   \n",
       "5          False          9.10      0.0  городской посёлок Янино-1   \n",
       "...          ...           ...      ...                        ...   \n",
       "23694      False         13.83      0.0            Санкт-Петербург   \n",
       "23695      False          8.50      0.0                      Тосно   \n",
       "23696      False           NaN      0.0           село Рождествено   \n",
       "23697      False         23.30      2.0            Санкт-Петербург   \n",
       "23698      False          9.00      0.0        поселок Новый Учхоз   \n",
       "\n",
       "       airports_nearest  cityCenters_nearest  parks_around3000  parks_nearest  \\\n",
       "0               18863.0              16028.0               1.0          482.0   \n",
       "1               12817.0              18603.0               0.0            NaN   \n",
       "2               21741.0              13933.0               1.0           90.0   \n",
       "4               31856.0               8098.0               2.0          112.0   \n",
       "5                   NaN                  NaN               0.0            NaN   \n",
       "...                 ...                  ...               ...            ...   \n",
       "23694           24665.0               4232.0               1.0          796.0   \n",
       "23695               NaN                  NaN               0.0            NaN   \n",
       "23696               NaN                  NaN               0.0            NaN   \n",
       "23697           39140.0              10364.0               2.0          173.0   \n",
       "23698               NaN                  NaN               0.0            NaN   \n",
       "\n",
       "       ponds_around3000  ponds_nearest  days_exposition  living_to_total  \\\n",
       "0                   2.0          755.0              NaN         0.472222   \n",
       "1                   0.0            NaN             81.0         0.460396   \n",
       "2                   2.0          574.0            558.0         0.612500   \n",
       "4                   1.0           48.0            121.0         0.320000   \n",
       "5                   0.0            NaN             55.0         0.473684   \n",
       "...                 ...            ...              ...              ...   \n",
       "23694               3.0          381.0              NaN         0.547792   \n",
       "23695               0.0            NaN             45.0         0.644068   \n",
       "23696               0.0            NaN              NaN         0.523810   \n",
       "23697               3.0          196.0            602.0              NaN   \n",
       "23698               0.0            NaN              NaN         0.380805   \n",
       "\n",
       "         locality_name_new  last_price_mln  sq_met_price  week_day  month  \\\n",
       "0          Санкт-Петербург          13.000    120.370370         3      3   \n",
       "1           поселок Шушары           3.350     82.920792         1     12   \n",
       "2          Санкт-Петербург           5.196     92.785714         3      8   \n",
       "4          Санкт-Петербург          10.000    100.000000         1      6   \n",
       "5          поселок Янино-1           2.890     95.065789         0      9   \n",
       "...                    ...             ...           ...       ...    ...   \n",
       "23694      Санкт-Петербург           9.700     72.490845         1      3   \n",
       "23695                Тосно           3.100     52.542373         0      1   \n",
       "23696     село Рождествено           2.500     44.091711         6      2   \n",
       "23697      Санкт-Петербург          11.475    149.511401         1      3   \n",
       "23698  поселок Новый Учхоз           1.350     41.795666         4      7   \n",
       "\n",
       "       year floor_type  city_center_km       group_name  \n",
       "0      2019     Другой            16.0  Санкт-Петербург  \n",
       "1      2018     Первый            19.0   поселок Шушары  \n",
       "2      2015     Другой            14.0  Санкт-Петербург  \n",
       "4      2018     Другой             8.0  Санкт-Петербург  \n",
       "5      2018     Другой             NaN           Другие  \n",
       "...     ...        ...             ...              ...  \n",
       "23694  2017     Другой             4.0  Санкт-Петербург  \n",
       "23695  2018     Другой             NaN           Другие  \n",
       "23696  2018     Первый             NaN           Другие  \n",
       "23697  2017     Другой            10.0  Санкт-Петербург  \n",
       "23698  2017     Первый             NaN           Другие  \n",
       "\n",
       "[22360 rows x 32 columns]"
      ]
     },
     "metadata": {},
     "output_type": "display_data"
    }
   ],
   "source": [
    "df['group_name'] = (\n",
    "    df['locality_name_new']\n",
    "    .where(df['locality_name_new'].isin(locality_ten.index), 'Другие')\n",
    ")\n",
    "\n",
    "display(df)"
   ]
  },
  {
   "cell_type": "code",
   "execution_count": 86,
   "metadata": {
    "scrolled": false
   },
   "outputs": [
    {
     "data": {
      "text/html": [
       "<div>\n",
       "<style scoped>\n",
       "    .dataframe tbody tr th:only-of-type {\n",
       "        vertical-align: middle;\n",
       "    }\n",
       "\n",
       "    .dataframe tbody tr th {\n",
       "        vertical-align: top;\n",
       "    }\n",
       "\n",
       "    .dataframe thead th {\n",
       "        text-align: right;\n",
       "    }\n",
       "</style>\n",
       "<table border=\"1\" class=\"dataframe\">\n",
       "  <thead>\n",
       "    <tr style=\"text-align: right;\">\n",
       "      <th></th>\n",
       "      <th>sq_met_price</th>\n",
       "    </tr>\n",
       "    <tr>\n",
       "      <th>group_name</th>\n",
       "      <th></th>\n",
       "    </tr>\n",
       "  </thead>\n",
       "  <tbody>\n",
       "    <tr>\n",
       "      <th>Всеволожск</th>\n",
       "      <td>68.915444</td>\n",
       "    </tr>\n",
       "    <tr>\n",
       "      <th>Выборг</th>\n",
       "      <td>58.782196</td>\n",
       "    </tr>\n",
       "    <tr>\n",
       "      <th>Гатчина</th>\n",
       "      <td>69.071006</td>\n",
       "    </tr>\n",
       "    <tr>\n",
       "      <th>Другие</th>\n",
       "      <td>61.082436</td>\n",
       "    </tr>\n",
       "    <tr>\n",
       "      <th>Колпино</th>\n",
       "      <td>75.203128</td>\n",
       "    </tr>\n",
       "    <tr>\n",
       "      <th>Кудрово</th>\n",
       "      <td>95.285241</td>\n",
       "    </tr>\n",
       "    <tr>\n",
       "      <th>Пушкин</th>\n",
       "      <td>102.592249</td>\n",
       "    </tr>\n",
       "    <tr>\n",
       "      <th>Санкт-Петербург</th>\n",
       "      <td>111.434486</td>\n",
       "    </tr>\n",
       "    <tr>\n",
       "      <th>поселок Мурино</th>\n",
       "      <td>85.547835</td>\n",
       "    </tr>\n",
       "    <tr>\n",
       "      <th>поселок Парголово</th>\n",
       "      <td>90.173246</td>\n",
       "    </tr>\n",
       "    <tr>\n",
       "      <th>поселок Шушары</th>\n",
       "      <td>78.512550</td>\n",
       "    </tr>\n",
       "  </tbody>\n",
       "</table>\n",
       "</div>"
      ],
      "text/plain": [
       "                   sq_met_price\n",
       "group_name                     \n",
       "Всеволожск            68.915444\n",
       "Выборг                58.782196\n",
       "Гатчина               69.071006\n",
       "Другие                61.082436\n",
       "Колпино               75.203128\n",
       "Кудрово               95.285241\n",
       "Пушкин               102.592249\n",
       "Санкт-Петербург      111.434486\n",
       "поселок Мурино        85.547835\n",
       "поселок Парголово     90.173246\n",
       "поселок Шушары        78.512550"
      ]
     },
     "metadata": {},
     "output_type": "display_data"
    },
    {
     "data": {
      "image/png": "[encoded data removed]",
      "text/plain": [
       "<Figure size 1080x504 with 1 Axes>"
      ]
     },
     "metadata": {
      "needs_background": "light"
     },
     "output_type": "display_data"
    }
   ],
   "source": [
    "data = df.pivot_table(index = 'group_name', values='sq_met_price')\n",
    "display(data)\n",
    "data.plot(style='o-', figsize=(15,7));"
   ]
  },
  {
   "cell_type": "markdown",
   "metadata": {},
   "source": [
    "Самая высокая цена за кв м в Санкт-Петербурге. Самая низкая - в Выборге"
   ]
  },
  {
   "cell_type": "code",
   "execution_count": 87,
   "metadata": {},
   "outputs": [
    {
     "data": {
      "image/png": "[encoded data removed]",
      "text/plain": [
       "<Figure size 432x288 with 1 Axes>"
      ]
     },
     "metadata": {
      "needs_background": "light"
     },
     "output_type": "display_data"
    }
   ],
   "source": [
    "data.plot(y='sq_met_price', kind='bar');"
   ]
  },
  {
   "cell_type": "code",
   "execution_count": 88,
   "metadata": {},
   "outputs": [
    {
     "data": {
      "image/png": "[encoded data removed]",
      "text/plain": [
       "<Figure size 432x288 with 1 Axes>"
      ]
     },
     "metadata": {
      "needs_background": "light"
     },
     "output_type": "display_data"
    }
   ],
   "source": [
    "(\n",
    "    df\n",
    "    .query('locality_name_new==\"Санкт-Петербург\"')\n",
    "    .pivot_table(index='cityCenters_nearest', values='sq_met_price')\n",
    "    .plot()\n",
    ");"
   ]
  },
  {
   "cell_type": "code",
   "execution_count": 89,
   "metadata": {},
   "outputs": [
    {
     "data": {
      "text/plain": [
       "-0.3380502282151866"
      ]
     },
     "execution_count": 89,
     "metadata": {},
     "output_type": "execute_result"
    }
   ],
   "source": [
    "data = df.query('locality_name_new==\"Санкт-Петербург\"')\n",
    "data['cityCenters_nearest'].corr(data['sq_met_price'])"
   ]
  },
  {
   "cell_type": "markdown",
   "metadata": {},
   "source": [
    "Таким образом, максимальная цена за кв.м. у квартир в пределах 2 км. от центра. Далее связь слабая обратая - чем больше расстояние от центра, тем ниже цена. Центром можно считать расстояние до 10км."
   ]
  },
  {
   "cell_type": "markdown",
   "metadata": {},
   "source": [
    "### Общий вывод"
   ]
  },
  {
   "cell_type": "markdown",
   "metadata": {},
   "source": [
    "1. Наиболее сильная зависимость наблюдается между общей площадью и итоговой ценой. Выше площадь - выше цена. При площади более 200 кв.м. зависимости нет. Скорее всего, это связано с небольшим количеством таких объявлений.\n",
    "\n",
    "2. Средняя прямая связь между итоговой ценой и жилой площадью квартиры, площадью кухни, количеством комнат. \n",
    "\n",
    "3. При расположении квартиры на 1 этаже итоговая цена значительно снижаетя.\n",
    "\n",
    "4. Самая высокая цена - при продаже в 5, 9, 11 месяцы. Самая низкая - в 6 и 10. Однако разница средней цены здесь незначительна (мин- 5.7, макс- 6.0)\n",
    "\n",
    "5. Больше стоили квартиры, объявления которых были размещены в среду или четверг. Меньше - в субботу\n",
    "\n",
    "6. Связь между ценой и годом продажи оценить сложно - достаточно информации только по 2017 и 2018 году. \n",
    "\n",
    "7. 10 населенных пунктов с наибольшим количеством объявлений: Санкт-Петербург, Всеволожск, Выборг, Гатчина, Колпино, Кудрово, Пушкин, поселок Мурино, поселок Парголово, поселок Шушары. Самая высокая цена за кв.м. в Петербурге - 111,5 тыс. руб. Самая низкая - в Выборге (58,8 тыс.).\n",
    "\n",
    "8. Связь между расстоянием от центра Петербурга и стоимостью кв.м. слабая отрицательная. Однако наблюдается резкое увеличение цены в пределах 2км. от центра города"
   ]
  }
 ],
 "metadata": {
  "ExecuteTimeLog": [
   {
    "duration": 795,
    "start_time": "2022-11-06T05:24:52.955Z"
   },
   {
    "duration": 310,
    "start_time": "2022-11-06T05:24:53.753Z"
   },
   {
    "duration": 43,
    "start_time": "2022-11-06T05:25:32.224Z"
   },
   {
    "duration": 44,
    "start_time": "2022-11-06T05:25:45.950Z"
   },
   {
    "duration": 46,
    "start_time": "2022-11-06T05:26:07.530Z"
   },
   {
    "duration": 65,
    "start_time": "2022-11-06T05:26:38.152Z"
   },
   {
    "duration": 579,
    "start_time": "2022-11-06T05:26:58.295Z"
   },
   {
    "duration": 43,
    "start_time": "2022-11-06T05:26:59.429Z"
   },
   {
    "duration": 49,
    "start_time": "2022-11-06T05:28:04.555Z"
   },
   {
    "duration": 71,
    "start_time": "2022-11-06T05:28:59.420Z"
   },
   {
    "duration": 40,
    "start_time": "2022-11-06T05:29:05.404Z"
   },
   {
    "duration": 89,
    "start_time": "2022-11-06T05:29:09.036Z"
   },
   {
    "duration": 577,
    "start_time": "2022-11-06T05:30:00.992Z"
   },
   {
    "duration": 91,
    "start_time": "2022-11-06T05:30:01.571Z"
   },
   {
    "duration": 104,
    "start_time": "2022-11-06T05:31:03.492Z"
   },
   {
    "duration": 111,
    "start_time": "2022-11-06T05:31:10.675Z"
   },
   {
    "duration": 117,
    "start_time": "2022-11-06T05:33:08.564Z"
   },
   {
    "duration": 25,
    "start_time": "2022-11-06T05:33:38.436Z"
   },
   {
    "duration": 17,
    "start_time": "2022-11-06T05:33:50.014Z"
   },
   {
    "duration": 113,
    "start_time": "2022-11-06T05:34:21.184Z"
   },
   {
    "duration": 16,
    "start_time": "2022-11-06T05:34:22.894Z"
   },
   {
    "duration": 2123,
    "start_time": "2022-11-06T05:36:57.736Z"
   },
   {
    "duration": 2992,
    "start_time": "2022-11-06T05:37:53.010Z"
   },
   {
    "duration": 135,
    "start_time": "2022-11-06T05:40:57.945Z"
   },
   {
    "duration": 115,
    "start_time": "2022-11-06T05:42:02.872Z"
   },
   {
    "duration": 181,
    "start_time": "2022-11-06T05:42:20.728Z"
   },
   {
    "duration": 182,
    "start_time": "2022-11-06T05:42:27.983Z"
   },
   {
    "duration": 164,
    "start_time": "2022-11-06T05:52:02.276Z"
   },
   {
    "duration": 165,
    "start_time": "2022-11-06T05:52:07.940Z"
   },
   {
    "duration": 190,
    "start_time": "2022-11-06T05:52:24.711Z"
   },
   {
    "duration": 196,
    "start_time": "2022-11-06T05:52:33.700Z"
   },
   {
    "duration": 371,
    "start_time": "2022-11-06T05:52:42.447Z"
   },
   {
    "duration": 191,
    "start_time": "2022-11-06T05:52:48.229Z"
   },
   {
    "duration": 236,
    "start_time": "2022-11-06T06:46:50.636Z"
   },
   {
    "duration": 211,
    "start_time": "2022-11-06T06:47:00.331Z"
   },
   {
    "duration": 183,
    "start_time": "2022-11-06T06:47:07.092Z"
   },
   {
    "duration": 184,
    "start_time": "2022-11-06T06:48:00.357Z"
   },
   {
    "duration": 176,
    "start_time": "2022-11-06T06:48:08.983Z"
   },
   {
    "duration": 214,
    "start_time": "2022-11-06T06:48:22.774Z"
   },
   {
    "duration": 241,
    "start_time": "2022-11-06T06:48:27.069Z"
   },
   {
    "duration": 244,
    "start_time": "2022-11-06T06:49:17.248Z"
   },
   {
    "duration": 192,
    "start_time": "2022-11-06T06:49:35.816Z"
   },
   {
    "duration": 337,
    "start_time": "2022-11-06T06:49:39.320Z"
   },
   {
    "duration": 11,
    "start_time": "2022-11-06T06:55:51.087Z"
   },
   {
    "duration": 11,
    "start_time": "2022-11-06T06:56:08.607Z"
   },
   {
    "duration": 616,
    "start_time": "2022-11-06T06:56:18.259Z"
   },
   {
    "duration": 126,
    "start_time": "2022-11-06T06:56:18.876Z"
   },
   {
    "duration": 17,
    "start_time": "2022-11-06T06:56:19.179Z"
   },
   {
    "duration": 2866,
    "start_time": "2022-11-06T06:56:20.821Z"
   },
   {
    "duration": 194,
    "start_time": "2022-11-06T06:56:24.975Z"
   },
   {
    "duration": 194,
    "start_time": "2022-11-06T06:56:28.436Z"
   },
   {
    "duration": 12,
    "start_time": "2022-11-06T06:56:32.699Z"
   },
   {
    "duration": 10,
    "start_time": "2022-11-06T06:58:23.454Z"
   },
   {
    "duration": 79,
    "start_time": "2022-11-06T07:02:00.218Z"
   },
   {
    "duration": 17,
    "start_time": "2022-11-06T07:02:08.804Z"
   },
   {
    "duration": 8,
    "start_time": "2022-11-06T07:02:22.451Z"
   },
   {
    "duration": 10,
    "start_time": "2022-11-06T07:02:43.515Z"
   },
   {
    "duration": 28,
    "start_time": "2022-11-06T07:02:52.147Z"
   },
   {
    "duration": 9,
    "start_time": "2022-11-06T07:03:06.640Z"
   },
   {
    "duration": 25,
    "start_time": "2022-11-06T07:03:14.915Z"
   },
   {
    "duration": 11,
    "start_time": "2022-11-06T07:03:28.384Z"
   },
   {
    "duration": 5,
    "start_time": "2022-11-06T07:04:03.773Z"
   },
   {
    "duration": 21,
    "start_time": "2022-11-06T07:04:22.845Z"
   },
   {
    "duration": 394,
    "start_time": "2022-11-06T07:05:05.160Z"
   },
   {
    "duration": 439,
    "start_time": "2022-11-06T07:05:39.465Z"
   },
   {
    "duration": 6,
    "start_time": "2022-11-06T07:10:40.974Z"
   },
   {
    "duration": 13,
    "start_time": "2022-11-06T07:14:36.484Z"
   },
   {
    "duration": 10,
    "start_time": "2022-11-06T07:16:21.094Z"
   },
   {
    "duration": 14,
    "start_time": "2022-11-06T07:16:35.326Z"
   },
   {
    "duration": 10,
    "start_time": "2022-11-06T07:16:43.541Z"
   },
   {
    "duration": 8,
    "start_time": "2022-11-06T07:18:00.679Z"
   },
   {
    "duration": 8,
    "start_time": "2022-11-06T07:18:05.751Z"
   },
   {
    "duration": 561,
    "start_time": "2022-11-06T07:18:58.348Z"
   },
   {
    "duration": 97,
    "start_time": "2022-11-06T07:19:07.784Z"
   },
   {
    "duration": 9,
    "start_time": "2022-11-06T07:21:34.428Z"
   },
   {
    "duration": 29,
    "start_time": "2022-11-06T07:26:47.331Z"
   },
   {
    "duration": 9,
    "start_time": "2022-11-06T07:26:55.091Z"
   },
   {
    "duration": 9,
    "start_time": "2022-11-06T07:27:42.084Z"
   },
   {
    "duration": 22,
    "start_time": "2022-11-06T07:28:24.108Z"
   },
   {
    "duration": 6,
    "start_time": "2022-11-06T07:31:17.159Z"
   },
   {
    "duration": 10,
    "start_time": "2022-11-06T07:32:00.881Z"
   },
   {
    "duration": 10,
    "start_time": "2022-11-06T07:32:08.272Z"
   },
   {
    "duration": 9,
    "start_time": "2022-11-06T07:32:23.963Z"
   },
   {
    "duration": 9,
    "start_time": "2022-11-06T07:32:31.395Z"
   },
   {
    "duration": 9,
    "start_time": "2022-11-06T07:32:39.979Z"
   },
   {
    "duration": 11,
    "start_time": "2022-11-06T07:32:56.937Z"
   },
   {
    "duration": 722,
    "start_time": "2022-11-06T11:14:01.471Z"
   },
   {
    "duration": 861,
    "start_time": "2022-11-06T11:14:08.497Z"
   },
   {
    "duration": 825,
    "start_time": "2022-11-06T11:14:13.120Z"
   },
   {
    "duration": 352,
    "start_time": "2022-11-06T11:14:28.147Z"
   },
   {
    "duration": 9,
    "start_time": "2022-11-06T11:14:41.520Z"
   },
   {
    "duration": 675,
    "start_time": "2022-11-06T11:14:58.087Z"
   },
   {
    "duration": 6,
    "start_time": "2022-11-06T11:15:48.889Z"
   },
   {
    "duration": 8,
    "start_time": "2022-11-06T11:16:49.300Z"
   },
   {
    "duration": 9,
    "start_time": "2022-11-06T11:17:07.404Z"
   },
   {
    "duration": 5,
    "start_time": "2022-11-06T11:19:40.158Z"
   },
   {
    "duration": 5,
    "start_time": "2022-11-06T11:20:02.592Z"
   },
   {
    "duration": 5,
    "start_time": "2022-11-06T11:20:42.665Z"
   },
   {
    "duration": 6,
    "start_time": "2022-11-06T11:20:52.647Z"
   },
   {
    "duration": 5,
    "start_time": "2022-11-06T11:20:56.600Z"
   },
   {
    "duration": 5,
    "start_time": "2022-11-06T11:21:06.216Z"
   },
   {
    "duration": 18,
    "start_time": "2022-11-06T11:26:03.655Z"
   },
   {
    "duration": 27,
    "start_time": "2022-11-06T11:26:22.521Z"
   },
   {
    "duration": 28,
    "start_time": "2022-11-06T11:26:32.663Z"
   },
   {
    "duration": 17,
    "start_time": "2022-11-06T11:26:52.194Z"
   },
   {
    "duration": 24,
    "start_time": "2022-11-06T11:27:18.488Z"
   },
   {
    "duration": 20,
    "start_time": "2022-11-06T11:27:27.106Z"
   },
   {
    "duration": 17,
    "start_time": "2022-11-06T11:28:27.564Z"
   },
   {
    "duration": 15,
    "start_time": "2022-11-06T11:29:00.572Z"
   },
   {
    "duration": 15,
    "start_time": "2022-11-06T11:29:24.748Z"
   },
   {
    "duration": 13,
    "start_time": "2022-11-06T11:30:06.981Z"
   },
   {
    "duration": 14,
    "start_time": "2022-11-06T11:30:21.551Z"
   },
   {
    "duration": 648,
    "start_time": "2022-11-06T11:30:35.761Z"
   },
   {
    "duration": 124,
    "start_time": "2022-11-06T11:30:36.758Z"
   },
   {
    "duration": 19,
    "start_time": "2022-11-06T11:30:41.890Z"
   },
   {
    "duration": 3076,
    "start_time": "2022-11-06T11:30:45.795Z"
   },
   {
    "duration": 206,
    "start_time": "2022-11-06T11:30:48.897Z"
   },
   {
    "duration": 17,
    "start_time": "2022-11-06T11:30:50.960Z"
   },
   {
    "duration": 16,
    "start_time": "2022-11-06T11:31:01.761Z"
   },
   {
    "duration": 11,
    "start_time": "2022-11-06T11:31:11.177Z"
   },
   {
    "duration": 15,
    "start_time": "2022-11-06T11:31:11.857Z"
   },
   {
    "duration": 5,
    "start_time": "2022-11-06T11:31:15.306Z"
   },
   {
    "duration": 9,
    "start_time": "2022-11-06T11:31:23.043Z"
   },
   {
    "duration": 192,
    "start_time": "2022-11-06T11:31:24.146Z"
   },
   {
    "duration": 7,
    "start_time": "2022-11-06T11:31:28.860Z"
   },
   {
    "duration": 5,
    "start_time": "2022-11-06T11:31:29.113Z"
   },
   {
    "duration": 25,
    "start_time": "2022-11-06T11:31:29.394Z"
   },
   {
    "duration": 6,
    "start_time": "2022-11-06T11:31:30.609Z"
   },
   {
    "duration": 8,
    "start_time": "2022-11-06T11:35:13.495Z"
   },
   {
    "duration": 44,
    "start_time": "2022-11-06T11:35:32.775Z"
   },
   {
    "duration": 7,
    "start_time": "2022-11-06T11:35:37.146Z"
   },
   {
    "duration": 5,
    "start_time": "2022-11-06T11:36:04.166Z"
   },
   {
    "duration": 4,
    "start_time": "2022-11-06T11:36:05.748Z"
   },
   {
    "duration": 5,
    "start_time": "2022-11-06T11:36:10.946Z"
   },
   {
    "duration": 5,
    "start_time": "2022-11-06T11:36:11.408Z"
   },
   {
    "duration": 24,
    "start_time": "2022-11-06T11:36:11.889Z"
   },
   {
    "duration": 5,
    "start_time": "2022-11-06T11:36:12.843Z"
   },
   {
    "duration": 34,
    "start_time": "2022-11-06T11:36:14.600Z"
   },
   {
    "duration": 23,
    "start_time": "2022-11-06T11:36:23.120Z"
   },
   {
    "duration": 604,
    "start_time": "2022-11-06T11:40:12.280Z"
   },
   {
    "duration": 126,
    "start_time": "2022-11-06T11:40:12.886Z"
   },
   {
    "duration": 19,
    "start_time": "2022-11-06T11:40:13.798Z"
   },
   {
    "duration": 3086,
    "start_time": "2022-11-06T11:40:14.872Z"
   },
   {
    "duration": 213,
    "start_time": "2022-11-06T11:40:17.960Z"
   },
   {
    "duration": 9,
    "start_time": "2022-11-06T11:40:19.954Z"
   },
   {
    "duration": 5,
    "start_time": "2022-11-06T11:40:21.552Z"
   },
   {
    "duration": 10,
    "start_time": "2022-11-06T11:40:22.073Z"
   },
   {
    "duration": 181,
    "start_time": "2022-11-06T11:40:22.849Z"
   },
   {
    "duration": 6,
    "start_time": "2022-11-06T11:40:24.264Z"
   },
   {
    "duration": 8,
    "start_time": "2022-11-06T11:40:25.052Z"
   },
   {
    "duration": 6,
    "start_time": "2022-11-06T11:40:25.793Z"
   },
   {
    "duration": 25,
    "start_time": "2022-11-06T11:40:26.449Z"
   },
   {
    "duration": 6,
    "start_time": "2022-11-06T11:40:27.148Z"
   },
   {
    "duration": 24,
    "start_time": "2022-11-06T11:40:29.466Z"
   },
   {
    "duration": 9,
    "start_time": "2022-11-06T11:40:30.090Z"
   },
   {
    "duration": 74,
    "start_time": "2022-11-06T11:42:31.582Z"
   },
   {
    "duration": 6,
    "start_time": "2022-11-06T11:43:19.981Z"
   },
   {
    "duration": 14,
    "start_time": "2022-11-06T11:51:06.347Z"
   },
   {
    "duration": 368,
    "start_time": "2022-11-06T11:54:15.172Z"
   },
   {
    "duration": 7,
    "start_time": "2022-11-06T11:54:29.935Z"
   },
   {
    "duration": 12,
    "start_time": "2022-11-06T11:55:19.487Z"
   },
   {
    "duration": 181,
    "start_time": "2022-11-06T11:55:45.039Z"
   },
   {
    "duration": 5,
    "start_time": "2022-11-06T11:56:14.945Z"
   },
   {
    "duration": 5,
    "start_time": "2022-11-06T11:56:15.775Z"
   },
   {
    "duration": 8,
    "start_time": "2022-11-06T11:56:16.242Z"
   },
   {
    "duration": 167,
    "start_time": "2022-11-06T11:56:16.767Z"
   },
   {
    "duration": 5,
    "start_time": "2022-11-06T11:56:18.150Z"
   },
   {
    "duration": 6,
    "start_time": "2022-11-06T11:56:18.511Z"
   },
   {
    "duration": 5,
    "start_time": "2022-11-06T11:56:18.933Z"
   },
   {
    "duration": 644,
    "start_time": "2022-11-06T11:56:28.811Z"
   },
   {
    "duration": 130,
    "start_time": "2022-11-06T11:56:29.457Z"
   },
   {
    "duration": 19,
    "start_time": "2022-11-06T11:56:29.588Z"
   },
   {
    "duration": 3052,
    "start_time": "2022-11-06T11:56:29.748Z"
   },
   {
    "duration": 194,
    "start_time": "2022-11-06T11:56:32.802Z"
   },
   {
    "duration": 11,
    "start_time": "2022-11-06T11:56:32.998Z"
   },
   {
    "duration": 29,
    "start_time": "2022-11-06T11:56:33.011Z"
   },
   {
    "duration": 13,
    "start_time": "2022-11-06T11:56:33.042Z"
   },
   {
    "duration": 6,
    "start_time": "2022-11-06T11:56:36.556Z"
   },
   {
    "duration": 13,
    "start_time": "2022-11-06T11:56:37.260Z"
   },
   {
    "duration": 184,
    "start_time": "2022-11-06T11:56:37.948Z"
   },
   {
    "duration": 5,
    "start_time": "2022-11-06T11:56:41.011Z"
   },
   {
    "duration": 8,
    "start_time": "2022-11-06T11:56:41.709Z"
   },
   {
    "duration": 5,
    "start_time": "2022-11-06T11:56:42.187Z"
   },
   {
    "duration": 23,
    "start_time": "2022-11-06T11:56:42.836Z"
   },
   {
    "duration": 6,
    "start_time": "2022-11-06T11:56:43.805Z"
   },
   {
    "duration": 11,
    "start_time": "2022-11-06T11:56:45.092Z"
   },
   {
    "duration": 176,
    "start_time": "2022-11-06T11:56:45.683Z"
   },
   {
    "duration": 9,
    "start_time": "2022-11-06T11:57:22.278Z"
   },
   {
    "duration": 161,
    "start_time": "2022-11-06T11:57:38.144Z"
   },
   {
    "duration": 9,
    "start_time": "2022-11-06T11:57:39.117Z"
   },
   {
    "duration": 211,
    "start_time": "2022-11-06T11:57:53.734Z"
   },
   {
    "duration": 304,
    "start_time": "2022-11-06T11:58:09.247Z"
   },
   {
    "duration": 221,
    "start_time": "2022-11-06T11:58:16.848Z"
   },
   {
    "duration": 380,
    "start_time": "2022-11-06T11:58:27.095Z"
   },
   {
    "duration": 254,
    "start_time": "2022-11-06T11:58:37.033Z"
   },
   {
    "duration": 8,
    "start_time": "2022-11-06T11:58:39.895Z"
   },
   {
    "duration": 182,
    "start_time": "2022-11-06T12:01:12.202Z"
   },
   {
    "duration": 713,
    "start_time": "2022-11-06T12:02:45.788Z"
   },
   {
    "duration": 647,
    "start_time": "2022-11-06T12:02:49.862Z"
   },
   {
    "duration": 120,
    "start_time": "2022-11-06T12:02:59.508Z"
   },
   {
    "duration": 9,
    "start_time": "2022-11-06T12:03:11.356Z"
   },
   {
    "duration": 9,
    "start_time": "2022-11-06T12:04:15.478Z"
   },
   {
    "duration": 154,
    "start_time": "2022-11-06T12:04:30.856Z"
   },
   {
    "duration": 133,
    "start_time": "2022-11-06T12:04:46.729Z"
   },
   {
    "duration": 137,
    "start_time": "2022-11-06T12:04:56.494Z"
   },
   {
    "duration": 141,
    "start_time": "2022-11-06T12:05:16.279Z"
   },
   {
    "duration": 267,
    "start_time": "2022-11-06T12:05:27.235Z"
   },
   {
    "duration": 370,
    "start_time": "2022-11-06T12:05:41.392Z"
   },
   {
    "duration": 236,
    "start_time": "2022-11-06T12:05:46.475Z"
   },
   {
    "duration": 39,
    "start_time": "2022-11-06T12:07:43.889Z"
   },
   {
    "duration": 74,
    "start_time": "2022-11-06T14:34:45.595Z"
   },
   {
    "duration": 231,
    "start_time": "2022-11-06T14:36:21.895Z"
   },
   {
    "duration": 189,
    "start_time": "2022-11-06T14:36:26.438Z"
   },
   {
    "duration": 6,
    "start_time": "2022-11-06T14:37:07.942Z"
   },
   {
    "duration": 226,
    "start_time": "2022-11-06T14:39:19.154Z"
   },
   {
    "duration": 21,
    "start_time": "2022-11-06T14:41:14.513Z"
   },
   {
    "duration": 23,
    "start_time": "2022-11-06T14:42:14.288Z"
   },
   {
    "duration": 16,
    "start_time": "2022-11-06T14:42:19.402Z"
   },
   {
    "duration": 16,
    "start_time": "2022-11-06T14:42:28.021Z"
   },
   {
    "duration": 17,
    "start_time": "2022-11-06T14:42:33.219Z"
   },
   {
    "duration": 148,
    "start_time": "2022-11-06T14:42:41.355Z"
   },
   {
    "duration": 153,
    "start_time": "2022-11-06T14:42:59.077Z"
   },
   {
    "duration": 5,
    "start_time": "2022-11-06T14:44:35.454Z"
   },
   {
    "duration": 12,
    "start_time": "2022-11-06T14:45:05.926Z"
   },
   {
    "duration": 8,
    "start_time": "2022-11-06T14:45:36.002Z"
   },
   {
    "duration": 9,
    "start_time": "2022-11-06T14:45:48.920Z"
   },
   {
    "duration": 64,
    "start_time": "2022-11-06T14:46:20.223Z"
   },
   {
    "duration": 44,
    "start_time": "2022-11-06T14:46:24.384Z"
   },
   {
    "duration": 9,
    "start_time": "2022-11-06T14:46:35.288Z"
   },
   {
    "duration": 8,
    "start_time": "2022-11-06T14:46:49.537Z"
   },
   {
    "duration": 13,
    "start_time": "2022-11-06T14:48:01.617Z"
   },
   {
    "duration": 15,
    "start_time": "2022-11-06T14:48:16.212Z"
   },
   {
    "duration": 8,
    "start_time": "2022-11-06T14:48:59.996Z"
   },
   {
    "duration": 13,
    "start_time": "2022-11-06T14:49:17.950Z"
   },
   {
    "duration": 13,
    "start_time": "2022-11-06T14:53:05.555Z"
   },
   {
    "duration": 13,
    "start_time": "2022-11-06T14:55:24.516Z"
   },
   {
    "duration": 13,
    "start_time": "2022-11-06T14:55:33.878Z"
   },
   {
    "duration": 12,
    "start_time": "2022-11-06T14:55:41.924Z"
   },
   {
    "duration": 732,
    "start_time": "2022-11-06T14:57:26.585Z"
   },
   {
    "duration": 730,
    "start_time": "2022-11-06T14:57:45.265Z"
   },
   {
    "duration": 756,
    "start_time": "2022-11-06T14:57:53.961Z"
   },
   {
    "duration": 707,
    "start_time": "2022-11-06T14:58:07.760Z"
   },
   {
    "duration": 710,
    "start_time": "2022-11-06T14:58:15.057Z"
   },
   {
    "duration": 638,
    "start_time": "2022-11-06T14:59:22.827Z"
   },
   {
    "duration": 664,
    "start_time": "2022-11-06T14:59:40.210Z"
   },
   {
    "duration": 15,
    "start_time": "2022-11-06T14:59:53.276Z"
   },
   {
    "duration": 801,
    "start_time": "2022-11-06T15:03:45.256Z"
   },
   {
    "duration": 694,
    "start_time": "2022-11-06T15:04:03.965Z"
   },
   {
    "duration": 142,
    "start_time": "2022-11-06T15:04:04.666Z"
   },
   {
    "duration": 23,
    "start_time": "2022-11-06T15:04:05.352Z"
   },
   {
    "duration": 3135,
    "start_time": "2022-11-06T15:04:06.404Z"
   },
   {
    "duration": 212,
    "start_time": "2022-11-06T15:04:09.541Z"
   },
   {
    "duration": 11,
    "start_time": "2022-11-06T15:04:09.754Z"
   },
   {
    "duration": 8,
    "start_time": "2022-11-06T15:04:09.767Z"
   },
   {
    "duration": 12,
    "start_time": "2022-11-06T15:04:09.776Z"
   },
   {
    "duration": 8,
    "start_time": "2022-11-06T15:04:09.789Z"
   },
   {
    "duration": 41,
    "start_time": "2022-11-06T15:04:09.799Z"
   },
   {
    "duration": 198,
    "start_time": "2022-11-06T15:04:09.842Z"
   },
   {
    "duration": 6,
    "start_time": "2022-11-06T15:04:10.042Z"
   },
   {
    "duration": 8,
    "start_time": "2022-11-06T15:04:10.051Z"
   },
   {
    "duration": 7,
    "start_time": "2022-11-06T15:04:10.061Z"
   },
   {
    "duration": 25,
    "start_time": "2022-11-06T15:04:10.070Z"
   },
   {
    "duration": 7,
    "start_time": "2022-11-06T15:04:10.097Z"
   },
   {
    "duration": 38,
    "start_time": "2022-11-06T15:04:10.106Z"
   },
   {
    "duration": 230,
    "start_time": "2022-11-06T15:04:10.145Z"
   },
   {
    "duration": 9,
    "start_time": "2022-11-06T15:04:10.377Z"
   },
   {
    "duration": 203,
    "start_time": "2022-11-06T15:04:11.502Z"
   },
   {
    "duration": 10,
    "start_time": "2022-11-06T15:04:12.142Z"
   },
   {
    "duration": 9,
    "start_time": "2022-11-06T15:04:12.575Z"
   },
   {
    "duration": 228,
    "start_time": "2022-11-06T15:04:13.039Z"
   },
   {
    "duration": 309,
    "start_time": "2022-11-06T15:04:13.881Z"
   },
   {
    "duration": 6,
    "start_time": "2022-11-06T15:04:14.662Z"
   },
   {
    "duration": 757,
    "start_time": "2022-11-06T15:04:15.904Z"
   },
   {
    "duration": 848,
    "start_time": "2022-11-06T15:05:39.878Z"
   },
   {
    "duration": 804,
    "start_time": "2022-11-06T15:06:04.172Z"
   },
   {
    "duration": 146,
    "start_time": "2022-11-06T15:09:14.921Z"
   },
   {
    "duration": 14,
    "start_time": "2022-11-06T15:10:27.298Z"
   },
   {
    "duration": 873,
    "start_time": "2022-11-06T15:10:36.513Z"
   },
   {
    "duration": 777,
    "start_time": "2022-11-06T15:11:06.729Z"
   },
   {
    "duration": 664,
    "start_time": "2022-11-15T07:15:52.267Z"
   },
   {
    "duration": 174,
    "start_time": "2022-11-15T07:15:52.932Z"
   },
   {
    "duration": 20,
    "start_time": "2022-11-15T07:15:53.108Z"
   },
   {
    "duration": 3225,
    "start_time": "2022-11-15T07:15:53.130Z"
   },
   {
    "duration": 274,
    "start_time": "2022-11-15T07:15:56.380Z"
   },
   {
    "duration": 11,
    "start_time": "2022-11-15T07:15:56.656Z"
   },
   {
    "duration": 12,
    "start_time": "2022-11-15T07:15:56.669Z"
   },
   {
    "duration": 9,
    "start_time": "2022-11-15T07:15:56.683Z"
   },
   {
    "duration": 19,
    "start_time": "2022-11-15T07:15:56.694Z"
   },
   {
    "duration": 4,
    "start_time": "2022-11-15T07:15:56.717Z"
   },
   {
    "duration": 9,
    "start_time": "2022-11-15T07:15:56.723Z"
   },
   {
    "duration": 13,
    "start_time": "2022-11-15T07:15:56.733Z"
   },
   {
    "duration": 242,
    "start_time": "2022-11-15T07:15:56.748Z"
   },
   {
    "duration": 222,
    "start_time": "2022-11-15T07:15:56.992Z"
   },
   {
    "duration": 7,
    "start_time": "2022-11-15T07:15:57.216Z"
   },
   {
    "duration": 8,
    "start_time": "2022-11-15T07:15:57.224Z"
   },
   {
    "duration": 9,
    "start_time": "2022-11-15T07:15:57.234Z"
   },
   {
    "duration": 8,
    "start_time": "2022-11-15T07:15:57.245Z"
   },
   {
    "duration": 7,
    "start_time": "2022-11-15T07:15:57.255Z"
   },
   {
    "duration": 13,
    "start_time": "2022-11-15T07:15:57.264Z"
   },
   {
    "duration": 35,
    "start_time": "2022-11-15T07:15:57.279Z"
   },
   {
    "duration": 234,
    "start_time": "2022-11-15T07:15:57.315Z"
   },
   {
    "duration": 9,
    "start_time": "2022-11-15T07:15:57.551Z"
   },
   {
    "duration": 211,
    "start_time": "2022-11-15T07:15:57.561Z"
   },
   {
    "duration": 11,
    "start_time": "2022-11-15T07:15:57.774Z"
   },
   {
    "duration": 26,
    "start_time": "2022-11-15T07:15:57.787Z"
   },
   {
    "duration": 346,
    "start_time": "2022-11-15T07:15:57.815Z"
   },
   {
    "duration": 240,
    "start_time": "2022-11-15T07:15:58.167Z"
   },
   {
    "duration": 22,
    "start_time": "2022-11-15T07:15:58.409Z"
   },
   {
    "duration": 6,
    "start_time": "2022-11-15T07:15:58.433Z"
   },
   {
    "duration": 16,
    "start_time": "2022-11-15T07:15:58.441Z"
   },
   {
    "duration": 4,
    "start_time": "2022-11-15T07:15:58.460Z"
   },
   {
    "duration": 8,
    "start_time": "2022-11-15T07:15:58.466Z"
   },
   {
    "duration": 62,
    "start_time": "2022-11-15T07:15:58.513Z"
   },
   {
    "duration": 6,
    "start_time": "2022-11-15T07:15:58.577Z"
   },
   {
    "duration": 27,
    "start_time": "2022-11-15T07:15:58.589Z"
   },
   {
    "duration": 14,
    "start_time": "2022-11-15T07:15:58.618Z"
   },
   {
    "duration": 11,
    "start_time": "2022-11-15T07:15:58.634Z"
   },
   {
    "duration": 11,
    "start_time": "2022-11-15T07:15:58.647Z"
   },
   {
    "duration": 15,
    "start_time": "2022-11-15T07:15:58.660Z"
   },
   {
    "duration": 40,
    "start_time": "2022-11-15T07:15:58.677Z"
   },
   {
    "duration": 11,
    "start_time": "2022-11-15T07:15:58.719Z"
   },
   {
    "duration": 12,
    "start_time": "2022-11-15T07:15:58.732Z"
   },
   {
    "duration": 10,
    "start_time": "2022-11-15T07:15:58.745Z"
   },
   {
    "duration": 162,
    "start_time": "2022-11-15T07:15:58.757Z"
   },
   {
    "duration": 13,
    "start_time": "2022-11-15T07:15:58.921Z"
   },
   {
    "duration": 20,
    "start_time": "2022-11-15T07:15:58.936Z"
   },
   {
    "duration": 18,
    "start_time": "2022-11-15T07:15:58.958Z"
   },
   {
    "duration": 11,
    "start_time": "2022-11-15T07:15:58.978Z"
   },
   {
    "duration": 26,
    "start_time": "2022-11-15T07:15:58.990Z"
   },
   {
    "duration": 13,
    "start_time": "2022-11-15T07:15:59.018Z"
   },
   {
    "duration": 18,
    "start_time": "2022-11-15T07:15:59.033Z"
   },
   {
    "duration": 16,
    "start_time": "2022-11-15T07:15:59.053Z"
   },
   {
    "duration": 13,
    "start_time": "2022-11-15T07:15:59.071Z"
   },
   {
    "duration": 13,
    "start_time": "2022-11-15T07:15:59.112Z"
   },
   {
    "duration": 13,
    "start_time": "2022-11-15T07:15:59.127Z"
   },
   {
    "duration": 16,
    "start_time": "2022-11-15T07:15:59.142Z"
   },
   {
    "duration": 24,
    "start_time": "2022-11-15T07:15:59.159Z"
   },
   {
    "duration": 4,
    "start_time": "2022-11-15T07:15:59.185Z"
   },
   {
    "duration": 32,
    "start_time": "2022-11-15T07:15:59.191Z"
   },
   {
    "duration": 356,
    "start_time": "2022-11-15T07:15:59.225Z"
   },
   {
    "duration": 5,
    "start_time": "2022-11-15T07:15:59.583Z"
   },
   {
    "duration": 257,
    "start_time": "2022-11-15T07:15:59.590Z"
   },
   {
    "duration": 252,
    "start_time": "2022-11-15T07:15:59.848Z"
   },
   {
    "duration": 281,
    "start_time": "2022-11-15T07:16:00.102Z"
   },
   {
    "duration": 353,
    "start_time": "2022-11-15T07:16:00.385Z"
   },
   {
    "duration": 240,
    "start_time": "2022-11-15T07:16:00.740Z"
   },
   {
    "duration": 230,
    "start_time": "2022-11-15T07:16:00.982Z"
   },
   {
    "duration": 217,
    "start_time": "2022-11-15T07:16:01.214Z"
   },
   {
    "duration": 214,
    "start_time": "2022-11-15T07:16:01.433Z"
   },
   {
    "duration": 224,
    "start_time": "2022-11-15T07:16:01.649Z"
   },
   {
    "duration": 250,
    "start_time": "2022-11-15T07:16:01.875Z"
   },
   {
    "duration": 270,
    "start_time": "2022-11-15T07:16:02.128Z"
   },
   {
    "duration": 368,
    "start_time": "2022-11-15T07:16:02.400Z"
   },
   {
    "duration": 226,
    "start_time": "2022-11-15T07:16:02.770Z"
   },
   {
    "duration": 245,
    "start_time": "2022-11-15T07:16:02.998Z"
   },
   {
    "duration": 276,
    "start_time": "2022-11-15T07:16:03.245Z"
   },
   {
    "duration": 9,
    "start_time": "2022-11-15T07:16:03.523Z"
   },
   {
    "duration": 75,
    "start_time": "2022-11-15T07:16:03.533Z"
   },
   {
    "duration": 207,
    "start_time": "2022-11-15T07:16:03.610Z"
   },
   {
    "duration": 216,
    "start_time": "2022-11-15T07:16:03.819Z"
   },
   {
    "duration": 234,
    "start_time": "2022-11-15T07:16:04.042Z"
   },
   {
    "duration": 210,
    "start_time": "2022-11-15T07:16:04.278Z"
   },
   {
    "duration": 162,
    "start_time": "2022-11-15T07:16:04.490Z"
   },
   {
    "duration": 179,
    "start_time": "2022-11-15T07:16:04.654Z"
   },
   {
    "duration": 206,
    "start_time": "2022-11-15T07:16:04.835Z"
   },
   {
    "duration": 176,
    "start_time": "2022-11-15T07:16:05.044Z"
   },
   {
    "duration": 14,
    "start_time": "2022-11-15T07:16:05.223Z"
   },
   {
    "duration": 55,
    "start_time": "2022-11-15T07:16:05.238Z"
   },
   {
    "duration": 211,
    "start_time": "2022-11-15T07:16:05.312Z"
   },
   {
    "duration": 171,
    "start_time": "2022-11-15T07:16:05.524Z"
   },
   {
    "duration": 17,
    "start_time": "2022-11-15T07:16:05.698Z"
   },
   {
    "duration": 704,
    "start_time": "2022-11-15T07:17:06.329Z"
   },
   {
    "duration": 393,
    "start_time": "2022-11-15T07:17:07.036Z"
   },
   {
    "duration": 18,
    "start_time": "2022-11-15T07:17:07.431Z"
   },
   {
    "duration": 3357,
    "start_time": "2022-11-15T07:17:07.451Z"
   },
   {
    "duration": 212,
    "start_time": "2022-11-15T07:17:10.811Z"
   },
   {
    "duration": 12,
    "start_time": "2022-11-15T07:17:11.025Z"
   },
   {
    "duration": 28,
    "start_time": "2022-11-15T07:17:11.039Z"
   },
   {
    "duration": 9,
    "start_time": "2022-11-15T07:17:11.069Z"
   },
   {
    "duration": 19,
    "start_time": "2022-11-15T07:17:11.081Z"
   },
   {
    "duration": 20,
    "start_time": "2022-11-15T07:17:11.103Z"
   },
   {
    "duration": 9,
    "start_time": "2022-11-15T07:17:11.125Z"
   },
   {
    "duration": 16,
    "start_time": "2022-11-15T07:17:11.135Z"
   },
   {
    "duration": 203,
    "start_time": "2022-11-15T07:17:11.153Z"
   },
   {
    "duration": 219,
    "start_time": "2022-11-15T07:17:11.359Z"
   },
   {
    "duration": 7,
    "start_time": "2022-11-15T07:17:11.579Z"
   },
   {
    "duration": 5,
    "start_time": "2022-11-15T07:17:11.588Z"
   },
   {
    "duration": 20,
    "start_time": "2022-11-15T07:17:11.594Z"
   },
   {
    "duration": 4,
    "start_time": "2022-11-15T07:17:11.616Z"
   },
   {
    "duration": 7,
    "start_time": "2022-11-15T07:17:11.622Z"
   },
   {
    "duration": 12,
    "start_time": "2022-11-15T07:17:11.630Z"
   },
   {
    "duration": 5,
    "start_time": "2022-11-15T07:17:11.643Z"
   },
   {
    "duration": 244,
    "start_time": "2022-11-15T07:17:11.650Z"
   },
   {
    "duration": 19,
    "start_time": "2022-11-15T07:17:11.895Z"
   },
   {
    "duration": 186,
    "start_time": "2022-11-15T07:17:11.915Z"
   },
   {
    "duration": 10,
    "start_time": "2022-11-15T07:17:12.103Z"
   },
   {
    "duration": 10,
    "start_time": "2022-11-15T07:17:12.115Z"
   },
   {
    "duration": 374,
    "start_time": "2022-11-15T07:17:12.126Z"
   },
   {
    "duration": 249,
    "start_time": "2022-11-15T07:17:12.502Z"
   },
   {
    "duration": 18,
    "start_time": "2022-11-15T07:17:12.753Z"
   },
   {
    "duration": 6,
    "start_time": "2022-11-15T07:17:12.776Z"
   },
   {
    "duration": 39,
    "start_time": "2022-11-15T07:17:12.784Z"
   },
   {
    "duration": 5,
    "start_time": "2022-11-15T07:17:12.825Z"
   },
   {
    "duration": 13,
    "start_time": "2022-11-15T07:17:12.832Z"
   },
   {
    "duration": 79,
    "start_time": "2022-11-15T07:17:12.847Z"
   },
   {
    "duration": 5,
    "start_time": "2022-11-15T07:17:12.928Z"
   },
   {
    "duration": 10,
    "start_time": "2022-11-15T07:17:12.935Z"
   },
   {
    "duration": 36,
    "start_time": "2022-11-15T07:17:12.947Z"
   },
   {
    "duration": 17,
    "start_time": "2022-11-15T07:17:12.985Z"
   },
   {
    "duration": 8,
    "start_time": "2022-11-15T07:17:13.004Z"
   },
   {
    "duration": 23,
    "start_time": "2022-11-15T07:17:13.014Z"
   },
   {
    "duration": 14,
    "start_time": "2022-11-15T07:17:13.043Z"
   },
   {
    "duration": 14,
    "start_time": "2022-11-15T07:17:13.059Z"
   },
   {
    "duration": 16,
    "start_time": "2022-11-15T07:17:13.075Z"
   },
   {
    "duration": 23,
    "start_time": "2022-11-15T07:17:13.092Z"
   },
   {
    "duration": 155,
    "start_time": "2022-11-15T07:17:13.117Z"
   },
   {
    "duration": 10,
    "start_time": "2022-11-15T07:17:13.274Z"
   },
   {
    "duration": 12,
    "start_time": "2022-11-15T07:17:13.285Z"
   },
   {
    "duration": 16,
    "start_time": "2022-11-15T07:17:13.311Z"
   },
   {
    "duration": 13,
    "start_time": "2022-11-15T07:17:13.329Z"
   },
   {
    "duration": 16,
    "start_time": "2022-11-15T07:17:13.344Z"
   },
   {
    "duration": 15,
    "start_time": "2022-11-15T07:17:13.364Z"
   },
   {
    "duration": 38,
    "start_time": "2022-11-15T07:17:13.382Z"
   },
   {
    "duration": 13,
    "start_time": "2022-11-15T07:17:13.422Z"
   },
   {
    "duration": 14,
    "start_time": "2022-11-15T07:17:13.437Z"
   },
   {
    "duration": 19,
    "start_time": "2022-11-15T07:17:13.453Z"
   },
   {
    "duration": 45,
    "start_time": "2022-11-15T07:17:13.474Z"
   },
   {
    "duration": 16,
    "start_time": "2022-11-15T07:17:13.521Z"
   },
   {
    "duration": 15,
    "start_time": "2022-11-15T07:17:13.539Z"
   },
   {
    "duration": 5,
    "start_time": "2022-11-15T07:17:13.557Z"
   },
   {
    "duration": 18,
    "start_time": "2022-11-15T07:17:13.564Z"
   },
   {
    "duration": 437,
    "start_time": "2022-11-15T07:17:13.613Z"
   },
   {
    "duration": 5,
    "start_time": "2022-11-15T07:17:14.052Z"
   },
   {
    "duration": 263,
    "start_time": "2022-11-15T07:17:14.059Z"
   },
   {
    "duration": 267,
    "start_time": "2022-11-15T07:17:14.326Z"
   },
   {
    "duration": 275,
    "start_time": "2022-11-15T07:17:14.596Z"
   },
   {
    "duration": 522,
    "start_time": "2022-11-15T07:17:14.874Z"
   },
   {
    "duration": 323,
    "start_time": "2022-11-15T07:17:15.398Z"
   },
   {
    "duration": 250,
    "start_time": "2022-11-15T07:17:15.723Z"
   },
   {
    "duration": 276,
    "start_time": "2022-11-15T07:17:15.975Z"
   },
   {
    "duration": 248,
    "start_time": "2022-11-15T07:17:16.253Z"
   },
   {
    "duration": 272,
    "start_time": "2022-11-15T07:17:16.503Z"
   },
   {
    "duration": 255,
    "start_time": "2022-11-15T07:17:16.777Z"
   },
   {
    "duration": 224,
    "start_time": "2022-11-15T07:17:17.034Z"
   },
   {
    "duration": 371,
    "start_time": "2022-11-15T07:17:17.259Z"
   },
   {
    "duration": 220,
    "start_time": "2022-11-15T07:17:17.632Z"
   },
   {
    "duration": 233,
    "start_time": "2022-11-15T07:17:17.854Z"
   },
   {
    "duration": 287,
    "start_time": "2022-11-15T07:17:18.089Z"
   },
   {
    "duration": 12,
    "start_time": "2022-11-15T07:17:18.378Z"
   },
   {
    "duration": 21,
    "start_time": "2022-11-15T07:17:18.392Z"
   },
   {
    "duration": 233,
    "start_time": "2022-11-15T07:17:18.415Z"
   },
   {
    "duration": 225,
    "start_time": "2022-11-15T07:17:18.650Z"
   },
   {
    "duration": 237,
    "start_time": "2022-11-15T07:17:18.877Z"
   },
   {
    "duration": 197,
    "start_time": "2022-11-15T07:17:19.116Z"
   },
   {
    "duration": 175,
    "start_time": "2022-11-15T07:17:19.315Z"
   },
   {
    "duration": 195,
    "start_time": "2022-11-15T07:17:19.493Z"
   },
   {
    "duration": 167,
    "start_time": "2022-11-15T07:17:19.690Z"
   },
   {
    "duration": 208,
    "start_time": "2022-11-15T07:17:19.859Z"
   },
   {
    "duration": 16,
    "start_time": "2022-11-15T07:17:20.069Z"
   },
   {
    "duration": 68,
    "start_time": "2022-11-15T07:17:20.088Z"
   },
   {
    "duration": 214,
    "start_time": "2022-11-15T07:17:20.158Z"
   },
   {
    "duration": 192,
    "start_time": "2022-11-15T07:17:20.375Z"
   },
   {
    "duration": 11,
    "start_time": "2022-11-15T07:17:20.570Z"
   },
   {
    "duration": 4,
    "start_time": "2022-11-15T07:25:54.181Z"
   },
   {
    "duration": 18,
    "start_time": "2022-11-15T07:25:57.119Z"
   },
   {
    "duration": 7,
    "start_time": "2022-11-15T07:26:58.631Z"
   },
   {
    "duration": 14,
    "start_time": "2022-11-15T07:28:25.823Z"
   },
   {
    "duration": 99,
    "start_time": "2022-11-15T07:28:28.869Z"
   },
   {
    "duration": 7,
    "start_time": "2022-11-15T07:29:22.646Z"
   },
   {
    "duration": 7,
    "start_time": "2022-11-15T07:29:28.134Z"
   },
   {
    "duration": 46,
    "start_time": "2022-11-15T07:45:38.588Z"
   },
   {
    "duration": 8,
    "start_time": "2022-11-15T07:45:49.213Z"
   },
   {
    "duration": 5,
    "start_time": "2022-11-15T07:45:57.184Z"
   },
   {
    "duration": 754,
    "start_time": "2022-11-15T07:46:03.315Z"
   },
   {
    "duration": 263,
    "start_time": "2022-11-15T07:46:04.071Z"
   },
   {
    "duration": 16,
    "start_time": "2022-11-15T07:46:05.490Z"
   },
   {
    "duration": 2887,
    "start_time": "2022-11-15T07:46:10.962Z"
   },
   {
    "duration": 39,
    "start_time": "2022-11-15T07:48:22.168Z"
   },
   {
    "duration": 9,
    "start_time": "2022-11-15T07:48:26.201Z"
   },
   {
    "duration": 55,
    "start_time": "2022-11-15T09:16:00.917Z"
   },
   {
    "duration": 930,
    "start_time": "2022-11-15T09:16:15.789Z"
   },
   {
    "duration": 315,
    "start_time": "2022-11-15T09:16:16.721Z"
   },
   {
    "duration": 27,
    "start_time": "2022-11-15T09:16:17.038Z"
   },
   {
    "duration": 3614,
    "start_time": "2022-11-15T09:16:17.067Z"
   },
   {
    "duration": 244,
    "start_time": "2022-11-15T09:16:20.682Z"
   },
   {
    "duration": 11,
    "start_time": "2022-11-15T09:16:20.928Z"
   },
   {
    "duration": 20,
    "start_time": "2022-11-15T09:16:20.941Z"
   },
   {
    "duration": 19,
    "start_time": "2022-11-15T09:16:20.963Z"
   },
   {
    "duration": 19,
    "start_time": "2022-11-15T09:16:20.984Z"
   },
   {
    "duration": 21,
    "start_time": "2022-11-15T09:16:21.006Z"
   },
   {
    "duration": 18,
    "start_time": "2022-11-15T09:16:21.028Z"
   },
   {
    "duration": 29,
    "start_time": "2022-11-15T09:16:21.048Z"
   },
   {
    "duration": 208,
    "start_time": "2022-11-15T09:16:21.078Z"
   },
   {
    "duration": 234,
    "start_time": "2022-11-15T09:16:21.288Z"
   },
   {
    "duration": 7,
    "start_time": "2022-11-15T09:16:21.524Z"
   },
   {
    "duration": 20,
    "start_time": "2022-11-15T09:16:21.532Z"
   },
   {
    "duration": 34,
    "start_time": "2022-11-15T09:16:21.554Z"
   },
   {
    "duration": 19,
    "start_time": "2022-11-15T09:16:21.590Z"
   },
   {
    "duration": 24,
    "start_time": "2022-11-15T09:16:21.610Z"
   },
   {
    "duration": 34,
    "start_time": "2022-11-15T09:16:21.635Z"
   },
   {
    "duration": 14,
    "start_time": "2022-11-15T09:16:21.671Z"
   },
   {
    "duration": 251,
    "start_time": "2022-11-15T09:16:21.686Z"
   },
   {
    "duration": 19,
    "start_time": "2022-11-15T09:16:21.939Z"
   },
   {
    "duration": 220,
    "start_time": "2022-11-15T09:16:21.959Z"
   },
   {
    "duration": 11,
    "start_time": "2022-11-15T09:16:22.181Z"
   },
   {
    "duration": 32,
    "start_time": "2022-11-15T09:16:22.193Z"
   },
   {
    "duration": 470,
    "start_time": "2022-11-15T09:16:22.228Z"
   },
   {
    "duration": 239,
    "start_time": "2022-11-15T09:16:22.703Z"
   },
   {
    "duration": 23,
    "start_time": "2022-11-15T09:16:22.951Z"
   },
   {
    "duration": 14,
    "start_time": "2022-11-15T09:16:22.976Z"
   },
   {
    "duration": 28,
    "start_time": "2022-11-15T09:16:22.992Z"
   },
   {
    "duration": 23,
    "start_time": "2022-11-15T09:16:23.023Z"
   },
   {
    "duration": 39,
    "start_time": "2022-11-15T09:16:23.048Z"
   },
   {
    "duration": 90,
    "start_time": "2022-11-15T09:16:23.089Z"
   },
   {
    "duration": 6,
    "start_time": "2022-11-15T09:16:23.181Z"
   },
   {
    "duration": 7,
    "start_time": "2022-11-15T09:16:23.189Z"
   },
   {
    "duration": 12,
    "start_time": "2022-11-15T09:16:23.197Z"
   },
   {
    "duration": 10,
    "start_time": "2022-11-15T09:16:23.210Z"
   },
   {
    "duration": 33,
    "start_time": "2022-11-15T09:16:23.222Z"
   },
   {
    "duration": 16,
    "start_time": "2022-11-15T09:16:23.256Z"
   },
   {
    "duration": 15,
    "start_time": "2022-11-15T09:16:23.274Z"
   },
   {
    "duration": 12,
    "start_time": "2022-11-15T09:16:23.291Z"
   },
   {
    "duration": 16,
    "start_time": "2022-11-15T09:16:23.305Z"
   },
   {
    "duration": 11,
    "start_time": "2022-11-15T09:16:23.351Z"
   },
   {
    "duration": 160,
    "start_time": "2022-11-15T09:16:23.363Z"
   },
   {
    "duration": 10,
    "start_time": "2022-11-15T09:16:23.525Z"
   },
   {
    "duration": 20,
    "start_time": "2022-11-15T09:16:23.538Z"
   },
   {
    "duration": 12,
    "start_time": "2022-11-15T09:16:23.561Z"
   },
   {
    "duration": 11,
    "start_time": "2022-11-15T09:16:23.575Z"
   },
   {
    "duration": 12,
    "start_time": "2022-11-15T09:16:23.588Z"
   },
   {
    "duration": 13,
    "start_time": "2022-11-15T09:16:23.601Z"
   },
   {
    "duration": 12,
    "start_time": "2022-11-15T09:16:23.651Z"
   },
   {
    "duration": 11,
    "start_time": "2022-11-15T09:16:23.665Z"
   },
   {
    "duration": 15,
    "start_time": "2022-11-15T09:16:23.677Z"
   },
   {
    "duration": 14,
    "start_time": "2022-11-15T09:16:23.694Z"
   },
   {
    "duration": 47,
    "start_time": "2022-11-15T09:16:23.709Z"
   },
   {
    "duration": 14,
    "start_time": "2022-11-15T09:16:23.758Z"
   },
   {
    "duration": 19,
    "start_time": "2022-11-15T09:16:23.774Z"
   },
   {
    "duration": 4,
    "start_time": "2022-11-15T09:16:23.795Z"
   },
   {
    "duration": 23,
    "start_time": "2022-11-15T09:16:23.801Z"
   },
   {
    "duration": 374,
    "start_time": "2022-11-15T09:16:23.826Z"
   },
   {
    "duration": 5,
    "start_time": "2022-11-15T09:16:24.203Z"
   },
   {
    "duration": 251,
    "start_time": "2022-11-15T09:16:24.211Z"
   },
   {
    "duration": 255,
    "start_time": "2022-11-15T09:16:24.464Z"
   },
   {
    "duration": 359,
    "start_time": "2022-11-15T09:16:24.722Z"
   },
   {
    "duration": 289,
    "start_time": "2022-11-15T09:16:25.084Z"
   },
   {
    "duration": 264,
    "start_time": "2022-11-15T09:16:25.376Z"
   },
   {
    "duration": 241,
    "start_time": "2022-11-15T09:16:25.642Z"
   },
   {
    "duration": 234,
    "start_time": "2022-11-15T09:16:25.885Z"
   },
   {
    "duration": 244,
    "start_time": "2022-11-15T09:16:26.121Z"
   },
   {
    "duration": 339,
    "start_time": "2022-11-15T09:16:26.366Z"
   },
   {
    "duration": 245,
    "start_time": "2022-11-15T09:16:26.707Z"
   },
   {
    "duration": 239,
    "start_time": "2022-11-15T09:16:26.954Z"
   },
   {
    "duration": 244,
    "start_time": "2022-11-15T09:16:27.195Z"
   },
   {
    "duration": 226,
    "start_time": "2022-11-15T09:16:27.441Z"
   },
   {
    "duration": 350,
    "start_time": "2022-11-15T09:16:27.669Z"
   },
   {
    "duration": 305,
    "start_time": "2022-11-15T09:16:28.021Z"
   },
   {
    "duration": 11,
    "start_time": "2022-11-15T09:16:28.327Z"
   },
   {
    "duration": 12,
    "start_time": "2022-11-15T09:16:28.340Z"
   },
   {
    "duration": 226,
    "start_time": "2022-11-15T09:16:28.354Z"
   },
   {
    "duration": 230,
    "start_time": "2022-11-15T09:16:28.583Z"
   },
   {
    "duration": 237,
    "start_time": "2022-11-15T09:16:28.819Z"
   },
   {
    "duration": 212,
    "start_time": "2022-11-15T09:16:29.058Z"
   },
   {
    "duration": 170,
    "start_time": "2022-11-15T09:16:29.272Z"
   },
   {
    "duration": 199,
    "start_time": "2022-11-15T09:16:29.451Z"
   },
   {
    "duration": 213,
    "start_time": "2022-11-15T09:16:29.653Z"
   },
   {
    "duration": 193,
    "start_time": "2022-11-15T09:16:29.868Z"
   },
   {
    "duration": 201,
    "start_time": "2022-11-15T09:16:30.063Z"
   },
   {
    "duration": 14,
    "start_time": "2022-11-15T09:16:30.266Z"
   },
   {
    "duration": 67,
    "start_time": "2022-11-15T09:16:30.282Z"
   },
   {
    "duration": 220,
    "start_time": "2022-11-15T09:16:30.351Z"
   },
   {
    "duration": 204,
    "start_time": "2022-11-15T09:16:30.573Z"
   },
   {
    "duration": 12,
    "start_time": "2022-11-15T09:16:30.779Z"
   },
   {
    "duration": 168,
    "start_time": "2022-11-15T09:17:44.640Z"
   },
   {
    "duration": 643,
    "start_time": "2022-11-15T09:19:13.349Z"
   },
   {
    "duration": 253,
    "start_time": "2022-11-15T09:20:28.118Z"
   },
   {
    "duration": 73,
    "start_time": "2022-11-15T09:21:40.328Z"
   },
   {
    "duration": 5,
    "start_time": "2022-11-15T09:22:20.879Z"
   },
   {
    "duration": 6,
    "start_time": "2022-11-15T09:22:36.522Z"
   },
   {
    "duration": 7,
    "start_time": "2022-11-15T09:22:50.435Z"
   },
   {
    "duration": 5,
    "start_time": "2022-11-15T09:23:08.576Z"
   },
   {
    "duration": 77,
    "start_time": "2022-11-15T09:26:00.691Z"
   },
   {
    "duration": 325,
    "start_time": "2022-11-15T09:29:07.003Z"
   },
   {
    "duration": 378,
    "start_time": "2022-11-15T09:30:08.825Z"
   },
   {
    "duration": 113,
    "start_time": "2022-11-15T09:33:06.902Z"
   },
   {
    "duration": 2382,
    "start_time": "2022-11-15T09:33:40.304Z"
   },
   {
    "duration": 2482,
    "start_time": "2022-11-15T09:33:47.314Z"
   },
   {
    "duration": 152,
    "start_time": "2022-11-15T09:34:30.737Z"
   },
   {
    "duration": 85,
    "start_time": "2022-11-15T09:34:37.016Z"
   },
   {
    "duration": 265,
    "start_time": "2022-11-15T09:34:41.947Z"
   },
   {
    "duration": 234,
    "start_time": "2022-11-15T09:38:16.845Z"
   },
   {
    "duration": 1323,
    "start_time": "2022-11-15T10:54:34.681Z"
   },
   {
    "duration": 341,
    "start_time": "2022-11-15T10:54:36.006Z"
   },
   {
    "duration": 20,
    "start_time": "2022-11-15T10:54:36.351Z"
   },
   {
    "duration": 3343,
    "start_time": "2022-11-15T10:54:36.373Z"
   },
   {
    "duration": 266,
    "start_time": "2022-11-15T10:54:39.719Z"
   },
   {
    "duration": 10,
    "start_time": "2022-11-15T10:54:39.987Z"
   },
   {
    "duration": 9,
    "start_time": "2022-11-15T10:54:39.999Z"
   },
   {
    "duration": 11,
    "start_time": "2022-11-15T10:54:40.010Z"
   },
   {
    "duration": 30,
    "start_time": "2022-11-15T10:54:40.022Z"
   },
   {
    "duration": 5,
    "start_time": "2022-11-15T10:54:40.053Z"
   },
   {
    "duration": 7,
    "start_time": "2022-11-15T10:54:40.060Z"
   },
   {
    "duration": 12,
    "start_time": "2022-11-15T10:54:40.069Z"
   },
   {
    "duration": 398,
    "start_time": "2022-11-15T10:54:40.083Z"
   },
   {
    "duration": 239,
    "start_time": "2022-11-15T10:54:40.484Z"
   },
   {
    "duration": 7,
    "start_time": "2022-11-15T10:54:40.725Z"
   },
   {
    "duration": 20,
    "start_time": "2022-11-15T10:54:40.734Z"
   },
   {
    "duration": 7,
    "start_time": "2022-11-15T10:54:40.756Z"
   },
   {
    "duration": 7,
    "start_time": "2022-11-15T10:54:40.765Z"
   },
   {
    "duration": 7,
    "start_time": "2022-11-15T10:54:40.773Z"
   },
   {
    "duration": 19,
    "start_time": "2022-11-15T10:54:40.781Z"
   },
   {
    "duration": 5,
    "start_time": "2022-11-15T10:54:40.803Z"
   },
   {
    "duration": 260,
    "start_time": "2022-11-15T10:54:40.810Z"
   },
   {
    "duration": 11,
    "start_time": "2022-11-15T10:54:41.072Z"
   },
   {
    "duration": 225,
    "start_time": "2022-11-15T10:54:41.085Z"
   },
   {
    "duration": 11,
    "start_time": "2022-11-15T10:54:41.312Z"
   },
   {
    "duration": 32,
    "start_time": "2022-11-15T10:54:41.325Z"
   },
   {
    "duration": 276,
    "start_time": "2022-11-15T10:54:41.359Z"
   },
   {
    "duration": 236,
    "start_time": "2022-11-15T10:54:41.637Z"
   },
   {
    "duration": 19,
    "start_time": "2022-11-15T10:54:41.875Z"
   },
   {
    "duration": 5,
    "start_time": "2022-11-15T10:54:41.896Z"
   },
   {
    "duration": 13,
    "start_time": "2022-11-15T10:54:41.902Z"
   },
   {
    "duration": 5,
    "start_time": "2022-11-15T10:54:41.916Z"
   },
   {
    "duration": 6,
    "start_time": "2022-11-15T10:54:41.950Z"
   },
   {
    "duration": 68,
    "start_time": "2022-11-15T10:54:41.958Z"
   },
   {
    "duration": 24,
    "start_time": "2022-11-15T10:54:42.028Z"
   },
   {
    "duration": 4,
    "start_time": "2022-11-15T10:54:42.054Z"
   },
   {
    "duration": 13,
    "start_time": "2022-11-15T10:54:42.059Z"
   },
   {
    "duration": 9,
    "start_time": "2022-11-15T10:54:42.074Z"
   },
   {
    "duration": 6,
    "start_time": "2022-11-15T10:54:42.085Z"
   },
   {
    "duration": 11,
    "start_time": "2022-11-15T10:54:42.092Z"
   },
   {
    "duration": 50,
    "start_time": "2022-11-15T10:54:42.109Z"
   },
   {
    "duration": 12,
    "start_time": "2022-11-15T10:54:42.162Z"
   },
   {
    "duration": 14,
    "start_time": "2022-11-15T10:54:42.176Z"
   },
   {
    "duration": 11,
    "start_time": "2022-11-15T10:54:42.192Z"
   },
   {
    "duration": 175,
    "start_time": "2022-11-15T10:54:42.205Z"
   },
   {
    "duration": 10,
    "start_time": "2022-11-15T10:54:42.382Z"
   },
   {
    "duration": 10,
    "start_time": "2022-11-15T10:54:42.394Z"
   },
   {
    "duration": 12,
    "start_time": "2022-11-15T10:54:42.406Z"
   },
   {
    "duration": 34,
    "start_time": "2022-11-15T10:54:42.420Z"
   },
   {
    "duration": 11,
    "start_time": "2022-11-15T10:54:42.456Z"
   },
   {
    "duration": 12,
    "start_time": "2022-11-15T10:54:42.468Z"
   },
   {
    "duration": 117,
    "start_time": "2022-11-15T10:54:42.481Z"
   },
   {
    "duration": 9,
    "start_time": "2022-11-15T10:54:42.600Z"
   },
   {
    "duration": 11,
    "start_time": "2022-11-15T10:54:42.611Z"
   },
   {
    "duration": 36,
    "start_time": "2022-11-15T10:54:42.624Z"
   },
   {
    "duration": 12,
    "start_time": "2022-11-15T10:54:42.662Z"
   },
   {
    "duration": 10,
    "start_time": "2022-11-15T10:54:42.676Z"
   },
   {
    "duration": 16,
    "start_time": "2022-11-15T10:54:42.687Z"
   },
   {
    "duration": 4,
    "start_time": "2022-11-15T10:54:42.705Z"
   },
   {
    "duration": 48,
    "start_time": "2022-11-15T10:54:42.711Z"
   },
   {
    "duration": 326,
    "start_time": "2022-11-15T10:54:42.761Z"
   },
   {
    "duration": 4,
    "start_time": "2022-11-15T10:54:43.089Z"
   },
   {
    "duration": 235,
    "start_time": "2022-11-15T10:54:43.095Z"
   },
   {
    "duration": 248,
    "start_time": "2022-11-15T10:54:43.332Z"
   },
   {
    "duration": 241,
    "start_time": "2022-11-15T10:54:43.582Z"
   },
   {
    "duration": 236,
    "start_time": "2022-11-15T10:54:43.824Z"
   },
   {
    "duration": 345,
    "start_time": "2022-11-15T10:54:44.062Z"
   },
   {
    "duration": 241,
    "start_time": "2022-11-15T10:54:44.410Z"
   },
   {
    "duration": 217,
    "start_time": "2022-11-15T10:54:44.653Z"
   },
   {
    "duration": 225,
    "start_time": "2022-11-15T10:54:44.872Z"
   },
   {
    "duration": 222,
    "start_time": "2022-11-15T10:54:45.098Z"
   },
   {
    "duration": 249,
    "start_time": "2022-11-15T10:54:45.322Z"
   },
   {
    "duration": 344,
    "start_time": "2022-11-15T10:54:45.573Z"
   },
   {
    "duration": 232,
    "start_time": "2022-11-15T10:54:45.919Z"
   },
   {
    "duration": 228,
    "start_time": "2022-11-15T10:54:46.153Z"
   },
   {
    "duration": 246,
    "start_time": "2022-11-15T10:54:46.383Z"
   },
   {
    "duration": 235,
    "start_time": "2022-11-15T10:54:46.631Z"
   },
   {
    "duration": 283,
    "start_time": "2022-11-15T10:54:46.868Z"
   },
   {
    "duration": 11,
    "start_time": "2022-11-15T10:54:47.153Z"
   },
   {
    "duration": 8,
    "start_time": "2022-11-15T10:54:47.166Z"
   },
   {
    "duration": 288,
    "start_time": "2022-11-15T10:54:47.176Z"
   },
   {
    "duration": 217,
    "start_time": "2022-11-15T10:54:47.466Z"
   },
   {
    "duration": 6,
    "start_time": "2022-11-15T10:54:47.685Z"
   },
   {
    "duration": 369,
    "start_time": "2022-11-15T10:54:47.693Z"
   },
   {
    "duration": 6,
    "start_time": "2022-11-15T10:54:48.064Z"
   },
   {
    "duration": 226,
    "start_time": "2022-11-15T10:54:48.072Z"
   },
   {
    "duration": 6,
    "start_time": "2022-11-15T10:54:48.300Z"
   },
   {
    "duration": 191,
    "start_time": "2022-11-15T10:54:48.309Z"
   },
   {
    "duration": 6,
    "start_time": "2022-11-15T10:54:48.502Z"
   },
   {
    "duration": 171,
    "start_time": "2022-11-15T10:54:48.510Z"
   },
   {
    "duration": 309,
    "start_time": "2022-11-15T10:54:48.683Z"
   },
   {
    "duration": 180,
    "start_time": "2022-11-15T10:54:48.994Z"
   },
   {
    "duration": 187,
    "start_time": "2022-11-15T10:54:49.176Z"
   },
   {
    "duration": 169,
    "start_time": "2022-11-15T10:54:49.365Z"
   },
   {
    "duration": 199,
    "start_time": "2022-11-15T10:54:49.535Z"
   },
   {
    "duration": 407,
    "start_time": "2022-11-15T10:54:49.736Z"
   },
   {
    "duration": 173,
    "start_time": "2022-11-15T10:54:50.151Z"
   },
   {
    "duration": 13,
    "start_time": "2022-11-15T10:54:50.325Z"
   },
   {
    "duration": 55,
    "start_time": "2022-11-15T10:54:50.350Z"
   },
   {
    "duration": 210,
    "start_time": "2022-11-15T10:54:50.407Z"
   },
   {
    "duration": 1694,
    "start_time": "2022-11-15T10:54:50.619Z"
   },
   {
    "duration": 0,
    "start_time": "2022-11-15T10:54:52.315Z"
   },
   {
    "duration": 0,
    "start_time": "2022-11-15T10:54:52.317Z"
   },
   {
    "duration": 189,
    "start_time": "2022-11-15T10:55:28.265Z"
   },
   {
    "duration": 1262,
    "start_time": "2022-11-15T10:55:31.606Z"
   },
   {
    "duration": 165,
    "start_time": "2022-11-15T10:55:56.641Z"
   },
   {
    "duration": 11,
    "start_time": "2022-11-15T10:55:57.433Z"
   },
   {
    "duration": 4,
    "start_time": "2022-11-15T10:57:53.397Z"
   },
   {
    "duration": 11,
    "start_time": "2022-11-15T10:57:54.573Z"
   },
   {
    "duration": 11,
    "start_time": "2022-11-15T10:58:21.261Z"
   },
   {
    "duration": 195,
    "start_time": "2022-11-15T10:58:25.235Z"
   },
   {
    "duration": 1215,
    "start_time": "2022-11-15T10:58:27.348Z"
   },
   {
    "duration": 1412,
    "start_time": "2022-11-15T10:59:03.262Z"
   },
   {
    "duration": 1371,
    "start_time": "2022-11-15T10:59:10.031Z"
   },
   {
    "duration": 1372,
    "start_time": "2022-11-15T10:59:21.184Z"
   },
   {
    "duration": 1519,
    "start_time": "2022-11-15T10:59:29.893Z"
   },
   {
    "duration": 1280,
    "start_time": "2022-11-15T10:59:37.606Z"
   },
   {
    "duration": 197,
    "start_time": "2022-11-15T10:59:44.742Z"
   },
   {
    "duration": 1296,
    "start_time": "2022-11-15T10:59:47.966Z"
   },
   {
    "duration": 1333,
    "start_time": "2022-11-15T11:00:17.909Z"
   },
   {
    "duration": 249,
    "start_time": "2022-11-15T11:00:19.246Z"
   },
   {
    "duration": 22,
    "start_time": "2022-11-15T11:00:19.497Z"
   },
   {
    "duration": 3440,
    "start_time": "2022-11-15T11:00:19.521Z"
   },
   {
    "duration": 225,
    "start_time": "2022-11-15T11:00:22.963Z"
   },
   {
    "duration": 14,
    "start_time": "2022-11-15T11:00:23.189Z"
   },
   {
    "duration": 13,
    "start_time": "2022-11-15T11:00:23.205Z"
   },
   {
    "duration": 32,
    "start_time": "2022-11-15T11:00:23.220Z"
   },
   {
    "duration": 7,
    "start_time": "2022-11-15T11:00:23.254Z"
   },
   {
    "duration": 7,
    "start_time": "2022-11-15T11:00:23.263Z"
   },
   {
    "duration": 7,
    "start_time": "2022-11-15T11:00:23.271Z"
   },
   {
    "duration": 14,
    "start_time": "2022-11-15T11:00:23.280Z"
   },
   {
    "duration": 402,
    "start_time": "2022-11-15T11:00:23.296Z"
   },
   {
    "duration": 229,
    "start_time": "2022-11-15T11:00:23.701Z"
   },
   {
    "duration": 6,
    "start_time": "2022-11-15T11:00:23.931Z"
   },
   {
    "duration": 7,
    "start_time": "2022-11-15T11:00:23.950Z"
   },
   {
    "duration": 9,
    "start_time": "2022-11-15T11:00:23.959Z"
   },
   {
    "duration": 6,
    "start_time": "2022-11-15T11:00:23.970Z"
   },
   {
    "duration": 10,
    "start_time": "2022-11-15T11:00:23.977Z"
   },
   {
    "duration": 21,
    "start_time": "2022-11-15T11:00:23.989Z"
   },
   {
    "duration": 10,
    "start_time": "2022-11-15T11:00:24.012Z"
   },
   {
    "duration": 273,
    "start_time": "2022-11-15T11:00:24.024Z"
   },
   {
    "duration": 10,
    "start_time": "2022-11-15T11:00:24.299Z"
   },
   {
    "duration": 232,
    "start_time": "2022-11-15T11:00:24.311Z"
   },
   {
    "duration": 14,
    "start_time": "2022-11-15T11:00:24.545Z"
   },
   {
    "duration": 12,
    "start_time": "2022-11-15T11:00:24.561Z"
   },
   {
    "duration": 298,
    "start_time": "2022-11-15T11:00:24.576Z"
   },
   {
    "duration": 254,
    "start_time": "2022-11-15T11:00:24.876Z"
   },
   {
    "duration": 24,
    "start_time": "2022-11-15T11:00:25.132Z"
   },
   {
    "duration": 6,
    "start_time": "2022-11-15T11:00:25.157Z"
   },
   {
    "duration": 15,
    "start_time": "2022-11-15T11:00:25.164Z"
   },
   {
    "duration": 4,
    "start_time": "2022-11-15T11:00:25.181Z"
   },
   {
    "duration": 9,
    "start_time": "2022-11-15T11:00:25.187Z"
   },
   {
    "duration": 103,
    "start_time": "2022-11-15T11:00:25.199Z"
   },
   {
    "duration": 6,
    "start_time": "2022-11-15T11:00:25.305Z"
   },
   {
    "duration": 12,
    "start_time": "2022-11-15T11:00:25.313Z"
   },
   {
    "duration": 25,
    "start_time": "2022-11-15T11:00:25.327Z"
   },
   {
    "duration": 10,
    "start_time": "2022-11-15T11:00:25.354Z"
   },
   {
    "duration": 24,
    "start_time": "2022-11-15T11:00:25.366Z"
   },
   {
    "duration": 16,
    "start_time": "2022-11-15T11:00:25.393Z"
   },
   {
    "duration": 14,
    "start_time": "2022-11-15T11:00:25.415Z"
   },
   {
    "duration": 29,
    "start_time": "2022-11-15T11:00:25.431Z"
   },
   {
    "duration": 48,
    "start_time": "2022-11-15T11:00:25.462Z"
   },
   {
    "duration": 15,
    "start_time": "2022-11-15T11:00:25.512Z"
   },
   {
    "duration": 168,
    "start_time": "2022-11-15T11:00:25.529Z"
   },
   {
    "duration": 10,
    "start_time": "2022-11-15T11:00:25.699Z"
   },
   {
    "duration": 25,
    "start_time": "2022-11-15T11:00:25.711Z"
   },
   {
    "duration": 17,
    "start_time": "2022-11-15T11:00:25.738Z"
   },
   {
    "duration": 27,
    "start_time": "2022-11-15T11:00:25.757Z"
   },
   {
    "duration": 20,
    "start_time": "2022-11-15T11:00:25.786Z"
   },
   {
    "duration": 19,
    "start_time": "2022-11-15T11:00:25.808Z"
   },
   {
    "duration": 115,
    "start_time": "2022-11-15T11:00:25.829Z"
   },
   {
    "duration": 9,
    "start_time": "2022-11-15T11:00:25.946Z"
   },
   {
    "duration": 24,
    "start_time": "2022-11-15T11:00:25.957Z"
   },
   {
    "duration": 17,
    "start_time": "2022-11-15T11:00:25.983Z"
   },
   {
    "duration": 20,
    "start_time": "2022-11-15T11:00:26.002Z"
   },
   {
    "duration": 14,
    "start_time": "2022-11-15T11:00:26.024Z"
   },
   {
    "duration": 24,
    "start_time": "2022-11-15T11:00:26.040Z"
   },
   {
    "duration": 9,
    "start_time": "2022-11-15T11:00:26.066Z"
   },
   {
    "duration": 29,
    "start_time": "2022-11-15T11:00:26.077Z"
   },
   {
    "duration": 342,
    "start_time": "2022-11-15T11:00:26.108Z"
   },
   {
    "duration": 4,
    "start_time": "2022-11-15T11:00:26.453Z"
   },
   {
    "duration": 253,
    "start_time": "2022-11-15T11:00:26.459Z"
   },
   {
    "duration": 247,
    "start_time": "2022-11-15T11:00:26.714Z"
   },
   {
    "duration": 252,
    "start_time": "2022-11-15T11:00:26.962Z"
   },
   {
    "duration": 247,
    "start_time": "2022-11-15T11:00:27.216Z"
   },
   {
    "duration": 342,
    "start_time": "2022-11-15T11:00:27.464Z"
   },
   {
    "duration": 240,
    "start_time": "2022-11-15T11:00:27.808Z"
   },
   {
    "duration": 237,
    "start_time": "2022-11-15T11:00:28.051Z"
   },
   {
    "duration": 240,
    "start_time": "2022-11-15T11:00:28.290Z"
   },
   {
    "duration": 227,
    "start_time": "2022-11-15T11:00:28.531Z"
   },
   {
    "duration": 253,
    "start_time": "2022-11-15T11:00:28.760Z"
   },
   {
    "duration": 365,
    "start_time": "2022-11-15T11:00:29.015Z"
   },
   {
    "duration": 279,
    "start_time": "2022-11-15T11:00:29.382Z"
   },
   {
    "duration": 278,
    "start_time": "2022-11-15T11:00:29.663Z"
   },
   {
    "duration": 248,
    "start_time": "2022-11-15T11:00:29.943Z"
   },
   {
    "duration": 246,
    "start_time": "2022-11-15T11:00:30.193Z"
   },
   {
    "duration": 316,
    "start_time": "2022-11-15T11:00:30.441Z"
   },
   {
    "duration": 11,
    "start_time": "2022-11-15T11:00:30.759Z"
   },
   {
    "duration": 35,
    "start_time": "2022-11-15T11:00:30.772Z"
   },
   {
    "duration": 312,
    "start_time": "2022-11-15T11:00:30.809Z"
   },
   {
    "duration": 216,
    "start_time": "2022-11-15T11:00:31.123Z"
   },
   {
    "duration": 14,
    "start_time": "2022-11-15T11:00:31.341Z"
   },
   {
    "duration": 478,
    "start_time": "2022-11-15T11:00:31.357Z"
   },
   {
    "duration": 15,
    "start_time": "2022-11-15T11:00:31.837Z"
   },
   {
    "duration": 226,
    "start_time": "2022-11-15T11:00:31.854Z"
   },
   {
    "duration": 5,
    "start_time": "2022-11-15T11:00:32.082Z"
   },
   {
    "duration": 253,
    "start_time": "2022-11-15T11:00:32.089Z"
   },
   {
    "duration": 9,
    "start_time": "2022-11-15T11:00:32.344Z"
   },
   {
    "duration": 181,
    "start_time": "2022-11-15T11:00:32.355Z"
   },
   {
    "duration": 303,
    "start_time": "2022-11-15T11:00:32.538Z"
   },
   {
    "duration": 177,
    "start_time": "2022-11-15T11:00:32.844Z"
   },
   {
    "duration": 162,
    "start_time": "2022-11-15T11:00:33.023Z"
   },
   {
    "duration": 159,
    "start_time": "2022-11-15T11:00:33.187Z"
   },
   {
    "duration": 158,
    "start_time": "2022-11-15T11:00:33.348Z"
   },
   {
    "duration": 386,
    "start_time": "2022-11-15T11:00:33.508Z"
   },
   {
    "duration": 170,
    "start_time": "2022-11-15T11:00:33.896Z"
   },
   {
    "duration": 13,
    "start_time": "2022-11-15T11:00:34.068Z"
   },
   {
    "duration": 78,
    "start_time": "2022-11-15T11:00:34.083Z"
   },
   {
    "duration": 216,
    "start_time": "2022-11-15T11:00:34.163Z"
   },
   {
    "duration": 1244,
    "start_time": "2022-11-15T11:00:34.381Z"
   },
   {
    "duration": 0,
    "start_time": "2022-11-15T11:00:35.627Z"
   },
   {
    "duration": 0,
    "start_time": "2022-11-15T11:00:35.628Z"
   },
   {
    "duration": 12,
    "start_time": "2022-11-15T11:01:08.825Z"
   },
   {
    "duration": 195,
    "start_time": "2022-11-15T11:01:14.568Z"
   },
   {
    "duration": 183,
    "start_time": "2022-11-15T11:01:20.879Z"
   },
   {
    "duration": 165,
    "start_time": "2022-11-15T11:02:50.975Z"
   },
   {
    "duration": 13,
    "start_time": "2022-11-15T11:02:51.320Z"
   },
   {
    "duration": 1122,
    "start_time": "2022-11-15T14:17:22.524Z"
   },
   {
    "duration": 192,
    "start_time": "2022-11-15T14:17:23.648Z"
   },
   {
    "duration": 24,
    "start_time": "2022-11-15T14:17:23.841Z"
   },
   {
    "duration": 2905,
    "start_time": "2022-11-15T14:17:23.868Z"
   },
   {
    "duration": 181,
    "start_time": "2022-11-15T14:17:26.775Z"
   },
   {
    "duration": 8,
    "start_time": "2022-11-15T14:17:26.958Z"
   },
   {
    "duration": 7,
    "start_time": "2022-11-15T14:17:26.967Z"
   },
   {
    "duration": 10,
    "start_time": "2022-11-15T14:17:26.976Z"
   },
   {
    "duration": 10,
    "start_time": "2022-11-15T14:17:26.988Z"
   },
   {
    "duration": 18,
    "start_time": "2022-11-15T14:17:27.001Z"
   },
   {
    "duration": 9,
    "start_time": "2022-11-15T14:17:27.021Z"
   },
   {
    "duration": 15,
    "start_time": "2022-11-15T14:17:27.032Z"
   },
   {
    "duration": 303,
    "start_time": "2022-11-15T14:17:27.048Z"
   },
   {
    "duration": 201,
    "start_time": "2022-11-15T14:17:27.352Z"
   },
   {
    "duration": 5,
    "start_time": "2022-11-15T14:17:27.554Z"
   },
   {
    "duration": 6,
    "start_time": "2022-11-15T14:17:27.561Z"
   },
   {
    "duration": 8,
    "start_time": "2022-11-15T14:17:27.568Z"
   },
   {
    "duration": 10,
    "start_time": "2022-11-15T14:17:27.577Z"
   },
   {
    "duration": 7,
    "start_time": "2022-11-15T14:17:27.588Z"
   },
   {
    "duration": 32,
    "start_time": "2022-11-15T14:17:27.596Z"
   },
   {
    "duration": 4,
    "start_time": "2022-11-15T14:17:27.630Z"
   },
   {
    "duration": 211,
    "start_time": "2022-11-15T14:17:27.635Z"
   },
   {
    "duration": 10,
    "start_time": "2022-11-15T14:17:27.848Z"
   },
   {
    "duration": 174,
    "start_time": "2022-11-15T14:17:27.860Z"
   },
   {
    "duration": 10,
    "start_time": "2022-11-15T14:17:28.036Z"
   },
   {
    "duration": 11,
    "start_time": "2022-11-15T14:17:28.048Z"
   },
   {
    "duration": 236,
    "start_time": "2022-11-15T14:17:28.061Z"
   },
   {
    "duration": 200,
    "start_time": "2022-11-15T14:17:28.301Z"
   },
   {
    "duration": 25,
    "start_time": "2022-11-15T14:17:28.502Z"
   },
   {
    "duration": 5,
    "start_time": "2022-11-15T14:17:28.529Z"
   },
   {
    "duration": 15,
    "start_time": "2022-11-15T14:17:28.535Z"
   },
   {
    "duration": 4,
    "start_time": "2022-11-15T14:17:28.552Z"
   },
   {
    "duration": 11,
    "start_time": "2022-11-15T14:17:28.557Z"
   },
   {
    "duration": 76,
    "start_time": "2022-11-15T14:17:28.569Z"
   },
   {
    "duration": 5,
    "start_time": "2022-11-15T14:17:28.646Z"
   },
   {
    "duration": 8,
    "start_time": "2022-11-15T14:17:28.653Z"
   },
   {
    "duration": 10,
    "start_time": "2022-11-15T14:17:28.662Z"
   },
   {
    "duration": 8,
    "start_time": "2022-11-15T14:17:28.673Z"
   },
   {
    "duration": 8,
    "start_time": "2022-11-15T14:17:28.682Z"
   },
   {
    "duration": 16,
    "start_time": "2022-11-15T14:17:28.691Z"
   },
   {
    "duration": 12,
    "start_time": "2022-11-15T14:17:28.727Z"
   },
   {
    "duration": 13,
    "start_time": "2022-11-15T14:17:28.741Z"
   },
   {
    "duration": 10,
    "start_time": "2022-11-15T14:17:28.755Z"
   },
   {
    "duration": 8,
    "start_time": "2022-11-15T14:17:28.767Z"
   },
   {
    "duration": 143,
    "start_time": "2022-11-15T14:17:28.776Z"
   },
   {
    "duration": 10,
    "start_time": "2022-11-15T14:17:28.926Z"
   },
   {
    "duration": 16,
    "start_time": "2022-11-15T14:17:28.937Z"
   },
   {
    "duration": 9,
    "start_time": "2022-11-15T14:17:28.955Z"
   },
   {
    "duration": 7,
    "start_time": "2022-11-15T14:17:28.965Z"
   },
   {
    "duration": 8,
    "start_time": "2022-11-15T14:17:28.974Z"
   },
   {
    "duration": 101,
    "start_time": "2022-11-15T14:17:28.983Z"
   },
   {
    "duration": 16,
    "start_time": "2022-11-15T14:17:29.086Z"
   },
   {
    "duration": 10,
    "start_time": "2022-11-15T14:17:29.104Z"
   },
   {
    "duration": 8,
    "start_time": "2022-11-15T14:17:29.126Z"
   },
   {
    "duration": 11,
    "start_time": "2022-11-15T14:17:29.136Z"
   },
   {
    "duration": 10,
    "start_time": "2022-11-15T14:17:29.148Z"
   },
   {
    "duration": 10,
    "start_time": "2022-11-15T14:17:29.160Z"
   },
   {
    "duration": 18,
    "start_time": "2022-11-15T14:17:29.171Z"
   },
   {
    "duration": 36,
    "start_time": "2022-11-15T14:17:29.191Z"
   },
   {
    "duration": 14,
    "start_time": "2022-11-15T14:17:29.229Z"
   },
   {
    "duration": 303,
    "start_time": "2022-11-15T14:17:29.245Z"
   },
   {
    "duration": 4,
    "start_time": "2022-11-15T14:17:29.549Z"
   },
   {
    "duration": 208,
    "start_time": "2022-11-15T14:17:29.555Z"
   },
   {
    "duration": 215,
    "start_time": "2022-11-15T14:17:29.764Z"
   },
   {
    "duration": 221,
    "start_time": "2022-11-15T14:17:29.981Z"
   },
   {
    "duration": 199,
    "start_time": "2022-11-15T14:17:30.203Z"
   },
   {
    "duration": 297,
    "start_time": "2022-11-15T14:17:30.404Z"
   },
   {
    "duration": 206,
    "start_time": "2022-11-15T14:17:30.703Z"
   },
   {
    "duration": 212,
    "start_time": "2022-11-15T14:17:30.910Z"
   },
   {
    "duration": 183,
    "start_time": "2022-11-15T14:17:31.125Z"
   },
   {
    "duration": 201,
    "start_time": "2022-11-15T14:17:31.309Z"
   },
   {
    "duration": 225,
    "start_time": "2022-11-15T14:17:31.512Z"
   },
   {
    "duration": 303,
    "start_time": "2022-11-15T14:17:31.738Z"
   },
   {
    "duration": 198,
    "start_time": "2022-11-15T14:17:32.042Z"
   },
   {
    "duration": 188,
    "start_time": "2022-11-15T14:17:32.241Z"
   },
   {
    "duration": 198,
    "start_time": "2022-11-15T14:17:32.431Z"
   },
   {
    "duration": 224,
    "start_time": "2022-11-15T14:17:32.631Z"
   },
   {
    "duration": 305,
    "start_time": "2022-11-15T14:17:32.858Z"
   },
   {
    "duration": 9,
    "start_time": "2022-11-15T14:17:33.164Z"
   },
   {
    "duration": 5,
    "start_time": "2022-11-15T14:17:33.175Z"
   },
   {
    "duration": 284,
    "start_time": "2022-11-15T14:17:33.182Z"
   },
   {
    "duration": 209,
    "start_time": "2022-11-15T14:17:33.472Z"
   },
   {
    "duration": 5,
    "start_time": "2022-11-15T14:17:33.683Z"
   },
   {
    "duration": 336,
    "start_time": "2022-11-15T14:17:33.690Z"
   },
   {
    "duration": 5,
    "start_time": "2022-11-15T14:17:34.028Z"
   },
   {
    "duration": 192,
    "start_time": "2022-11-15T14:17:34.034Z"
   },
   {
    "duration": 6,
    "start_time": "2022-11-15T14:17:34.228Z"
   },
   {
    "duration": 155,
    "start_time": "2022-11-15T14:17:34.236Z"
   },
   {
    "duration": 5,
    "start_time": "2022-11-15T14:17:34.393Z"
   },
   {
    "duration": 130,
    "start_time": "2022-11-15T14:17:34.399Z"
   },
   {
    "duration": 250,
    "start_time": "2022-11-15T14:17:34.531Z"
   },
   {
    "duration": 145,
    "start_time": "2022-11-15T14:17:34.783Z"
   },
   {
    "duration": 136,
    "start_time": "2022-11-15T14:17:34.929Z"
   },
   {
    "duration": 138,
    "start_time": "2022-11-15T14:17:35.067Z"
   },
   {
    "duration": 136,
    "start_time": "2022-11-15T14:17:35.207Z"
   },
   {
    "duration": 372,
    "start_time": "2022-11-15T14:17:35.345Z"
   },
   {
    "duration": 157,
    "start_time": "2022-11-15T14:17:35.719Z"
   },
   {
    "duration": 12,
    "start_time": "2022-11-15T14:17:35.877Z"
   },
   {
    "duration": 54,
    "start_time": "2022-11-15T14:17:35.890Z"
   },
   {
    "duration": 169,
    "start_time": "2022-11-15T14:17:35.946Z"
   },
   {
    "duration": 157,
    "start_time": "2022-11-15T14:17:36.125Z"
   },
   {
    "duration": 149,
    "start_time": "2022-11-15T14:17:36.284Z"
   },
   {
    "duration": 11,
    "start_time": "2022-11-15T14:17:36.435Z"
   }
  ],
  "kernelspec": {
   "display_name": "Python 3 (ipykernel)",
   "language": "python",
   "name": "python3"
  },
  "language_info": {
   "codemirror_mode": {
    "name": "ipython",
    "version": 3
   },
   "file_extension": ".py",
   "mimetype": "text/x-python",
   "name": "python",
   "nbconvert_exporter": "python",
   "pygments_lexer": "ipython3",
   "version": "3.9.12"
  },
  "toc": {
   "base_numbering": 1,
   "nav_menu": {},
   "number_sections": true,
   "sideBar": true,
   "skip_h1_title": true,
   "title_cell": "Table of Contents",
   "title_sidebar": "Contents",
   "toc_cell": false,
   "toc_position": {},
   "toc_section_display": true,
   "toc_window_display": false
  }
 },
 "nbformat": 4,
 "nbformat_minor": 2
}
